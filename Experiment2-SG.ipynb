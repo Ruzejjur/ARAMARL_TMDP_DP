{
 "cells": [
  {
   "cell_type": "markdown",
   "metadata": {},
   "source": [
    "# Q learner with fictitious play"
   ]
  },
  {
   "cell_type": "code",
   "execution_count": 1,
   "metadata": {},
   "outputs": [],
   "source": [
    "import numpy as np\n",
    "\n",
    "from engine import RMG\n",
    "from agent import RandomAgent, IndQLearningAgent, FPLearningAgent"
   ]
  },
  {
   "cell_type": "code",
   "execution_count": 10,
   "metadata": {},
   "outputs": [],
   "source": [
    "N_EXP = 10\n",
    "\n",
    "r0ss = []\n",
    "r1ss = []"
   ]
  },
  {
   "cell_type": "code",
   "execution_count": 11,
   "metadata": {},
   "outputs": [
    {
     "name": "stdout",
     "output_type": "stream",
     "text": [
      "0\n",
      "1\n",
      "2\n",
      "3\n",
      "4\n",
      "5\n",
      "6\n",
      "7\n",
      "8\n",
      "9\n"
     ]
    }
   ],
   "source": [
    "for n in range(N_EXP):\n",
    "\n",
    "    batch_size = 1\n",
    "    max_steps = 20\n",
    "    gamma = 0.96\n",
    "\n",
    "    # Reward matrix for the Stag Hunt game\n",
    "    ipd_rewards = np.array([[2., 1.], [0., 1.]])\n",
    "\n",
    "\n",
    "    env = RMG(max_steps=max_steps, payouts=ipd_rewards, batch_size=batch_size)\n",
    "    env.reset()\n",
    "\n",
    "    possible_actions = [0, 1]  # Cooperate or Defect\n",
    "\n",
    "\n",
    "    adversary, dm = IndQLearningAgent(possible_actions, n_states=1, learning_rate=0.3, epsilon=0.05, gamma=gamma), \\\n",
    "        FPLearningAgent(possible_actions, possible_actions, n_states=1, learning_rate=0.3, epsilon=0.05, gamma=gamma)\n",
    "        \n",
    "\n",
    "\n",
    "    # Stateless interactions (agents do not have memory)\n",
    "    s = 0\n",
    "\n",
    "    n_iter = 1000\n",
    "\n",
    "    r0s = []\n",
    "    r1s = []\n",
    "\n",
    "    for i in range(n_iter):\n",
    "\n",
    "        # A full episode:\n",
    "        done = False\n",
    "\n",
    "        while not done:\n",
    "\n",
    "            # Agents decide\n",
    "            a0 = dm.act()\n",
    "            a1 = adversary.act()\n",
    "\n",
    "            # World changes\n",
    "            _, (r0, r1), done, _ = env.step(([a0], [a1]))\n",
    "\n",
    "            # Agents learn\n",
    "\n",
    "            dm.update(s, (a0, a1), (r0, r1), s )\n",
    "            adversary.update(s, (a1, a0), (r1, r0), s )\n",
    "\n",
    "            #s = new_s  #stateless!\n",
    "\n",
    "            #print(r0, r1)\n",
    "            r0s.append(r0[0])\n",
    "            r1s.append(r1[0])\n",
    "\n",
    "        env.reset()\n",
    "        \n",
    "    print(n)\n",
    "    r0ss.append(r0s)\n",
    "    r1ss.append(r1s)"
   ]
  },
  {
   "cell_type": "code",
   "execution_count": 12,
   "metadata": {},
   "outputs": [],
   "source": [
    "def moving_average(a, n=3) :\n",
    "    ret = np.cumsum(a, dtype=float)\n",
    "    ret[n:] = ret[n:] - ret[:-n]\n",
    "    return ret[n - 1:] / n"
   ]
  },
  {
   "cell_type": "markdown",
   "metadata": {},
   "source": [
    "We report moving avearage of rewards, since it's common in RL taks"
   ]
  },
  {
   "cell_type": "code",
   "execution_count": 14,
   "metadata": {},
   "outputs": [
    {
     "data": {
      "image/png": "[encoded data removed]",
      "text/plain": [
       "<matplotlib.figure.Figure at 0x7faf1ee11b38>"
      ]
     },
     "metadata": {},
     "output_type": "display_data"
    }
   ],
   "source": [
    "%matplotlib inline\n",
    "import matplotlib.pyplot as plt\n",
    "\n",
    "# We set a fancy theme\n",
    "plt.style.use('ggplot')\n",
    "\n",
    "plt.axis([0, max_steps*n_iter, -0.5, 2.5])\n",
    "for i in range(N_EXP):\n",
    "    plt.plot(moving_average(r0ss[i], 100), 'b', alpha=0.05)\n",
    "    plt.plot(moving_average(r1ss[i], 100), 'r', alpha=0.05)\n",
    "    \n",
    "plt.plot(moving_average(np.asarray(r0ss).mean(axis=0), 100), 'b', alpha=0.5)\n",
    "plt.plot(moving_average(np.asarray(r1ss).mean(axis=0), 100), 'r', alpha=0.5)\n",
    "\n",
    "plt.xlabel('t');\n",
    "plt.ylabel('R');\n",
    "\n",
    "from matplotlib.lines import Line2D\n",
    "cmap = plt.cm.coolwarm\n",
    "custom_lines = [Line2D([0], [0], color='b'),\n",
    "                Line2D([0], [0], color='r')]\n",
    "\n",
    "plt.legend(custom_lines,['Agent A', 'Agent B']);\n",
    "\n",
    "plt.savefig('img/FPQvsQ_SH.png')"
   ]
  },
  {
   "cell_type": "code",
   "execution_count": 26,
   "metadata": {},
   "outputs": [
    {
     "data": {
      "image/png": "[encoded data removed]",
      "text/plain": [
       "<matplotlib.figure.Figure at 0x7fa725059588>"
      ]
     },
     "metadata": {},
     "output_type": "display_data"
    }
   ],
   "source": [
    "social_utility = 0.5*(np.asarray(r0ss).mean(axis=0) + np.asarray(r1ss).mean(axis=0))\n",
    "\n",
    "plt.axis([0, max_steps*n_iter, -0.5, 2.5])\n",
    "plt.plot(moving_average(social_utility, max_steps), 'g')\n",
    "plt.xlabel('t');\n",
    "plt.ylabel('$ \\dfrac{R_A + R_B}{2} $');"
   ]
  },
  {
   "cell_type": "code",
   "execution_count": 7,
   "metadata": {},
   "outputs": [
    {
     "data": {
      "text/plain": [
       "array([[[48.73114288, 46.73070834],\n",
       "        [47.73073428, 46.39403525]]])"
      ]
     },
     "execution_count": 7,
     "metadata": {},
     "output_type": "execute_result"
    }
   ],
   "source": [
    "dm.Q"
   ]
  },
  {
   "cell_type": "code",
   "execution_count": 8,
   "metadata": {},
   "outputs": [
    {
     "data": {
      "text/plain": [
       "array([[[48.75764715, 46.76033506],\n",
       "        [47.76388048, 46.40207675]]])"
      ]
     },
     "execution_count": 8,
     "metadata": {},
     "output_type": "execute_result"
    }
   ],
   "source": [
    "adversary.Q"
   ]
  },
  {
   "cell_type": "code",
   "execution_count": null,
   "metadata": {},
   "outputs": [],
   "source": []
  }
 ],
 "metadata": {
  "kernelspec": {
   "display_name": "Python [default]",
   "language": "python",
   "name": "python3"
  },
  "language_info": {
   "codemirror_mode": {
    "name": "ipython",
    "version": 3
   },
   "file_extension": ".py",
   "mimetype": "text/x-python",
   "name": "python",
   "nbconvert_exporter": "python",
   "pygments_lexer": "ipython3",
   "version": "3.6.0"
  }
 },
 "nbformat": 4,
 "nbformat_minor": 2
}
