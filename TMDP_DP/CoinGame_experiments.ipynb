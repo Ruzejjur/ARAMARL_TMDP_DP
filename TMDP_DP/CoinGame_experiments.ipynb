{
 "cells": [
  {
   "cell_type": "code",
   "execution_count": 1,
   "id": "2fa22979",
   "metadata": {},
   "outputs": [
    {
     "name": "stdout",
     "output_type": "stream",
     "text": [
      "2025-07-30 11:31:46,080 - INFO - Agents package successfully initialized.\n"
     ]
    }
   ],
   "source": [
    "# Import necessary functions\n",
    "import os\n",
    "import logging\n",
    "import sys\n",
    "import time\n",
    "import numpy as np\n",
    "import yaml\n",
    "from pprint import pprint  # For better printing of the config dictionary\n",
    "from IPython.display import Image, Video, display\n",
    "\n",
    "# Directing log messages of level INFO and higher to the console.\n",
    "logging.basicConfig(\n",
    "    level=logging.INFO,\n",
    "    format='%(asctime)s - %(levelname)s - %(message)s',\n",
    "    stream=sys.stdout,  # Explicitly direct logs to standard output\n",
    "    force=True # Overude jupyter kernel logging settings\n",
    ")\n",
    "\n",
    "from experiment_runner import load_config, run_experiment\n",
    "from utils.plot_utils import animate_trajectory_from_log, plot"
   ]
  },
  {
   "cell_type": "code",
   "execution_count": 2,
   "id": "bc40fb23",
   "metadata": {},
   "outputs": [
    {
     "name": "stdout",
     "output_type": "stream",
     "text": [
      "2025-07-29 18:10:40,286 - INFO - Results for this run will be saved in: results/LevelK_MDP_DP_Agent_Stationary_vs_LevelK_TMDP_DP_Agent_Stationary_2025-07-29_18-10-40\n"
     ]
    },
    {
     "data": {
      "application/vnd.jupyter.widget-view+json": {
       "model_id": "8586849b95b6466b8a847d320db2a697",
       "version_major": 2,
       "version_minor": 0
      },
      "text/plain": [
       "Experiment runs:   0%|          | 0/1 [00:00<?, ?it/s]"
      ]
     },
     "metadata": {},
     "output_type": "display_data"
    },
    {
     "name": "stdout",
     "output_type": "stream",
     "text": [
      "2025-07-29 18:10:40,364 - INFO - Running experiment 1/1 with seed: 42\n"
     ]
    },
    {
     "data": {
      "application/vnd.jupyter.widget-view+json": {
       "model_id": "0a9422e63d7b4e2b9662127964e8dfe0",
       "version_major": 2,
       "version_minor": 0
      },
      "text/plain": [
       "Initializing value function.:   0%|          | 0/810000 [00:00<?, ?it/s]"
      ]
     },
     "metadata": {},
     "output_type": "display_data"
    },
    {
     "data": {
      "application/vnd.jupyter.widget-view+json": {
       "model_id": "05045acc46b04f70a6358b62d01974cb",
       "version_major": 2,
       "version_minor": 0
      },
      "text/plain": [
       "Pre-computing lookups for Level-1 DP Agent (Player DM):   0%|          | 0/810000 [00:00<?, ?it/s]"
      ]
     },
     "metadata": {},
     "output_type": "display_data"
    },
    {
     "ename": "KeyboardInterrupt",
     "evalue": "",
     "output_type": "error",
     "traceback": [
      "\u001b[31m---------------------------------------------------------------------------\u001b[39m",
      "\u001b[31mKeyboardInterrupt\u001b[39m                         Traceback (most recent call last)",
      "\u001b[36mCell\u001b[39m\u001b[36m \u001b[39m\u001b[32mIn[2]\u001b[39m\u001b[32m, line 5\u001b[39m\n\u001b[32m      2\u001b[39m config_file = \u001b[33m'\u001b[39m\u001b[33mconfigs/config.yaml\u001b[39m\u001b[33m'\u001b[39m\n\u001b[32m      3\u001b[39m config = load_config(config_file)\n\u001b[32m----> \u001b[39m\u001b[32m5\u001b[39m results_path = \u001b[43mrun_experiment\u001b[49m\u001b[43m(\u001b[49m\u001b[43mconfig\u001b[49m\u001b[43m,\u001b[49m\u001b[43m \u001b[49m\u001b[43mlog_trajectory\u001b[49m\u001b[43m=\u001b[49m\u001b[38;5;28;43;01mTrue\u001b[39;49;00m\u001b[43m)\u001b[49m\n",
      "\u001b[36mFile \u001b[39m\u001b[32m~/Github/ARAMARL_TMDP_DP/TMDP_DP/experiment_runner.py:367\u001b[39m, in \u001b[36mrun_experiment\u001b[39m\u001b[34m(config, log_trajectory)\u001b[39m\n\u001b[32m    364\u001b[39m p2_is_offline_solver = agent_configs[\u001b[33m'\u001b[39m\u001b[33mplayer_2\u001b[39m\u001b[33m'\u001b[39m][\u001b[33m'\u001b[39m\u001b[33mclass\u001b[39m\u001b[33m'\u001b[39m] \u001b[38;5;129;01min\u001b[39;00m offline_solver_classes\n\u001b[32m    366\u001b[39m \u001b[38;5;28;01mif\u001b[39;00m \u001b[38;5;129;01mnot\u001b[39;00m p1_is_offline_solver \u001b[38;5;129;01mand\u001b[39;00m \u001b[38;5;129;01mnot\u001b[39;00m p2_is_offline_solver:\n\u001b[32m--> \u001b[39m\u001b[32m367\u001b[39m     p1 = \u001b[43mcreate_agent\u001b[49m\u001b[43m(\u001b[49m\u001b[43mp1_params\u001b[49m\u001b[43m,\u001b[49m\u001b[43m \u001b[49m\u001b[43mcommon_agent_params\u001b[49m\u001b[43m)\u001b[49m\n\u001b[32m    369\u001b[39m     p2 = create_agent(p2_params, common_agent_params)\n\u001b[32m    371\u001b[39m \u001b[38;5;66;03m# If one of the agents is of class DPAgent_PerfectModel\u001b[39;00m\n\u001b[32m    372\u001b[39m \u001b[38;5;28;01melse\u001b[39;00m:\n",
      "\u001b[36mFile \u001b[39m\u001b[32m~/Github/ARAMARL_TMDP_DP/TMDP_DP/experiment_runner.py:113\u001b[39m, in \u001b[36mcreate_agent\u001b[39m\u001b[34m(agent_config, common_params)\u001b[39m\n\u001b[32m    109\u001b[39m \u001b[38;5;66;03m# Filter the provided parameters to only include those expected by the constructor.\u001b[39;00m\n\u001b[32m    110\u001b[39m \u001b[38;5;66;03m# This prevents errors from passing unexpected arguments (e.g., 'epsilon_decay_agent').\u001b[39;00m\n\u001b[32m    111\u001b[39m valid_params = {k: v \u001b[38;5;28;01mfor\u001b[39;00m k, v \u001b[38;5;129;01min\u001b[39;00m full_params.items() \u001b[38;5;28;01mif\u001b[39;00m k \u001b[38;5;129;01min\u001b[39;00m sig.parameters}\n\u001b[32m--> \u001b[39m\u001b[32m113\u001b[39m \u001b[38;5;28;01mreturn\u001b[39;00m \u001b[43mAgentClass\u001b[49m\u001b[43m(\u001b[49m\u001b[43m*\u001b[49m\u001b[43m*\u001b[49m\u001b[43mvalid_params\u001b[49m\u001b[43m)\u001b[49m\n",
      "\u001b[36mFile \u001b[39m\u001b[32m~/Github/ARAMARL_TMDP_DP/TMDP_DP/agents/tmdp_dp.py:294\u001b[39m, in \u001b[36mLevelK_TMDP_DP_Agent_Stationary.__init__\u001b[39m\u001b[34m(self, k, action_space, opponent_action_space, lower_level_k_epsilon, n_states, epsilon, gamma, initial_V_value, player_id, env)\u001b[39m\n\u001b[32m    291\u001b[39m     \u001b[38;5;28;01mraise\u001b[39;00m \u001b[38;5;167;01mValueError\u001b[39;00m(\u001b[33m\"\u001b[39m\u001b[33mLevel k must be a positive integer.\u001b[39m\u001b[33m\"\u001b[39m)\n\u001b[32m    293\u001b[39m \u001b[38;5;66;03m# Call the base class constructor to handle all common setup.\u001b[39;00m\n\u001b[32m--> \u001b[39m\u001b[32m294\u001b[39m \u001b[38;5;28;43msuper\u001b[39;49m\u001b[43m(\u001b[49m\u001b[43m)\u001b[49m\u001b[43m.\u001b[49m\u001b[34;43m__init__\u001b[39;49m\u001b[43m(\u001b[49m\u001b[43mk\u001b[49m\u001b[43m,\u001b[49m\u001b[43m \u001b[49m\u001b[43maction_space\u001b[49m\u001b[43m,\u001b[49m\u001b[43m \u001b[49m\u001b[43mopponent_action_space\u001b[49m\u001b[43m,\u001b[49m\u001b[43m \u001b[49m\u001b[43mlower_level_k_epsilon\u001b[49m\u001b[43m,\u001b[49m\u001b[43m \u001b[49m\u001b[43mn_states\u001b[49m\u001b[43m,\u001b[49m\u001b[43m \u001b[49m\n\u001b[32m    295\u001b[39m \u001b[43m                 \u001b[49m\u001b[43mepsilon\u001b[49m\u001b[43m,\u001b[49m\u001b[43m \u001b[49m\u001b[43mgamma\u001b[49m\u001b[43m,\u001b[49m\u001b[43m \u001b[49m\u001b[43minitial_V_value\u001b[49m\u001b[43m,\u001b[49m\u001b[43m \u001b[49m\u001b[43mplayer_id\u001b[49m\u001b[43m,\u001b[49m\u001b[43m \u001b[49m\u001b[43menv\u001b[49m\u001b[43m)\u001b[49m\n\u001b[32m    297\u001b[39m \u001b[38;5;66;03m# Pre-calculate the state-independent execution probability tensor:\u001b[39;00m\n\u001b[32m    298\u001b[39m \u001b[38;5;66;03m# P(a_self_exec, a_opp_exec | a_self_intend, a_opp_intend)\u001b[39;00m\n\u001b[32m    299\u001b[39m \u001b[38;5;28mself\u001b[39m.prob_exec_tensor = \u001b[38;5;28mself\u001b[39m._calculate_execution_probabilities(env)\n",
      "\u001b[36mFile \u001b[39m\u001b[32m~/Github/ARAMARL_TMDP_DP/TMDP_DP/agents/tmdp_dp.py:99\u001b[39m, in \u001b[36m_BaseLevelK_TMDP_DP_Agent.__init__\u001b[39m\u001b[34m(self, k, action_space, opponent_action_space, lower_level_k_epsilon, n_states, epsilon, gamma, initial_V_value, player_id, env)\u001b[39m\n\u001b[32m     94\u001b[39m \u001b[38;5;28mself\u001b[39m.V = \u001b[38;5;28mself\u001b[39m._setup_value_function(\u001b[38;5;28mself\u001b[39m.initial_V_value)\n\u001b[32m     96\u001b[39m \u001b[38;5;66;03m# Pre-compute (s, a_self_executed, a_opp_executed) -> (s', r) lookup tables.\u001b[39;00m\n\u001b[32m     97\u001b[39m \u001b[38;5;66;03m# These tensors store the outcomes for every state and *executed* action pair\u001b[39;00m\n\u001b[32m     98\u001b[39m \u001b[38;5;66;03m# mapped to resulting s'. \u001b[39;00m\n\u001b[32m---> \u001b[39m\u001b[32m99\u001b[39m \u001b[38;5;28mself\u001b[39m.s_prime_lookup, \u001b[38;5;28mself\u001b[39m.r_lookup  = \u001b[38;5;28;43mself\u001b[39;49m\u001b[43m.\u001b[49m\u001b[43m_precompute_lookups\u001b[49m\u001b[43m(\u001b[49m\u001b[43m)\u001b[49m\n\u001b[32m    101\u001b[39m \u001b[38;5;66;03m# --- Opponent Model Initialization (handled by subclasses) ---\u001b[39;00m\n\u001b[32m    102\u001b[39m \u001b[38;5;28mself\u001b[39m.opponent = \u001b[38;5;28;01mNone\u001b[39;00m\n",
      "\u001b[36mFile \u001b[39m\u001b[32m~/Github/ARAMARL_TMDP_DP/TMDP_DP/agents/tmdp_dp.py:210\u001b[39m, in \u001b[36m_BaseLevelK_TMDP_DP_Agent._precompute_lookups\u001b[39m\u001b[34m(self)\u001b[39m\n\u001b[32m    207\u001b[39m     action_pair = (a_opp_exec, a_self_exec)\n\u001b[32m    209\u001b[39m \u001b[38;5;66;03m# Simulate one step with the specified executed action pair\u001b[39;00m\n\u001b[32m--> \u001b[39m\u001b[32m210\u001b[39m s_prime, rewards_vec, _ = \u001b[38;5;28;43mself\u001b[39;49m\u001b[43m.\u001b[49m\u001b[43menv_snapshot\u001b[49m\u001b[43m.\u001b[49m\u001b[43mstep\u001b[49m\u001b[43m(\u001b[49m\u001b[43maction_pair\u001b[49m\u001b[43m)\u001b[49m\n\u001b[32m    212\u001b[39m \u001b[38;5;66;03m# Store the resulting next state and the reward for this agent\u001b[39;00m\n\u001b[32m    213\u001b[39m s_prime_lookup[s, a_self_exec, a_opp_exec] = s_prime\n",
      "\u001b[36mFile \u001b[39m\u001b[32m~/Github/ARAMARL_TMDP_DP/TMDP_DP/engine_DP.py:367\u001b[39m, in \u001b[36mCoinGame.step\u001b[39m\u001b[34m(self, actions)\u001b[39m\n\u001b[32m    365\u001b[39m candidate_pos = original_pos_0 + \u001b[38;5;28mself\u001b[39m._deltas[actual_move_0]\n\u001b[32m    366\u001b[39m \u001b[38;5;66;03m# Resolve out of bounds movement\u001b[39;00m\n\u001b[32m--> \u001b[39m\u001b[32m367\u001b[39m \u001b[38;5;28;01mif\u001b[39;00m np.any(candidate_pos < \u001b[32m0\u001b[39m) \u001b[38;5;129;01mor\u001b[39;00m \u001b[43mnp\u001b[49m\u001b[43m.\u001b[49m\u001b[43many\u001b[49m\u001b[43m(\u001b[49m\u001b[43mcandidate_pos\u001b[49m\u001b[43m \u001b[49m\u001b[43m>\u001b[49m\u001b[43m=\u001b[49m\u001b[43m \u001b[49m\u001b[38;5;28;43mself\u001b[39;49m\u001b[43m.\u001b[49m\u001b[43mgrid_size\u001b[49m\u001b[43m)\u001b[49m:\n\u001b[32m    368\u001b[39m     reward_0 += \u001b[38;5;28mself\u001b[39m._OUT_OF_BOUNDS_PENALTY_DELTA\n\u001b[32m    369\u001b[39m new_pos_0 = np.clip(candidate_pos, \u001b[32m0\u001b[39m, \u001b[38;5;28mself\u001b[39m.grid_size - \u001b[32m1\u001b[39m)\n",
      "\u001b[36mFile \u001b[39m\u001b[32m/opt/homebrew/Caskroom/miniforge/base/envs/TMDP_DP/lib/python3.13/site-packages/numpy/_core/fromnumeric.py:2579\u001b[39m, in \u001b[36many\u001b[39m\u001b[34m(a, axis, out, keepdims, where)\u001b[39m\n\u001b[32m   2476\u001b[39m \u001b[38;5;129m@array_function_dispatch\u001b[39m(_any_dispatcher)\n\u001b[32m   2477\u001b[39m \u001b[38;5;28;01mdef\u001b[39;00m\u001b[38;5;250m \u001b[39m\u001b[34many\u001b[39m(a, axis=\u001b[38;5;28;01mNone\u001b[39;00m, out=\u001b[38;5;28;01mNone\u001b[39;00m, keepdims=np._NoValue, *, where=np._NoValue):\n\u001b[32m   2478\u001b[39m \u001b[38;5;250m    \u001b[39m\u001b[33;03m\"\"\"\u001b[39;00m\n\u001b[32m   2479\u001b[39m \u001b[33;03m    Test whether any array element along a given axis evaluates to True.\u001b[39;00m\n\u001b[32m   2480\u001b[39m \n\u001b[32m   (...)\u001b[39m\u001b[32m   2577\u001b[39m \n\u001b[32m   2578\u001b[39m \u001b[33;03m    \"\"\"\u001b[39;00m\n\u001b[32m-> \u001b[39m\u001b[32m2579\u001b[39m     \u001b[38;5;28;01mreturn\u001b[39;00m \u001b[43m_wrapreduction_any_all\u001b[49m\u001b[43m(\u001b[49m\u001b[43ma\u001b[49m\u001b[43m,\u001b[49m\u001b[43m \u001b[49m\u001b[43mnp\u001b[49m\u001b[43m.\u001b[49m\u001b[43mlogical_or\u001b[49m\u001b[43m,\u001b[49m\u001b[43m \u001b[49m\u001b[33;43m'\u001b[39;49m\u001b[33;43many\u001b[39;49m\u001b[33;43m'\u001b[39;49m\u001b[43m,\u001b[49m\u001b[43m \u001b[49m\u001b[43maxis\u001b[49m\u001b[43m,\u001b[49m\u001b[43m \u001b[49m\u001b[43mout\u001b[49m\u001b[43m,\u001b[49m\n\u001b[32m   2580\u001b[39m \u001b[43m                                  \u001b[49m\u001b[43mkeepdims\u001b[49m\u001b[43m=\u001b[49m\u001b[43mkeepdims\u001b[49m\u001b[43m,\u001b[49m\u001b[43m \u001b[49m\u001b[43mwhere\u001b[49m\u001b[43m=\u001b[49m\u001b[43mwhere\u001b[49m\u001b[43m)\u001b[49m\n",
      "\u001b[36mFile \u001b[39m\u001b[32m/opt/homebrew/Caskroom/miniforge/base/envs/TMDP_DP/lib/python3.13/site-packages/numpy/_core/fromnumeric.py:102\u001b[39m, in \u001b[36m_wrapreduction_any_all\u001b[39m\u001b[34m(obj, ufunc, method, axis, out, **kwargs)\u001b[39m\n\u001b[32m     99\u001b[39m     \u001b[38;5;28;01melse\u001b[39;00m:\n\u001b[32m    100\u001b[39m         \u001b[38;5;28;01mreturn\u001b[39;00m reduction(axis=axis, out=out, **passkwargs)\n\u001b[32m--> \u001b[39m\u001b[32m102\u001b[39m \u001b[38;5;28;01mreturn\u001b[39;00m \u001b[43mufunc\u001b[49m\u001b[43m.\u001b[49m\u001b[43mreduce\u001b[49m\u001b[43m(\u001b[49m\u001b[43mobj\u001b[49m\u001b[43m,\u001b[49m\u001b[43m \u001b[49m\u001b[43maxis\u001b[49m\u001b[43m,\u001b[49m\u001b[43m \u001b[49m\u001b[38;5;28;43mbool\u001b[39;49m\u001b[43m,\u001b[49m\u001b[43m \u001b[49m\u001b[43mout\u001b[49m\u001b[43m,\u001b[49m\u001b[43m \u001b[49m\u001b[43m*\u001b[49m\u001b[43m*\u001b[49m\u001b[43mpasskwargs\u001b[49m\u001b[43m)\u001b[49m\n",
      "\u001b[31mKeyboardInterrupt\u001b[39m: "
     ]
    }
   ],
   "source": [
    "# Load configuration and run the experiment\n",
    "config_file = 'configs/config.yaml'\n",
    "config = load_config(config_file)\n",
    "\n",
    "results_path = run_experiment(config, log_trajectory=True)"
   ]
  },
  {
   "cell_type": "code",
   "execution_count": 2,
   "id": "6e322763",
   "metadata": {},
   "outputs": [],
   "source": [
    "# Specify the Experiment Run to Analyze\n",
    "# ---------------------------------------------\n",
    "# TODO: The path can be set to the specific, timestamped experiment folder you want to analyze.\n",
    "\n",
    "# --- Select moving average window size for the player reward plots\n",
    "\n",
    "plot_moving_average_window_size = 100\n",
    "\n",
    "# --- Select which trajectory to animate ---\n",
    "# The log is structured as: [experiment_run][episode][step]\n",
    "run_to_animate = -1      # The last experiment run\n",
    "episode_to_animate = -1  # The last episode of that run\n",
    "\n",
    "#results_run_directory = results_path\n",
    "\n",
    "results_run_directory = '/Users/ruzejjur/Github/ARAMARL_TMDP_DP/TMDP_DP/results/LevelK_MDP_DP_Agent_Stationary_vs_LevelK_TMDP_DP_Agent_Stationary_2025-07-29_18-14-50'\n"
   ]
  },
  {
   "cell_type": "code",
   "execution_count": 3,
   "id": "a6f3e0c3",
   "metadata": {},
   "outputs": [
    {
     "name": "stdout",
     "output_type": "stream",
     "text": [
      "2025-07-30 11:31:56,772 - INFO - Loading results from: /Users/ruzejjur/Github/ARAMARL_TMDP_DP/TMDP_DP/results/LevelK_MDP_DP_Agent_Stationary_vs_LevelK_TMDP_DP_Agent_Stationary_2025-07-29_18-14-50\n",
      "2025-07-30 11:31:56,776 - INFO - Configuration file 'config.yaml' loaded successfully.\n",
      "2025-07-30 11:31:56,777 - INFO - \n",
      "--- Experiment Configuration ---\n",
      "{'agent_settings': {'player_1': {'class': 'LevelK_TMDP_DP_Agent_Stationary',\n",
      "                                 'epsilon_decay_agent': {'end': 0.1,\n",
      "                                                         'type': 'linear'},\n",
      "                                 'epsilon_decay_inernal_opponent_model': {'end': 0.1,\n",
      "                                                                          'type': 'linear'},\n",
      "                                 'params': {'epsilon': 1.0,\n",
      "                                            'gamma': 0.95,\n",
      "                                            'initial_V_value': 0,\n",
      "                                            'k': 1,\n",
      "                                            'lower_level_k_epsilon': 0.1}},\n",
      "                    'player_2': {'class': 'LevelK_MDP_DP_Agent_Stationary',\n",
      "                                 'epsilon_decay_agent': {'end': 0.1,\n",
      "                                                         'type': 'linear'},\n",
      "                                 'epsilon_decay_inernal_opponent_model': {'end': 0.1,\n",
      "                                                                          'type': 'linear'},\n",
      "                                 'params': {'epsilon': 1.0,\n",
      "                                            'gamma': 0.95,\n",
      "                                            'initial_V_value': 0,\n",
      "                                            'k': 1,\n",
      "                                            'lower_level_k_epsilon': 0.1}}},\n",
      " 'comment': 'Testing LevelK_MDP_DP_Agent_Stationary vs. '\n",
      "            'LevelK_TMDP_DP_Agent_Stationary to see which implementation '\n",
      "            'performs better. Both are set to the same parameters and level 1. '\n",
      "            'With bigger grid.',\n",
      " 'environment_settings': {'class': 'CoinGame',\n",
      "                          'params': {'grid_size': 15,\n",
      "                                     'max_steps': 20000,\n",
      "                                     'push_distance': 2}},\n",
      " 'experiment_settings': {'name': 'LevelK_MDP_DP_Agent_Stationary_vs_LevelK_TMDP_DP_Agent_Stationary',\n",
      "                         'num_episodes': 10000,\n",
      "                         'num_runs': 1,\n",
      "                         'results_dir': 'results/',\n",
      "                         'run_seed': 42},\n",
      " 'plotting_settings': {'moving_average_window': 1000}}\n",
      "2025-07-30 11:31:56,778 - INFO - --------------------------------\n",
      "2025-07-30 11:31:56,780 - INFO - \n",
      " Reward data loaded successfully. Shape: (1, 10000)\n",
      "2025-07-30 11:32:12,605 - INFO - \n",
      " Trajectory log loaded successfully. Contains 1 run(s).\n"
     ]
    }
   ],
   "source": [
    "# Verify that the directory exists before proceeding\n",
    "if not os.path.isdir(results_run_directory):\n",
    "    raise FileNotFoundError(f\"The specified directory does not exist: {results_run_directory}\")\n",
    "\n",
    "logging.info(f\"Loading results from: {results_run_directory}\")\n",
    "# --- Load Configuration ---\n",
    "config_path = os.path.join(results_run_directory, 'config.yaml')\n",
    "try:\n",
    "    with open(config_path, 'r') as f:\n",
    "        config = yaml.safe_load(f)\n",
    "    logging.info(\"Configuration file 'config.yaml' loaded successfully.\")\n",
    "    # Use pprint for a cleaner print of the configuration dictionary\n",
    "    logging.info(\"\\n--- Experiment Configuration ---\")\n",
    "    pprint(config)\n",
    "    logging.info(\"--------------------------------\")\n",
    "except FileNotFoundError:\n",
    "    logging.error(f\"Configuration file not found at: {config_path}\")\n",
    "    config = None\n",
    "\n",
    "# --- Load Reward Data ---\n",
    "rewards_p1_path = os.path.join(results_run_directory, 'rewards_p1.npy')\n",
    "rewards_p2_path = os.path.join(results_run_directory, 'rewards_p2.npy')\n",
    "try:\n",
    "    # Use np.load to read the saved NumPy array files\n",
    "    rewards_p1 = np.load(rewards_p1_path)\n",
    "    rewards_p2 = np.load(rewards_p2_path)\n",
    "    logging.info(f\"\\n Reward data loaded successfully. Shape: {rewards_p1.shape}\")\n",
    "except FileNotFoundError:\n",
    "    logging.error(\"Reward data (.npy files) not found in the directory.\")\n",
    "\n",
    "    rewards_p1, rewards_p2 = None, None\n",
    "    \n",
    "# --- Load Trajectory Data ---\n",
    "# This will only exist if log_trajectory=True was used for the run.\n",
    "trajectory_path = os.path.join(results_run_directory, 'trajectory_log.npy')\n",
    "try:\n",
    "    trajectory_logs_all_experiments = np.load(trajectory_path, allow_pickle=True)\n",
    "    logging.info(f\"\\n Trajectory log loaded successfully. Contains {len(trajectory_logs_all_experiments)} run(s).\")\n",
    "except FileNotFoundError:\n",
    "    logging.error(\"\\n Trajectory log ('trajectory_log.npy') not found. Was log_trajectory=True set during the run?\")\n",
    "\n",
    "    trajectory_logs_all_experiments = None"
   ]
  },
  {
   "cell_type": "code",
   "execution_count": 4,
   "id": "4599c2ad",
   "metadata": {},
   "outputs": [
    {
     "name": "stdout",
     "output_type": "stream",
     "text": [
      "2025-07-30 11:32:12,623 - INFO - \n",
      "--- Creating reward plot from saved player rewards ---\n"
     ]
    },
    {
     "data": {
      "image/png": "[encoded data removed]",
      "text/plain": [
       "<Figure size 640x480 with 1 Axes>"
      ]
     },
     "metadata": {},
     "output_type": "display_data"
    }
   ],
   "source": [
    "# --- Display the Reward Plot ---\n",
    "# We can either regenerate the plot from the loaded data or simply display the image that was saved.\n",
    "# Displaying the image is faster and guarantees we see the original result.\n",
    "if rewards_p1 is not None and rewards_p2 is not None:\n",
    "    logging.info(\"\\n--- Creating reward plot from saved player rewards ---\")\n",
    "    plot(rewards_p1, rewards_p2, moving_average_window_size=plot_moving_average_window_size)\n",
    "else:\n",
    "    logging.info(\"\\nSkipping plot display as rewards were not not loaded.\")"
   ]
  },
  {
   "cell_type": "code",
   "execution_count": 5,
   "id": "6b7f8fa3",
   "metadata": {},
   "outputs": [
    {
     "name": "stdout",
     "output_type": "stream",
     "text": [
      "2025-07-30 11:32:12,981 - INFO - \n",
      "--- Generating Animation from Trajectory Log ---\n",
      "2025-07-30 11:32:13,378 - INFO - Animation.save using <class 'matplotlib.animation.FFMpegWriter'>\n",
      "2025-07-30 11:32:13,379 - INFO - MovieWriter._run: running command: ffmpeg -f rawvideo -vcodec rawvideo -s 1000x600 -pix_fmt rgba -framerate 2 -loglevel error -i pipe: -vcodec h264 -pix_fmt yuv420p -y trajectory.mp4\n",
      "2025-07-30 11:32:16,502 - INFO - Animation saved as 'trajectory.mp4'\n"
     ]
    },
    {
     "data": {
      "text/html": [
       "<video src=\"trajectory.mp4?cache=1753867936.503695\" controls  >\n",
       "      Your browser does not support the <code>video</code> element.\n",
       "    </video>"
      ],
      "text/plain": [
       "<IPython.core.display.Video object>"
      ]
     },
     "metadata": {},
     "output_type": "display_data"
    }
   ],
   "source": [
    "# --- Animate a Specific Episode from the Trajectory Log ---\n",
    "if trajectory_logs_all_experiments is not None and config is not None:\n",
    "    logging.info(\"\\n--- Generating Animation from Trajectory Log ---\")\n",
    "    \n",
    "    try:\n",
    "        log_for_one_episode = trajectory_logs_all_experiments[run_to_animate][episode_to_animate]\n",
    "        \n",
    "        grid_size = config['environment_settings']['params']['grid_size']\n",
    "        \n",
    "        # Generate the animation from this specific episode's log\n",
    "        animate_trajectory_from_log(log_for_one_episode, grid_size=grid_size, fps=2)\n",
    "        logging.info(\"Animation saved as 'trajectory.mp4'\")\n",
    "        \n",
    "        # Display the generated video in the notebook\n",
    "        display(Video(url=\"trajectory.mp4?cache=\" + str(time.time()), embed=False))\n",
    "        \n",
    "    except (IndexError, TypeError):\n",
    "        IndexError(\"Could not extract the specified trajectory log. Check if the run/episode index is valid.\")\n",
    "\n",
    "else:\n",
    "    logging.info(\"\\nSkipping animation as trajectory data or config was not loaded.\")"
   ]
  }
 ],
 "metadata": {
  "kernelspec": {
   "display_name": "TMDP_DP",
   "language": "python",
   "name": "python3"
  },
  "language_info": {
   "codemirror_mode": {
    "name": "ipython",
    "version": 3
   },
   "file_extension": ".py",
   "mimetype": "text/x-python",
   "name": "python",
   "nbconvert_exporter": "python",
   "pygments_lexer": "ipython3",
   "version": "3.13.1"
  }
 },
 "nbformat": 4,
 "nbformat_minor": 5
}
