{
 "cells": [
  {
   "cell_type": "code",
   "execution_count": 3,
   "id": "2fa22979",
   "metadata": {},
   "outputs": [],
   "source": [
    "# Import necessary functions\n",
    "import os\n",
    "import logging\n",
    "import sys\n",
    "import numpy as np\n",
    "import yaml\n",
    "from pprint import pprint  # For better printing of the config dictionary\n",
    "\n",
    "from experiment_runner import load_config, run_experiment\n",
    "from IPython.display import Image, Video, display\n",
    "import time\n",
    "\n",
    "# Directing log messages of level INFO and higher to the console.\n",
    "logging.basicConfig(\n",
    "    level=logging.INFO,\n",
    "    format='%(asctime)s - %(levelname)s - %(message)s',\n",
    "    stream=sys.stdout,  # Explicitly direct logs to standard output\n",
    "    force=True\n",
    ")\n",
    "\n",
    "from utils.plot_utils import animate_trajectory_from_log"
   ]
  },
  {
   "cell_type": "code",
   "execution_count": 4,
   "id": "bc40fb23",
   "metadata": {},
   "outputs": [
    {
     "name": "stdout",
     "output_type": "stream",
     "text": [
      "2025-07-29 15:41:53,263 - INFO - Results for this run will be saved in: results/Test_2025-07-29_15-41-53\n"
     ]
    },
    {
     "data": {
      "application/vnd.jupyter.widget-view+json": {
       "model_id": "e71c93b43b6a4923b3bf200a1cceeace",
       "version_major": 2,
       "version_minor": 0
      },
      "text/plain": [
       "Experiment runs:   0%|          | 0/5 [00:00<?, ?it/s]"
      ]
     },
     "metadata": {},
     "output_type": "display_data"
    },
    {
     "name": "stdout",
     "output_type": "stream",
     "text": [
      "2025-07-29 15:41:53,268 - INFO - Running experiment 1/5 with seed: 42\n"
     ]
    },
    {
     "data": {
      "application/vnd.jupyter.widget-view+json": {
       "model_id": "75d848a16b5b4a6db9d50b215f99a9f8",
       "version_major": 2,
       "version_minor": 0
      },
      "text/plain": [
       "Initializing value function.:   0%|          | 0/38416 [00:00<?, ?it/s]"
      ]
     },
     "metadata": {},
     "output_type": "display_data"
    },
    {
     "data": {
      "application/vnd.jupyter.widget-view+json": {
       "model_id": "b14706571c284730b83140a9fcacad2e",
       "version_major": 2,
       "version_minor": 0
      },
      "text/plain": [
       "Initializing value function.:   0%|          | 0/38416 [00:00<?, ?it/s]"
      ]
     },
     "metadata": {},
     "output_type": "display_data"
    },
    {
     "data": {
      "application/vnd.jupyter.widget-view+json": {
       "model_id": "91d90eff15844e189f97ad98ac48e6f1",
       "version_major": 2,
       "version_minor": 0
      },
      "text/plain": [
       "Initializing value function.:   0%|          | 0/38416 [00:00<?, ?it/s]"
      ]
     },
     "metadata": {},
     "output_type": "display_data"
    },
    {
     "data": {
      "application/vnd.jupyter.widget-view+json": {
       "model_id": "f4d118cc498245de9ca8fc76a77e56b5",
       "version_major": 2,
       "version_minor": 0
      },
      "text/plain": [
       "Initializing value function.:   0%|          | 0/38416 [00:00<?, ?it/s]"
      ]
     },
     "metadata": {},
     "output_type": "display_data"
    },
    {
     "data": {
      "application/vnd.jupyter.widget-view+json": {
       "model_id": "962e6e7679a44111b73ddde614f89741",
       "version_major": 2,
       "version_minor": 0
      },
      "text/plain": [
       "Epoch for experiment 1:   0%|          | 0/100 [00:00<?, ?it/s]"
      ]
     },
     "metadata": {},
     "output_type": "display_data"
    },
    {
     "name": "stdout",
     "output_type": "stream",
     "text": [
      "2025-07-29 15:41:55,035 - INFO - Running experiment 2/5 with seed: 43\n"
     ]
    },
    {
     "data": {
      "application/vnd.jupyter.widget-view+json": {
       "model_id": "6efc83eb8e3d4140986c6ff0d4ccffa5",
       "version_major": 2,
       "version_minor": 0
      },
      "text/plain": [
       "Initializing value function.:   0%|          | 0/38416 [00:00<?, ?it/s]"
      ]
     },
     "metadata": {},
     "output_type": "display_data"
    },
    {
     "data": {
      "application/vnd.jupyter.widget-view+json": {
       "model_id": "d4d0924a57ff44f393cb5a6d8635d2fc",
       "version_major": 2,
       "version_minor": 0
      },
      "text/plain": [
       "Initializing value function.:   0%|          | 0/38416 [00:00<?, ?it/s]"
      ]
     },
     "metadata": {},
     "output_type": "display_data"
    },
    {
     "data": {
      "application/vnd.jupyter.widget-view+json": {
       "model_id": "d6c80d86bacc463d92ddfbceff3ef4b3",
       "version_major": 2,
       "version_minor": 0
      },
      "text/plain": [
       "Initializing value function.:   0%|          | 0/38416 [00:00<?, ?it/s]"
      ]
     },
     "metadata": {},
     "output_type": "display_data"
    },
    {
     "data": {
      "application/vnd.jupyter.widget-view+json": {
       "model_id": "5a658b5ba61f46ccaa0756b69108a71e",
       "version_major": 2,
       "version_minor": 0
      },
      "text/plain": [
       "Initializing value function.:   0%|          | 0/38416 [00:00<?, ?it/s]"
      ]
     },
     "metadata": {},
     "output_type": "display_data"
    },
    {
     "data": {
      "application/vnd.jupyter.widget-view+json": {
       "model_id": "708f2a2d876b4c62ad1077e77c888fab",
       "version_major": 2,
       "version_minor": 0
      },
      "text/plain": [
       "Epoch for experiment 2:   0%|          | 0/100 [00:00<?, ?it/s]"
      ]
     },
     "metadata": {},
     "output_type": "display_data"
    },
    {
     "name": "stdout",
     "output_type": "stream",
     "text": [
      "2025-07-29 15:41:56,947 - INFO - Running experiment 3/5 with seed: 44\n"
     ]
    },
    {
     "data": {
      "application/vnd.jupyter.widget-view+json": {
       "model_id": "2365327d9dc9450391b2f6276b538af9",
       "version_major": 2,
       "version_minor": 0
      },
      "text/plain": [
       "Initializing value function.:   0%|          | 0/38416 [00:00<?, ?it/s]"
      ]
     },
     "metadata": {},
     "output_type": "display_data"
    },
    {
     "data": {
      "application/vnd.jupyter.widget-view+json": {
       "model_id": "5bbf32011f124d79a88b231265d75fe7",
       "version_major": 2,
       "version_minor": 0
      },
      "text/plain": [
       "Initializing value function.:   0%|          | 0/38416 [00:00<?, ?it/s]"
      ]
     },
     "metadata": {},
     "output_type": "display_data"
    },
    {
     "data": {
      "application/vnd.jupyter.widget-view+json": {
       "model_id": "87d8087b5da24204a1c8e7e6ac72c2b4",
       "version_major": 2,
       "version_minor": 0
      },
      "text/plain": [
       "Initializing value function.:   0%|          | 0/38416 [00:00<?, ?it/s]"
      ]
     },
     "metadata": {},
     "output_type": "display_data"
    },
    {
     "data": {
      "application/vnd.jupyter.widget-view+json": {
       "model_id": "c7d85619c4494883885b6ea44ed9b2b2",
       "version_major": 2,
       "version_minor": 0
      },
      "text/plain": [
       "Initializing value function.:   0%|          | 0/38416 [00:00<?, ?it/s]"
      ]
     },
     "metadata": {},
     "output_type": "display_data"
    },
    {
     "data": {
      "application/vnd.jupyter.widget-view+json": {
       "model_id": "ac41cdb2cae245cf92a010d5fc9a71cb",
       "version_major": 2,
       "version_minor": 0
      },
      "text/plain": [
       "Epoch for experiment 3:   0%|          | 0/100 [00:00<?, ?it/s]"
      ]
     },
     "metadata": {},
     "output_type": "display_data"
    },
    {
     "name": "stdout",
     "output_type": "stream",
     "text": [
      "2025-07-29 15:41:59,114 - INFO - Running experiment 4/5 with seed: 45\n"
     ]
    },
    {
     "data": {
      "application/vnd.jupyter.widget-view+json": {
       "model_id": "ee7f32edee1e44128d607d11c647f668",
       "version_major": 2,
       "version_minor": 0
      },
      "text/plain": [
       "Initializing value function.:   0%|          | 0/38416 [00:00<?, ?it/s]"
      ]
     },
     "metadata": {},
     "output_type": "display_data"
    },
    {
     "data": {
      "application/vnd.jupyter.widget-view+json": {
       "model_id": "06b7eee1929344f8b29cac8211dd6f09",
       "version_major": 2,
       "version_minor": 0
      },
      "text/plain": [
       "Initializing value function.:   0%|          | 0/38416 [00:00<?, ?it/s]"
      ]
     },
     "metadata": {},
     "output_type": "display_data"
    },
    {
     "data": {
      "application/vnd.jupyter.widget-view+json": {
       "model_id": "db389231bbee4da5b3914138026e1165",
       "version_major": 2,
       "version_minor": 0
      },
      "text/plain": [
       "Initializing value function.:   0%|          | 0/38416 [00:00<?, ?it/s]"
      ]
     },
     "metadata": {},
     "output_type": "display_data"
    },
    {
     "data": {
      "application/vnd.jupyter.widget-view+json": {
       "model_id": "872fb6fe5c8a4ffb8235602034bfc722",
       "version_major": 2,
       "version_minor": 0
      },
      "text/plain": [
       "Initializing value function.:   0%|          | 0/38416 [00:00<?, ?it/s]"
      ]
     },
     "metadata": {},
     "output_type": "display_data"
    },
    {
     "data": {
      "application/vnd.jupyter.widget-view+json": {
       "model_id": "722402dcbe414ade96a06ed7fe7cca9a",
       "version_major": 2,
       "version_minor": 0
      },
      "text/plain": [
       "Epoch for experiment 4:   0%|          | 0/100 [00:00<?, ?it/s]"
      ]
     },
     "metadata": {},
     "output_type": "display_data"
    },
    {
     "name": "stdout",
     "output_type": "stream",
     "text": [
      "2025-07-29 15:42:01,028 - INFO - Running experiment 5/5 with seed: 46\n"
     ]
    },
    {
     "data": {
      "application/vnd.jupyter.widget-view+json": {
       "model_id": "5ba496482303471a968813e9952f5308",
       "version_major": 2,
       "version_minor": 0
      },
      "text/plain": [
       "Initializing value function.:   0%|          | 0/38416 [00:00<?, ?it/s]"
      ]
     },
     "metadata": {},
     "output_type": "display_data"
    },
    {
     "data": {
      "application/vnd.jupyter.widget-view+json": {
       "model_id": "a06010a6a7c44207bf5b034529b65a49",
       "version_major": 2,
       "version_minor": 0
      },
      "text/plain": [
       "Initializing value function.:   0%|          | 0/38416 [00:00<?, ?it/s]"
      ]
     },
     "metadata": {},
     "output_type": "display_data"
    },
    {
     "data": {
      "application/vnd.jupyter.widget-view+json": {
       "model_id": "bcde5067efd8411bab17ce7dee2a267c",
       "version_major": 2,
       "version_minor": 0
      },
      "text/plain": [
       "Initializing value function.:   0%|          | 0/38416 [00:00<?, ?it/s]"
      ]
     },
     "metadata": {},
     "output_type": "display_data"
    },
    {
     "data": {
      "application/vnd.jupyter.widget-view+json": {
       "model_id": "9ec4e9da51c84b8aa52eb560bff5d442",
       "version_major": 2,
       "version_minor": 0
      },
      "text/plain": [
       "Initializing value function.:   0%|          | 0/38416 [00:00<?, ?it/s]"
      ]
     },
     "metadata": {},
     "output_type": "display_data"
    },
    {
     "data": {
      "application/vnd.jupyter.widget-view+json": {
       "model_id": "a23bfd928f4242a38a68074af2ecd1c5",
       "version_major": 2,
       "version_minor": 0
      },
      "text/plain": [
       "Epoch for experiment 5:   0%|          | 0/100 [00:00<?, ?it/s]"
      ]
     },
     "metadata": {},
     "output_type": "display_data"
    },
    {
     "name": "stdout",
     "output_type": "stream",
     "text": [
      "2025-07-29 15:42:02,998 - INFO - Plot saved to results/Test_2025-07-29_15-41-53/Test.png\n",
      "2025-07-29 15:42:05,308 - INFO - Rewards for player 1 saved to results/Test_2025-07-29_15-41-53/rewards_p1.npy.\n",
      "2025-07-29 15:42:05,309 - INFO - Rewards for player 2 saved to results/Test_2025-07-29_15-41-53/rewards_p2.npy.\n",
      "2025-07-29 15:42:05,310 - INFO - Configuration saved to results/Test_2025-07-29_15-41-53/config.yaml\n"
     ]
    },
    {
     "data": {
      "image/png": "[encoded data removed]",
      "text/plain": [
       "<Figure size 640x480 with 1 Axes>"
      ]
     },
     "metadata": {
      "needs_background": "light"
     },
     "output_type": "display_data"
    }
   ],
   "source": [
    "# Load configuration and run the experiment\n",
    "config_file = 'configs/config.yaml'\n",
    "config = load_config(config_file)\n",
    "\n",
    "results_path = run_experiment(config, log_trajectory=True)"
   ]
  },
  {
   "cell_type": "code",
   "execution_count": 5,
   "id": "6e322763",
   "metadata": {},
   "outputs": [],
   "source": [
    "# Specify the Experiment Run to Analyze\n",
    "# ---------------------------------------------\n",
    "# TODO: The path can be set to the specific, timestamped experiment folder you want to analyze.\n",
    "\n",
    "#results_run_directory = results_path\n",
    "\n",
    "results_run_directory = '/Users/ruzejjur/Github/ARAMARL_TMDP_DP/TMDP_DP/results/DP_Agent_PerfectModel_vs_ManhattanAgent_Aggressive_2025-07-28_15-35-03'"
   ]
  },
  {
   "cell_type": "code",
   "execution_count": null,
   "id": "a6f3e0c3",
   "metadata": {},
   "outputs": [
    {
     "name": "stdout",
     "output_type": "stream",
     "text": [
      "2025-07-29 15:42:12,998 - INFO - Loading results from: /Users/ruzejjur/Github/ARAMARL_TMDP_DP/TMDP_DP/results/DP_Agent_PerfectModel_vs_ManhattanAgent_Aggressive_2025-07-28_15-35-03\n",
      "2025-07-29 15:42:13,001 - INFO - Configuration file 'config.yaml' loaded successfully.\n",
      "2025-07-29 15:42:13,002 - INFO - \n",
      "--- Experiment Configuration ---\n",
      "{'agent_settings': {'player_1': {'class': 'DPAgent_PerfectModel',\n",
      "                                 'params': {'gamma': 0.95,\n",
      "                                            'initial_V_value': 0,\n",
      "                                            'learning_rate': 0.5,\n",
      "                                            'termination_criterion': 0.001,\n",
      "                                            'value_iteration_max_num_of_iter': 1000}},\n",
      "                    'player_2': {'class': 'ManhattanAgent_Aggressive'}},\n",
      " 'comment': 'Testing classical value iteration against '\n",
      "            'MahattanAgent_Aggresive, this test is going to be compared with '\n",
      "            'run of TMDP_DP_Agent_Perfect model to see if there is any '\n",
      "            'advantage of that implementation.',\n",
      " 'environment_settings': {'class': 'CoinGame',\n",
      "                          'params': {'grid_size': 7,\n",
      "                                     'max_steps': 20000,\n",
      "                                     'push_distance': 2}},\n",
      " 'experiment_settings': {'name': 'DP_Agent_PerfectModel_vs_ManhattanAgent_Aggressive',\n",
      "                         'num_episodes': 10000,\n",
      "                         'num_runs': 5,\n",
      "                         'results_dir': 'results/'},\n",
      " 'plotting_settings': {'moving_average_window': 1000}}\n",
      "2025-07-29 15:42:13,003 - INFO - --------------------------------\n",
      "2025-07-29 15:42:13,006 - INFO - \n",
      " Reward data loaded successfully. Shape: (5, 10000)\n"
     ]
    }
   ],
   "source": [
    "# Verify that the directory exists before proceeding\n",
    "if not os.path.isdir(results_run_directory):\n",
    "    raise FileNotFoundError(f\"The specified directory does not exist: {results_run_directory}\")\n",
    "\n",
    "logging.info(f\"Loading results from: {results_run_directory}\")\n",
    "# --- Load Configuration ---\n",
    "config_path = os.path.join(results_run_directory, 'config.yaml')\n",
    "try:\n",
    "    with open(config_path, 'r') as f:\n",
    "        config = yaml.safe_load(f)\n",
    "    logging.info(\"Configuration file 'config.yaml' loaded successfully.\")\n",
    "    # Use pprint for a cleaner print of the configuration dictionary\n",
    "    logging.info(\"\\n--- Experiment Configuration ---\")\n",
    "    pprint(config)\n",
    "    logging.info(\"--------------------------------\")\n",
    "except FileNotFoundError:\n",
    "    logging.error(f\"Configuration file not found at: {config_path}\")\n",
    "    config = None\n",
    "\n",
    "# --- Load Reward Data ---\n",
    "rewards_p1_path = os.path.join(results_run_directory, 'rewards_p1.npy')\n",
    "rewards_p2_path = os.path.join(results_run_directory, 'rewards_p2.npy')\n",
    "try:\n",
    "    # Use np.load to read the saved NumPy array files\n",
    "    rewards_p1 = np.load(rewards_p1_path)\n",
    "    rewards_p2 = np.load(rewards_p2_path)\n",
    "    logging.info(f\"\\n Reward data loaded successfully. Shape: {rewards_p1.shape}\")\n",
    "except FileNotFoundError:\n",
    "    logging.error(\"Reward data (.npy files) not found in the directory.\")\n",
    "\n",
    "    rewards_p1, rewards_p2 = None, None\n",
    "    \n",
    "# --- Load Trajectory Data ---\n",
    "# This will only exist if log_trajectory=True was used for the run.\n",
    "trajectory_path = os.path.join(results_run_directory, 'trajectory_log.npy')\n",
    "try:\n",
    "    trajectory_logs_all_experiments = np.load(trajectory_path, allow_pickle=True)\n",
    "    logging.info(f\"\\n Trajectory log loaded successfully. Contains {len(trajectory_logs_all_experiments)} run(s).\")\n",
    "except FileNotFoundError:\n",
    "    logging.error(\"\\n Trajectory log ('trajectory_log.npy') not found. Was log_trajectory=True set during the run?\")\n",
    "\n",
    "    trajectory_logs_all_experiments = None"
   ]
  },
  {
   "cell_type": "code",
   "execution_count": null,
   "id": "6b7f8fa3",
   "metadata": {},
   "outputs": [
    {
     "name": "stdout",
     "output_type": "stream",
     "text": [
      "\n",
      "--- Displaying Saved Reward Plot ---\n"
     ]
    },
    {
     "data": {
      "image/png": "[encoded data removed]",
      "text/plain": [
       "<IPython.core.display.Image object>"
      ]
     },
     "metadata": {},
     "output_type": "display_data"
    },
    {
     "name": "stdout",
     "output_type": "stream",
     "text": [
      "\n",
      "--- Generating Animation from Trajectory Log ---\n",
      "Animation saved as 'trajectory.mp4'\n"
     ]
    },
    {
     "data": {
      "text/html": [
       "<video src=\"trajectory.mp4?cache=1753707097.315993\" controls  >\n",
       "      Your browser does not support the <code>video</code> element.\n",
       "    </video>"
      ],
      "text/plain": [
       "<IPython.core.display.Video object>"
      ]
     },
     "metadata": {},
     "output_type": "display_data"
    }
   ],
   "source": [
    "# Visualize the Loaded Data\n",
    "# ---------------------------------\n",
    "# This cell re-creates the plots and animations using the loaded data.\n",
    "\n",
    "# --- 1. Display the Reward Plot ---\n",
    "# We can either regenerate the plot from the loaded data or simply display the image that was saved.\n",
    "# Displaying the image is faster and guarantees we see the original result.\n",
    "if config is not None:\n",
    "    logging.info(\"\\n--- Displaying Saved Reward Plot ---\")\n",
    "    experiment_name = config['experiment_settings']['name']\n",
    "    plot_image_path = os.path.join(results_run_directory, f\"{experiment_name}.png\")\n",
    "    \n",
    "    if os.path.exists(plot_image_path):\n",
    "        display(Image(filename=plot_image_path))\n",
    "    else:\n",
    "        logging.error(\" Plot image not found.\")\n",
    "else:\n",
    "    logging.info(\"\\nSkipping plot display as config was not loaded.\")\n",
    "\n",
    "# --- 2. Animate a Specific Episode from the Trajectory Log ---\n",
    "if trajectory_logs_all_experiments is not None and config is not None:\n",
    "    logging.info(\"\\n--- Generating Animation from Trajectory Log ---\")\n",
    "    \n",
    "    # --- Select which trajectory to animate ---\n",
    "    # The log is structured as: [experiment_run][episode][step]\n",
    "    run_to_animate = -1      # The last experiment run\n",
    "    episode_to_animate = -1  # The last episode of that run\n",
    "    \n",
    "    try:\n",
    "        log_for_one_episode = trajectory_logs_all_experiments[run_to_animate][episode_to_animate]\n",
    "        \n",
    "        grid_size = config['environment_settings']['params']['grid_size']\n",
    "        \n",
    "        # Generate the animation from this specific episode's log\n",
    "        animate_trajectory_from_log(log_for_one_episode, grid_size=grid_size, fps=2)\n",
    "        logging.info(\"Animation saved as 'trajectory.mp4'\")\n",
    "        \n",
    "        # Display the generated video in the notebook\n",
    "        display(Video(url=\"trajectory.mp4?cache=\" + str(time.time()), embed=False))\n",
    "        \n",
    "    except (IndexError, TypeError):\n",
    "        IndexError(\"Could not extract the specified trajectory log. Check if the run/episode index is valid.\")\n",
    "\n",
    "else:\n",
    "    logging.info(\"\\nSkipping animation as trajectory data or config was not loaded.\")"
   ]
  }
 ],
 "metadata": {
  "kernelspec": {
   "display_name": "TMDP_DP",
   "language": "python",
   "name": "python3"
  },
  "language_info": {
   "codemirror_mode": {
    "name": "ipython",
    "version": 3
   },
   "file_extension": ".py",
   "mimetype": "text/x-python",
   "name": "python",
   "nbconvert_exporter": "python",
   "pygments_lexer": "ipython3",
   "version": "3.13.1"
  }
 },
 "nbformat": 4,
 "nbformat_minor": 5
}
