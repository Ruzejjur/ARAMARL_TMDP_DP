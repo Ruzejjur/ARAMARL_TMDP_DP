{
 "cells": [
  {
   "cell_type": "code",
   "execution_count": 1,
   "metadata": {
    "ExecuteTime": {
     "end_time": "2018-12-27T16:26:31.229451Z",
     "start_time": "2018-12-27T16:26:31.008474Z"
    },
    "collapsed": true
   },
   "outputs": [
    {
     "name": "stdout",
     "output_type": "stream",
     "text": [
      "Agents package successfully initialized.\n"
     ]
    }
   ],
   "source": [
    "# Importing necessary libraries\n",
    "import numpy as np\n",
    "\n",
    "import time \n",
    "from IPython.display import Video\n",
    "from tqdm.notebook import tqdm\n",
    "\n",
    "import joblib\n",
    "\n",
    "# Importing custom modules\n",
    "from engine_DP import CoinGame\n",
    "from agents import (\n",
    "    ManhattanAgent, ManhattanAgent_Passive, ManhattanAgent_Aggressive, ManhattanAgent_Ultra_Aggressive,\n",
    "    IndQLearningAgentSoftmax, LevelKQAgent, LevelKQAgentSoftmax,\n",
    "    LevelKDPAgent_Stationary, LevelKDPAgent_NonStationary, LevelKDPAgent_Dynamic, DPAgent_PerfectModel)\n",
    "\n",
    "from utils.exploration_schedule_utils import linear_epsilon_decay\n",
    "from utils.plot_utils import plot, animate_trajectory_from_log"
   ]
  },
  {
   "cell_type": "markdown",
   "metadata": {},
   "source": [
    "## Experiment setup"
   ]
  },
  {
   "cell_type": "code",
   "execution_count": 7,
   "metadata": {},
   "outputs": [],
   "source": [
    "## Setup experiment 1\n",
    "\n",
    "# Number of experiments\n",
    "N_EXP = 1\n",
    "\n",
    "# Size of single dimension of the square grid\n",
    "grid_size = 7\n",
    "\n",
    "# Initialize environment \n",
    "env = CoinGame(max_steps=20000, grid_size=grid_size, push_distance=2)\n",
    "\n",
    "# Number of states \n",
    "n_states = env.n_states\n",
    "\n",
    "# Number of episodes \n",
    "n_iter = 10000\n",
    "\n",
    "# Constant gamma \n",
    "gamma = 0.95\n",
    "\n",
    "# Learning rate\n",
    "learning_rate = 0.5\n",
    "\n",
    "# Moving average window size for plotting \n",
    "moving_average_window_size = 100\n",
    "\n",
    "r0ss = []\n",
    "r1ss = []\n",
    "\n",
    "# Setup parameters for linear decay of exploration parameter\n",
    "epsilon_begin = 1\n",
    "epsilon_end = 0.1\n",
    "\n",
    "\n",
    "# Pre-calculate array of linearly decaying exploration parameter for both agents\n",
    "\n",
    "linear_epsilon_decay_arr = linear_epsilon_decay(epsilon_begin=epsilon_begin, epsilon_end=epsilon_end,n_iter=n_iter)\n",
    "\n"
   ]
  },
  {
   "cell_type": "code",
   "execution_count": null,
   "metadata": {},
   "outputs": [
    {
     "ename": "KeyboardInterrupt",
     "evalue": "",
     "output_type": "error",
     "traceback": [
      "\u001b[31m---------------------------------------------------------------------------\u001b[39m",
      "\u001b[31mKeyboardInterrupt\u001b[39m                         Traceback (most recent call last)",
      "\u001b[36mCell\u001b[39m\u001b[36m \u001b[39m\u001b[32mIn[4]\u001b[39m\u001b[32m, line 44\u001b[39m\n\u001b[32m     41\u001b[39m a2 = P2.act(obs=s)\n\u001b[32m     43\u001b[39m \u001b[38;5;66;03m# Transition to next time step\u001b[39;00m\n\u001b[32m---> \u001b[39m\u001b[32m44\u001b[39m s_new, rewards, done =  \u001b[43menv\u001b[49m\u001b[43m.\u001b[49m\u001b[43mstep\u001b[49m\u001b[43m(\u001b[49m\u001b[43m(\u001b[49m\u001b[43ma1\u001b[49m\u001b[43m,\u001b[49m\u001b[43ma2\u001b[49m\u001b[43m)\u001b[49m\u001b[43m)\u001b[49m\n\u001b[32m     46\u001b[39m \u001b[38;5;66;03m# Agents update their Q/Value functions\u001b[39;00m\n\u001b[32m     47\u001b[39m \u001b[38;5;66;03m# * Note: They update their Q/Value functions simultaneously\u001b[39;00m\n\u001b[32m     48\u001b[39m P1.update(s, (a1, a2), s_new, (rewards[\u001b[32m0\u001b[39m], rewards[\u001b[32m1\u001b[39m]))\n",
      "\u001b[36mFile \u001b[39m\u001b[32m~/Github/ARAMARL_TMDP_DP/TMDP_DP/engine_DP.py:327\u001b[39m, in \u001b[36mCoinGame.step\u001b[39m\u001b[34m(self, actions)\u001b[39m\n\u001b[32m    324\u001b[39m \u001b[38;5;66;03m# --- Action Resolution (Intended vs. Actual) ---\u001b[39;00m\n\u001b[32m    326\u001b[39m actual_move_0, actual_push_0 = \u001b[38;5;28mself\u001b[39m._resolve_action(\u001b[32m0\u001b[39m, action_0)\n\u001b[32m--> \u001b[39m\u001b[32m327\u001b[39m actual_move_1, actual_push_1 = \u001b[38;5;28;43mself\u001b[39;49m\u001b[43m.\u001b[49m\u001b[43m_resolve_action\u001b[49m\u001b[43m(\u001b[49m\u001b[32;43m1\u001b[39;49m\u001b[43m,\u001b[49m\u001b[43m \u001b[49m\u001b[43maction_1\u001b[49m\u001b[43m)\u001b[49m\n\u001b[32m    329\u001b[39m \u001b[38;5;66;03m# --- Resolve Push Attempts ---\u001b[39;00m\n\u001b[32m    331\u001b[39m pushed_0_this_step, pushed_1_this_step = \u001b[38;5;28;01mFalse\u001b[39;00m, \u001b[38;5;28;01mFalse\u001b[39;00m\n",
      "\u001b[36mFile \u001b[39m\u001b[32m~/Github/ARAMARL_TMDP_DP/TMDP_DP/engine_DP.py:148\u001b[39m, in \u001b[36mCoinGame._resolve_action\u001b[39m\u001b[34m(self, player_id, intended_action_id)\u001b[39m\n\u001b[32m    144\u001b[39m exec_prob = \u001b[38;5;28mself\u001b[39m.player_0_execution_prob \u001b[38;5;28;01mif\u001b[39;00m player_id == \u001b[32m0\u001b[39m \u001b[38;5;28;01melse\u001b[39;00m \u001b[38;5;28mself\u001b[39m.player_1_execution_prob\n\u001b[32m    146\u001b[39m \u001b[38;5;66;03m# Evaluate if the intended action is executed or alternative is selected\u001b[39;00m\n\u001b[32m    147\u001b[39m \u001b[38;5;66;03m# Note: Push action is deterministic\u001b[39;00m\n\u001b[32m--> \u001b[39m\u001b[32m148\u001b[39m \u001b[38;5;28;01mif\u001b[39;00m \u001b[43mnp\u001b[49m\u001b[43m.\u001b[49m\u001b[43mrandom\u001b[49m\u001b[43m.\u001b[49m\u001b[43mrand\u001b[49m\u001b[43m(\u001b[49m\u001b[43m)\u001b[49m < exec_prob:\n\u001b[32m    149\u001b[39m     actual_move = intended_move\n\u001b[32m    150\u001b[39m \u001b[38;5;28;01melse\u001b[39;00m:\n",
      "\u001b[31mKeyboardInterrupt\u001b[39m: "
     ]
    }
   ],
   "source": [
    "# Run the experiments\n",
    "for n in range(N_EXP):\n",
    "    \n",
    "    ## Initialize agents\n",
    "    #* Note: The agent's here are reinitialized, instead reset can be done by reseting the Q matrix inside the agent.\n",
    "    \n",
    "    P1 = IndQLearningAgentSoftmax(np.array(range(8)), n_states, learning_rate=learning_rate,\n",
    "                           epsilon=epsilon_begin, gamma=gamma, beta = 1, player_id=0)\n",
    "    \n",
    "    P2 = IndQLearningAgentSoftmax(np.array(range(8)), n_states, learning_rate=learning_rate,\n",
    "                           epsilon=epsilon_begin, gamma=gamma, beta = 1, player_id=1)\n",
    "\n",
    "\n",
    "    # P2 = ExpSmoother(env.available_actions_Adv, env.available_actions_Adv, learning_rate=0.7)\n",
    "    # P2 = RandomAgent( env.available_actions, p=0.5)\n",
    "\n",
    "    \n",
    "    # Reset the reward vectors for the experiment\n",
    "    r0s = []\n",
    "    r1s = []\n",
    "    \n",
    "    # Run through episodes\n",
    "    for i in range(n_iter):\n",
    "\n",
    "        # Initialize the end of episode flag\n",
    "        done = False\n",
    "        # Reset the environment after each episode\n",
    "        env.reset()\n",
    "        # Get the initial state\n",
    "        s = env.get_state()\n",
    "        \n",
    "        # Initialize cummulative observed rewards for this episode\n",
    "        episode_rewards_DM = 0\n",
    "        episode_rewards_Adv = 0\n",
    "        \n",
    "        # While the agents have not reached the terminal state\n",
    "        while not done:\n",
    "            # Agents choose actions \n",
    "            # * Note: They choose the actions simultaneously\n",
    "            a1 = P1.act(obs=s)\n",
    "            a2 = P2.act(obs=s)\n",
    "\n",
    "            # Transition to next time step\n",
    "            s_new, rewards, done =  env.step((a1,a2))\n",
    "\n",
    "            # Agents update their Q/Value functions\n",
    "            # * Note: They update their Q/Value functions simultaneously\n",
    "            P1.update(s, (a1, a2), s_new, (rewards[0], rewards[1]))\n",
    "            P2.update(s, (a2, a1), s_new, (rewards[1], rewards[0]))\n",
    "            \n",
    "            # Set the current state to the new state\n",
    "            s = s_new  \n",
    "            \n",
    "            # Add the observed reward to the episode reward of both agents \n",
    "            # * Note: The rewards are observed simultaneously\n",
    "            episode_rewards_DM += rewards[0]\n",
    "            episode_rewards_Adv += rewards[1]\n",
    "            \n",
    "        # After an epoch apply decay to exploration parameter\n",
    "        P1.epsilon = linear_epsilon_decay_arr[i]\n",
    "        # P1.enemy.epsilon = linear_epsilon_decay_arr[i]\n",
    "        # P1.enemy.enemy.epsilon = linear_epsilon_decay_arr[i]\n",
    "        P2.epsilon = linear_epsilon_decay_arr[i]\n",
    "            \n",
    "        # Append the episode rewards to the list of rewards for this experiment\n",
    "        r0s.append(episode_rewards_DM)\n",
    "        # Append the episode rewards to the list of rewards for this experiment\n",
    "        r1s.append(episode_rewards_Adv)\n",
    "        \n",
    "        env.reset()\n",
    "    \n",
    "          \n",
    "\n",
    "    print(n)\n",
    "    r0ss.append(r0s)\n",
    "    r1ss.append(r1s)\n",
    "    \n",
    "plot(r0ss, r1ss, moving_average_window_size=moving_average_window_size, dir=None)"
   ]
  },
  {
   "cell_type": "code",
   "execution_count": null,
   "metadata": {},
   "outputs": [
    {
     "data": {
      "application/vnd.jupyter.widget-view+json": {
       "model_id": "5e6474a496d34a7da0683b04fc08c8f9",
       "version_major": 2,
       "version_minor": 0
      },
      "text/plain": [
       "Experiments:   0%|          | 0/1 [00:00<?, ?it/s]"
      ]
     },
     "metadata": {},
     "output_type": "display_data"
    },
    {
     "data": {
      "application/vnd.jupyter.widget-view+json": {
       "model_id": "46df7b58e652440c8a8a09e7bcd54010",
       "version_major": 2,
       "version_minor": 0
      },
      "text/plain": [
       "Initializing value function.:   0%|          | 0/38416 [00:00<?, ?it/s]"
      ]
     },
     "metadata": {},
     "output_type": "display_data"
    },
    {
     "data": {
      "application/vnd.jupyter.widget-view+json": {
       "model_id": "354bac014148459682c99f147e44c14d",
       "version_major": 2,
       "version_minor": 0
      },
      "text/plain": [
       "Initializing value function.:   0%|          | 0/38416 [00:00<?, ?it/s]"
      ]
     },
     "metadata": {},
     "output_type": "display_data"
    },
    {
     "data": {
      "application/vnd.jupyter.widget-view+json": {
       "model_id": "a1bcc2de34a34bc8981c1c63bc51cdc5",
       "version_major": 2,
       "version_minor": 0
      },
      "text/plain": [
       "Initializing value function.:   0%|          | 0/38416 [00:00<?, ?it/s]"
      ]
     },
     "metadata": {},
     "output_type": "display_data"
    },
    {
     "data": {
      "application/vnd.jupyter.widget-view+json": {
       "model_id": "c7ee884eefd74fafb17a6064c76a28f5",
       "version_major": 2,
       "version_minor": 0
      },
      "text/plain": [
       "Epochs (Exp 1):   0%|          | 0/10000 [00:00<?, ?it/s]"
      ]
     },
     "metadata": {},
     "output_type": "display_data"
    }
   ],
   "source": [
    "r0ss = []\n",
    "r1ss = []\n",
    "\n",
    "# Total trajectory logs for all experiments\n",
    "trajectory_logs_all_experiments = []\n",
    "\n",
    "# Run the experiments\n",
    "for n in tqdm(range(N_EXP), desc=\"Experiments\"):\n",
    "    \n",
    "    np.random.seed(n)\n",
    "    \n",
    "    ## Initialize agents\n",
    "    # TODO: Add reset method to individual agents and move them to initialization\n",
    "    #* Note: The agent's here are reinitialized, instead reset can be done by reseting the Q matrix inside the agent.\n",
    "    \n",
    "    P1 = LevelKQAgent(k=2, action_space=np.array(range(8)), opponent_action_space=np.array(range(8)),\n",
    "                      n_states=n_states, grid_size=grid_size, learning_rate=learning_rate, epsilon=epsilon_begin, gamma=gamma, player_id=0)\n",
    "    \n",
    "    # P1 = IndQLearningAgentSoftmax(np.array(range(8)), n_states, learning_rate=learning_rate,\n",
    "    #                        epsilon=linear_epsilon_decay_arr[0], gamma=gamma, opponent_action_space=None, beta = 1)\n",
    "\n",
    "    \n",
    "    # P2 = IndQLearningAgentSoftmax(np.array(range(8)), n_states, grid_size=grid_size, learning_rate=learning_rate,\n",
    "    #                        epsilon=epsilon_begin, gamma=gamma, beta = 1, player_id=1)\n",
    "    \n",
    "    # P2 = ManhattanAgent(action_space=np.array(range(8)), coin_location = np.array([env.coin_0_pos, env.player_1_pos]), grid_size = grid_size, player_id = 1)\n",
    "\n",
    "    P2 = LevelKQAgent(k=1, action_space=np.array(range(8)), opponent_action_space=np.array(range(8)),\n",
    "                      n_states=n_states, grid_size=grid_size, learning_rate=learning_rate, epsilon=epsilon_begin, gamma=gamma, player_id=1)\n",
    "    \n",
    "    # Reset the reward vectors for the experiment\n",
    "    r0s = []\n",
    "    r1s = []\n",
    "    \n",
    "    # Trajectory logs for visualization\n",
    "    trajectory_logs_single_experiment = []\n",
    "    \n",
    "    # Run through episodes\n",
    "    for i in tqdm(range(n_iter), desc=f\"Epochs (Exp {n+1})\"):\n",
    "\n",
    "        # Initialize the end of episode flag\n",
    "        done = False\n",
    "        # Reset the environment after each episode\n",
    "        env.reset()\n",
    "        # Get the initial state\n",
    "        s = env.get_state()\n",
    "        # Trajectory log for this episode\n",
    "        trajectory_log_single_epoch = []\n",
    "        \n",
    "        # Log the initial state immediately after env.reset()\n",
    "        trajectory_log_single_epoch.append({\n",
    "            'DM_location_old': [\"None\", \"None\"],\n",
    "            'Adv_location_old': [\"None\", \"None\"],\n",
    "            'DM_location_new': env.player_0_pos.copy(),\n",
    "            'Adv_location_new': env.player_1_pos.copy(),\n",
    "            'coin1': env.coin_0_pos.copy() if env.coin0_available else None,\n",
    "            'coin2': env.coin_1_pos.copy() if env.coin1_available else None, \n",
    "            'action_DM': [\"None\", \"None\"],\n",
    "            'action_Adv': [\"None\", \"None\"],\n",
    "            'reward_DM': None,\n",
    "            'reward_Adv': None,\n",
    "            'state': s, \n",
    "            'experiment': n,\n",
    "            'epoch': i\n",
    "        })\n",
    "\n",
    "        # Initialize cummulative observed rewards for this episode\n",
    "        episode_rewards_DM = 0\n",
    "        episode_rewards_Adv = 0\n",
    "        \n",
    "        # While the agents have not reached the terminal state\n",
    "        while not done:\n",
    "            # Agents choose actions \n",
    "            # * Note: They choose the actions simultaneously\n",
    "            a1 = P1.act(obs=s, env=None)\n",
    "            a2 = P2.act(obs=s, env=None)\n",
    "            \n",
    "            # Save locations for logging before a step is made\n",
    "            DM_location_old = env.player_0_pos.copy()\n",
    "            Adv_location_old = env.player_1_pos.copy()\n",
    "            \n",
    "            # Transition to next time step\n",
    "            s_new, rewards, done =  env.step((a1,a2))\n",
    "\n",
    "            # Agents update their Q/Value functions\n",
    "            # * Note: They update their Q/Value functions simultaneously\n",
    "            P1.update(s, (a1, a2), s_new, (rewards[0], rewards[1]))\n",
    "            P2.update(s, (a1, a2), s_new, (rewards[0], rewards[1]))\n",
    "            \n",
    "            # Set the current state to the new state\n",
    "            s = s_new  \n",
    "            \n",
    "            # Add the observed reward to the episode reward of both agents \n",
    "            # * Note: The rewards are observed simultaneously\n",
    "            episode_rewards_DM += rewards[0]\n",
    "            episode_rewards_Adv += rewards[1]\n",
    "        \n",
    "            # Log state in single episode\n",
    "            trajectory_log_single_epoch.append({\n",
    "                'DM_location_old': DM_location_old,\n",
    "                'Adv_location_old': Adv_location_old,\n",
    "                'DM_location_new': env.player_0_pos.copy(),\n",
    "                'Adv_location_new': env.player_1_pos.copy(),\n",
    "                'coin1': env.coin_0_pos.copy() if env.coin0_available else None,\n",
    "                'coin2': env.coin_1_pos.copy() if env.coin1_available else None, \n",
    "                'action_DM': env.combined_actions[a1],\n",
    "                'action_Adv': env.combined_actions[a2],\n",
    "                'reward_DM': rewards[0],\n",
    "                'reward_Adv': rewards[1],\n",
    "                'experiment': n,\n",
    "                'epoch': i\n",
    "            })\n",
    "            \n",
    "        # Append the episode rewards to the list of rewards for this experiment\n",
    "        r0s.append(episode_rewards_DM)\n",
    "        # Append the episode rewards to the list of rewards for this experiment\n",
    "        r1s.append(episode_rewards_Adv)\n",
    "        \n",
    "        # Append the trajectory log for this epoch to experiment log \n",
    "        trajectory_logs_single_experiment.append(trajectory_log_single_epoch)\n",
    "        \n",
    "        # After an epoch apply decay to exploration parameter\n",
    "\n",
    "        P1.update_epsilon(linear_epsilon_decay_arr[i])\n",
    "        P2.update_epsilon(linear_epsilon_decay_arr[i])\n",
    "        \n",
    "            \n",
    "    # Append the trajectory logs of this experiment to the total logs\n",
    "    trajectory_logs_all_experiments.append(trajectory_logs_single_experiment)\n",
    "    \n",
    "    env.reset() # Reset the environment at the very end\n",
    "    \n",
    "    r0ss.append(r0s)\n",
    "    r1ss.append(r1s)\n",
    "\n",
    "\n",
    "plot(r0ss, r1ss, moving_average_window_size=moving_average_window_size)"
   ]
  },
  {
   "cell_type": "code",
   "execution_count": null,
   "metadata": {},
   "outputs": [
    {
     "data": {
      "application/vnd.jupyter.widget-view+json": {
       "model_id": "6d8c3a64ce504fe2bf2ace0b112e12fc",
       "version_major": 2,
       "version_minor": 0
      },
      "text/plain": [
       "Experiments:   0%|          | 0/3 [00:00<?, ?it/s]"
      ]
     },
     "metadata": {},
     "output_type": "display_data"
    },
    {
     "data": {
      "application/vnd.jupyter.widget-view+json": {
       "model_id": "f015078b99ff4d94a8119bf31868f020",
       "version_major": 2,
       "version_minor": 0
      },
      "text/plain": [
       "Initializing value function.:   0%|          | 0/38416 [00:00<?, ?it/s]"
      ]
     },
     "metadata": {},
     "output_type": "display_data"
    },
    {
     "data": {
      "application/vnd.jupyter.widget-view+json": {
       "model_id": "6b69f34cef5b4821a7dd518346cdf9a5",
       "version_major": 2,
       "version_minor": 0
      },
      "text/plain": [
       "Pre-computing lookups for Level-1 DP Agent (Player Adv):   0%|          | 0/38416 [00:00<?, ?it/s]"
      ]
     },
     "metadata": {},
     "output_type": "display_data"
    },
    {
     "data": {
      "application/vnd.jupyter.widget-view+json": {
       "model_id": "40be79e8e1494aebaea8d2b57247e14a",
       "version_major": 2,
       "version_minor": 0
      },
      "text/plain": [
       "Initializing value function.:   0%|          | 0/38416 [00:00<?, ?it/s]"
      ]
     },
     "metadata": {},
     "output_type": "display_data"
    },
    {
     "data": {
      "application/vnd.jupyter.widget-view+json": {
       "model_id": "590a4ded49d5419c8f760c7912d89c9f",
       "version_major": 2,
       "version_minor": 0
      },
      "text/plain": [
       "Pre-computing lookups for Level-3 DP Agent (Player DM):   0%|          | 0/38416 [00:00<?, ?it/s]"
      ]
     },
     "metadata": {},
     "output_type": "display_data"
    },
    {
     "data": {
      "application/vnd.jupyter.widget-view+json": {
       "model_id": "91c3a5f0af824fa4a9f6c5ac8f90d9cf",
       "version_major": 2,
       "version_minor": 0
      },
      "text/plain": [
       "Initializing value function.:   0%|          | 0/38416 [00:00<?, ?it/s]"
      ]
     },
     "metadata": {},
     "output_type": "display_data"
    },
    {
     "data": {
      "application/vnd.jupyter.widget-view+json": {
       "model_id": "a9cc4c8346d2407bbd00286b40c2f62a",
       "version_major": 2,
       "version_minor": 0
      },
      "text/plain": [
       "Pre-computing lookups for Level-2 DP Agent (Player Adv):   0%|          | 0/38416 [00:00<?, ?it/s]"
      ]
     },
     "metadata": {},
     "output_type": "display_data"
    },
    {
     "data": {
      "application/vnd.jupyter.widget-view+json": {
       "model_id": "29d0a0796ae34ab4ba94810a03dbd449",
       "version_major": 2,
       "version_minor": 0
      },
      "text/plain": [
       "Initializing value function.:   0%|          | 0/38416 [00:00<?, ?it/s]"
      ]
     },
     "metadata": {},
     "output_type": "display_data"
    },
    {
     "data": {
      "application/vnd.jupyter.widget-view+json": {
       "model_id": "7ac713ba511d4c90b558f9540cc1bce7",
       "version_major": 2,
       "version_minor": 0
      },
      "text/plain": [
       "Pre-computing lookups for Level-1 DP Agent (Player DM):   0%|          | 0/38416 [00:00<?, ?it/s]"
      ]
     },
     "metadata": {},
     "output_type": "display_data"
    },
    {
     "data": {
      "application/vnd.jupyter.widget-view+json": {
       "model_id": "59f0b93339dc4c90889f41b9fd0a23f7",
       "version_major": 2,
       "version_minor": 0
      },
      "text/plain": [
       "Epochs (Exp 1):   0%|          | 0/10000 [00:00<?, ?it/s]"
      ]
     },
     "metadata": {},
     "output_type": "display_data"
    },
    {
     "ename": "KeyboardInterrupt",
     "evalue": "",
     "output_type": "error",
     "traceback": [
      "\u001b[31m---------------------------------------------------------------------------\u001b[39m",
      "\u001b[31mKeyboardInterrupt\u001b[39m                         Traceback (most recent call last)",
      "\u001b[36mCell\u001b[39m\u001b[36m \u001b[39m\u001b[32mIn[25]\u001b[39m\u001b[32m, line 151\u001b[39m\n\u001b[32m    147\u001b[39m \u001b[38;5;66;03m# While the agents have not reached the terminal state\u001b[39;00m\n\u001b[32m    148\u001b[39m \u001b[38;5;28;01mwhile\u001b[39;00m \u001b[38;5;129;01mnot\u001b[39;00m done:\n\u001b[32m    149\u001b[39m     \u001b[38;5;66;03m# Agents choose actions \u001b[39;00m\n\u001b[32m    150\u001b[39m     \u001b[38;5;66;03m# * Note: They choose the actions simultaneously\u001b[39;00m\n\u001b[32m--> \u001b[39m\u001b[32m151\u001b[39m     a1 = \u001b[43mP1\u001b[49m\u001b[43m.\u001b[49m\u001b[43mact\u001b[49m\u001b[43m(\u001b[49m\u001b[43mobs\u001b[49m\u001b[43m=\u001b[49m\u001b[43ms\u001b[49m\u001b[43m,\u001b[49m\u001b[43m \u001b[49m\u001b[43menv\u001b[49m\u001b[43m=\u001b[49m\u001b[38;5;28;43;01mNone\u001b[39;49;00m\u001b[43m)\u001b[49m\n\u001b[32m    152\u001b[39m     a2 = P2.act(obs=s, env=\u001b[38;5;28;01mNone\u001b[39;00m)\n\u001b[32m    154\u001b[39m     \u001b[38;5;66;03m# Save locations for logging before a step is made\u001b[39;00m\n",
      "\u001b[36mFile \u001b[39m\u001b[32m~/Github/ARAMARL_TMDP_DP/TMDP_DP/agents/level_k_dp.py:428\u001b[39m, in \u001b[36mLevelKDPAgent_Stationary.act\u001b[39m\u001b[34m(self, obs, env)\u001b[39m\n\u001b[32m    424\u001b[39m \u001b[38;5;28;01mdef\u001b[39;00m\u001b[38;5;250m \u001b[39m\u001b[34mact\u001b[39m(\u001b[38;5;28mself\u001b[39m, obs:State, env=\u001b[38;5;28;01mNone\u001b[39;00m) -> Action:\n\u001b[32m    425\u001b[39m \u001b[38;5;250m    \u001b[39m\u001b[33;03m\"\"\"\u001b[39;00m\n\u001b[32m    426\u001b[39m \u001b[33;03m    Selects an action based on the epsilon-greedy policy.\u001b[39;00m\n\u001b[32m    427\u001b[39m \u001b[33;03m    \"\"\"\u001b[39;00m\n\u001b[32m--> \u001b[39m\u001b[32m428\u001b[39m     policy = \u001b[38;5;28;43mself\u001b[39;49m\u001b[43m.\u001b[49m\u001b[43mget_policy\u001b[49m\u001b[43m(\u001b[49m\u001b[43mobs\u001b[49m\u001b[43m)\u001b[49m\n\u001b[32m    429\u001b[39m     \u001b[38;5;28;01mreturn\u001b[39;00m choice(\u001b[38;5;28mself\u001b[39m.action_space, p=policy)\n",
      "\u001b[36mFile \u001b[39m\u001b[32m~/Github/ARAMARL_TMDP_DP/TMDP_DP/agents/level_k_dp.py:414\u001b[39m, in \u001b[36mLevelKDPAgent_Stationary.get_policy\u001b[39m\u001b[34m(self, obs)\u001b[39m\n\u001b[32m    402\u001b[39m \u001b[38;5;28;01mdef\u001b[39;00m\u001b[38;5;250m \u001b[39m\u001b[34mget_policy\u001b[39m(\u001b[38;5;28mself\u001b[39m, obs: State) -> Policy:\n\u001b[32m    403\u001b[39m \u001b[38;5;250m    \u001b[39m\u001b[33;03m\"\"\"\u001b[39;00m\n\u001b[32m    404\u001b[39m \u001b[33;03m    Calculates agent's own epsilon-greedy policy distribution for a\u001b[39;00m\n\u001b[32m    405\u001b[39m \u001b[33;03m    given state.\u001b[39;00m\n\u001b[32m   (...)\u001b[39m\u001b[32m    411\u001b[39m \u001b[33;03m        np.ndarray: A probability distribution over the agent's actions.\u001b[39;00m\n\u001b[32m    412\u001b[39m \u001b[33;03m    \"\"\"\u001b[39;00m\n\u001b[32m--> \u001b[39m\u001b[32m414\u001b[39m     optimal_action_idx = \u001b[38;5;28;43mself\u001b[39;49m\u001b[43m.\u001b[49m\u001b[43moptim_act\u001b[49m\u001b[43m(\u001b[49m\u001b[43mobs\u001b[49m\u001b[43m)\u001b[49m\n\u001b[32m    415\u001b[39m     num_actions = \u001b[38;5;28mlen\u001b[39m(\u001b[38;5;28mself\u001b[39m.action_space)\n\u001b[32m    417\u001b[39m     \u001b[38;5;66;03m# Assign base exploration probability to all actions.\u001b[39;00m\n",
      "\u001b[36mFile \u001b[39m\u001b[32m~/Github/ARAMARL_TMDP_DP/TMDP_DP/agents/level_k_dp.py:379\u001b[39m, in \u001b[36mLevelKDPAgent_Stationary.optim_act\u001b[39m\u001b[34m(self, obs)\u001b[39m\n\u001b[32m    376\u001b[39m s_primes_executed = \u001b[38;5;28mself\u001b[39m.s_prime_lookup[obs, :, :]\n\u001b[32m    378\u001b[39m \u001b[38;5;66;03m# Calculate the expected future values for all possible next states.\u001b[39;00m\n\u001b[32m--> \u001b[39m\u001b[32m379\u001b[39m future_V_executed = \u001b[38;5;28;43mself\u001b[39;49m\u001b[43m.\u001b[49m\u001b[43m_calculate_expected_future_values\u001b[49m\u001b[43m(\u001b[49m\u001b[43ms_primes_executed\u001b[49m\u001b[43m)\u001b[49m\n\u001b[32m    381\u001b[39m \u001b[38;5;66;03m# Using the transition model, calculate the expected reward for each\u001b[39;00m\n\u001b[32m    382\u001b[39m \u001b[38;5;66;03m# *intended* action pair by marginalizing over the *executed* outcomes.\u001b[39;00m\n\u001b[32m    383\u001b[39m \u001b[38;5;66;03m# 'ijkl,kl->ij' sums over the last two axes (executed actions).\u001b[39;00m\n\u001b[32m    384\u001b[39m expected_self_rewards_intended = np.einsum(\u001b[33m'\u001b[39m\u001b[33mijkl,kl->ij\u001b[39m\u001b[33m'\u001b[39m, \u001b[38;5;28mself\u001b[39m.prob_exec_tensor, rewards_executed)\n",
      "\u001b[36mFile \u001b[39m\u001b[32m~/Github/ARAMARL_TMDP_DP/TMDP_DP/agents/level_k_dp.py:359\u001b[39m, in \u001b[36mLevelKDPAgent_Stationary._calculate_expected_future_values\u001b[39m\u001b[34m(self, s_prime_array)\u001b[39m\n\u001b[32m    354\u001b[39m unique_s_primes, inverse_indices = np.unique(s_prime_array, return_inverse=\u001b[38;5;28;01mTrue\u001b[39;00m)\n\u001b[32m    356\u001b[39m \u001b[38;5;66;03m# Calculate the expected value V(s') for each unique next state s'.\u001b[39;00m\n\u001b[32m    357\u001b[39m \u001b[38;5;66;03m# V(s') = sum over b' [ p(b'|s') * V(s', b') ]\u001b[39;00m\n\u001b[32m    358\u001b[39m expected_V_map = {\n\u001b[32m--> \u001b[39m\u001b[32m359\u001b[39m     s_prime: np.dot(\u001b[38;5;28mself\u001b[39m.V[s_prime, :], \u001b[38;5;28;43mself\u001b[39;49m\u001b[43m.\u001b[49m\u001b[43mget_opponent_policy\u001b[49m\u001b[43m(\u001b[49m\u001b[43ms_prime\u001b[49m\u001b[43m)\u001b[49m)\n\u001b[32m    360\u001b[39m     \u001b[38;5;28;01mfor\u001b[39;00m s_prime \u001b[38;5;129;01min\u001b[39;00m unique_s_primes\n\u001b[32m    361\u001b[39m }\n\u001b[32m    363\u001b[39m \u001b[38;5;66;03m# Map the computed values back to the original array shape\u001b[39;00m\n\u001b[32m    364\u001b[39m expected_V_flat = np.array([expected_V_map.get(s, \u001b[32m0\u001b[39m) \u001b[38;5;28;01mfor\u001b[39;00m s \u001b[38;5;129;01min\u001b[39;00m unique_s_primes])\n",
      "\u001b[36mFile \u001b[39m\u001b[32m~/Github/ARAMARL_TMDP_DP/TMDP_DP/agents/level_k_dp.py:336\u001b[39m, in \u001b[36mLevelKDPAgent_Stationary.get_opponent_policy\u001b[39m\u001b[34m(self, obs)\u001b[39m\n\u001b[32m    332\u001b[39m \u001b[38;5;66;03m# --- Level-k > 1 Agent: Opponent is Level-(k-1) ---\u001b[39;00m\n\u001b[32m    333\u001b[39m \u001b[38;5;28;01melse\u001b[39;00m:\n\u001b[32m    334\u001b[39m     \u001b[38;5;28;01massert\u001b[39;00m \u001b[38;5;28mself\u001b[39m.opponent \u001b[38;5;129;01mis\u001b[39;00m \u001b[38;5;129;01mnot\u001b[39;00m \u001b[38;5;28;01mNone\u001b[39;00m, \u001b[33m\"\u001b[39m\u001b[33mOpponent model must be set for Level > 1 agents.\u001b[39m\u001b[33m\"\u001b[39m\n\u001b[32m--> \u001b[39m\u001b[32m336\u001b[39m     \u001b[38;5;28;01mreturn\u001b[39;00m \u001b[38;5;28;43mself\u001b[39;49m\u001b[43m.\u001b[49m\u001b[43mopponent\u001b[49m\u001b[43m.\u001b[49m\u001b[43mget_policy\u001b[49m\u001b[43m(\u001b[49m\u001b[43mobs\u001b[49m\u001b[43m)\u001b[49m\n",
      "\u001b[36mFile \u001b[39m\u001b[32m~/Github/ARAMARL_TMDP_DP/TMDP_DP/agents/level_k_dp.py:414\u001b[39m, in \u001b[36mLevelKDPAgent_Stationary.get_policy\u001b[39m\u001b[34m(self, obs)\u001b[39m\n\u001b[32m    402\u001b[39m \u001b[38;5;28;01mdef\u001b[39;00m\u001b[38;5;250m \u001b[39m\u001b[34mget_policy\u001b[39m(\u001b[38;5;28mself\u001b[39m, obs: State) -> Policy:\n\u001b[32m    403\u001b[39m \u001b[38;5;250m    \u001b[39m\u001b[33;03m\"\"\"\u001b[39;00m\n\u001b[32m    404\u001b[39m \u001b[33;03m    Calculates agent's own epsilon-greedy policy distribution for a\u001b[39;00m\n\u001b[32m    405\u001b[39m \u001b[33;03m    given state.\u001b[39;00m\n\u001b[32m   (...)\u001b[39m\u001b[32m    411\u001b[39m \u001b[33;03m        np.ndarray: A probability distribution over the agent's actions.\u001b[39;00m\n\u001b[32m    412\u001b[39m \u001b[33;03m    \"\"\"\u001b[39;00m\n\u001b[32m--> \u001b[39m\u001b[32m414\u001b[39m     optimal_action_idx = \u001b[38;5;28;43mself\u001b[39;49m\u001b[43m.\u001b[49m\u001b[43moptim_act\u001b[49m\u001b[43m(\u001b[49m\u001b[43mobs\u001b[49m\u001b[43m)\u001b[49m\n\u001b[32m    415\u001b[39m     num_actions = \u001b[38;5;28mlen\u001b[39m(\u001b[38;5;28mself\u001b[39m.action_space)\n\u001b[32m    417\u001b[39m     \u001b[38;5;66;03m# Assign base exploration probability to all actions.\u001b[39;00m\n",
      "\u001b[36mFile \u001b[39m\u001b[32m~/Github/ARAMARL_TMDP_DP/TMDP_DP/agents/level_k_dp.py:379\u001b[39m, in \u001b[36mLevelKDPAgent_Stationary.optim_act\u001b[39m\u001b[34m(self, obs)\u001b[39m\n\u001b[32m    376\u001b[39m s_primes_executed = \u001b[38;5;28mself\u001b[39m.s_prime_lookup[obs, :, :]\n\u001b[32m    378\u001b[39m \u001b[38;5;66;03m# Calculate the expected future values for all possible next states.\u001b[39;00m\n\u001b[32m--> \u001b[39m\u001b[32m379\u001b[39m future_V_executed = \u001b[38;5;28;43mself\u001b[39;49m\u001b[43m.\u001b[49m\u001b[43m_calculate_expected_future_values\u001b[49m\u001b[43m(\u001b[49m\u001b[43ms_primes_executed\u001b[49m\u001b[43m)\u001b[49m\n\u001b[32m    381\u001b[39m \u001b[38;5;66;03m# Using the transition model, calculate the expected reward for each\u001b[39;00m\n\u001b[32m    382\u001b[39m \u001b[38;5;66;03m# *intended* action pair by marginalizing over the *executed* outcomes.\u001b[39;00m\n\u001b[32m    383\u001b[39m \u001b[38;5;66;03m# 'ijkl,kl->ij' sums over the last two axes (executed actions).\u001b[39;00m\n\u001b[32m    384\u001b[39m expected_self_rewards_intended = np.einsum(\u001b[33m'\u001b[39m\u001b[33mijkl,kl->ij\u001b[39m\u001b[33m'\u001b[39m, \u001b[38;5;28mself\u001b[39m.prob_exec_tensor, rewards_executed)\n",
      "\u001b[36mFile \u001b[39m\u001b[32m~/Github/ARAMARL_TMDP_DP/TMDP_DP/agents/level_k_dp.py:359\u001b[39m, in \u001b[36mLevelKDPAgent_Stationary._calculate_expected_future_values\u001b[39m\u001b[34m(self, s_prime_array)\u001b[39m\n\u001b[32m    354\u001b[39m unique_s_primes, inverse_indices = np.unique(s_prime_array, return_inverse=\u001b[38;5;28;01mTrue\u001b[39;00m)\n\u001b[32m    356\u001b[39m \u001b[38;5;66;03m# Calculate the expected value V(s') for each unique next state s'.\u001b[39;00m\n\u001b[32m    357\u001b[39m \u001b[38;5;66;03m# V(s') = sum over b' [ p(b'|s') * V(s', b') ]\u001b[39;00m\n\u001b[32m    358\u001b[39m expected_V_map = {\n\u001b[32m--> \u001b[39m\u001b[32m359\u001b[39m     s_prime: np.dot(\u001b[38;5;28mself\u001b[39m.V[s_prime, :], \u001b[38;5;28;43mself\u001b[39;49m\u001b[43m.\u001b[49m\u001b[43mget_opponent_policy\u001b[49m\u001b[43m(\u001b[49m\u001b[43ms_prime\u001b[49m\u001b[43m)\u001b[49m)\n\u001b[32m    360\u001b[39m     \u001b[38;5;28;01mfor\u001b[39;00m s_prime \u001b[38;5;129;01min\u001b[39;00m unique_s_primes\n\u001b[32m    361\u001b[39m }\n\u001b[32m    363\u001b[39m \u001b[38;5;66;03m# Map the computed values back to the original array shape\u001b[39;00m\n\u001b[32m    364\u001b[39m expected_V_flat = np.array([expected_V_map.get(s, \u001b[32m0\u001b[39m) \u001b[38;5;28;01mfor\u001b[39;00m s \u001b[38;5;129;01min\u001b[39;00m unique_s_primes])\n",
      "\u001b[36mFile \u001b[39m\u001b[32m~/Github/ARAMARL_TMDP_DP/TMDP_DP/agents/level_k_dp.py:336\u001b[39m, in \u001b[36mLevelKDPAgent_Stationary.get_opponent_policy\u001b[39m\u001b[34m(self, obs)\u001b[39m\n\u001b[32m    332\u001b[39m \u001b[38;5;66;03m# --- Level-k > 1 Agent: Opponent is Level-(k-1) ---\u001b[39;00m\n\u001b[32m    333\u001b[39m \u001b[38;5;28;01melse\u001b[39;00m:\n\u001b[32m    334\u001b[39m     \u001b[38;5;28;01massert\u001b[39;00m \u001b[38;5;28mself\u001b[39m.opponent \u001b[38;5;129;01mis\u001b[39;00m \u001b[38;5;129;01mnot\u001b[39;00m \u001b[38;5;28;01mNone\u001b[39;00m, \u001b[33m\"\u001b[39m\u001b[33mOpponent model must be set for Level > 1 agents.\u001b[39m\u001b[33m\"\u001b[39m\n\u001b[32m--> \u001b[39m\u001b[32m336\u001b[39m     \u001b[38;5;28;01mreturn\u001b[39;00m \u001b[38;5;28;43mself\u001b[39;49m\u001b[43m.\u001b[49m\u001b[43mopponent\u001b[49m\u001b[43m.\u001b[49m\u001b[43mget_policy\u001b[49m\u001b[43m(\u001b[49m\u001b[43mobs\u001b[49m\u001b[43m)\u001b[49m\n",
      "\u001b[36mFile \u001b[39m\u001b[32m~/Github/ARAMARL_TMDP_DP/TMDP_DP/agents/level_k_dp.py:414\u001b[39m, in \u001b[36mLevelKDPAgent_Stationary.get_policy\u001b[39m\u001b[34m(self, obs)\u001b[39m\n\u001b[32m    402\u001b[39m \u001b[38;5;28;01mdef\u001b[39;00m\u001b[38;5;250m \u001b[39m\u001b[34mget_policy\u001b[39m(\u001b[38;5;28mself\u001b[39m, obs: State) -> Policy:\n\u001b[32m    403\u001b[39m \u001b[38;5;250m    \u001b[39m\u001b[33;03m\"\"\"\u001b[39;00m\n\u001b[32m    404\u001b[39m \u001b[33;03m    Calculates agent's own epsilon-greedy policy distribution for a\u001b[39;00m\n\u001b[32m    405\u001b[39m \u001b[33;03m    given state.\u001b[39;00m\n\u001b[32m   (...)\u001b[39m\u001b[32m    411\u001b[39m \u001b[33;03m        np.ndarray: A probability distribution over the agent's actions.\u001b[39;00m\n\u001b[32m    412\u001b[39m \u001b[33;03m    \"\"\"\u001b[39;00m\n\u001b[32m--> \u001b[39m\u001b[32m414\u001b[39m     optimal_action_idx = \u001b[38;5;28;43mself\u001b[39;49m\u001b[43m.\u001b[49m\u001b[43moptim_act\u001b[49m\u001b[43m(\u001b[49m\u001b[43mobs\u001b[49m\u001b[43m)\u001b[49m\n\u001b[32m    415\u001b[39m     num_actions = \u001b[38;5;28mlen\u001b[39m(\u001b[38;5;28mself\u001b[39m.action_space)\n\u001b[32m    417\u001b[39m     \u001b[38;5;66;03m# Assign base exploration probability to all actions.\u001b[39;00m\n",
      "\u001b[36mFile \u001b[39m\u001b[32m~/Github/ARAMARL_TMDP_DP/TMDP_DP/agents/level_k_dp.py:379\u001b[39m, in \u001b[36mLevelKDPAgent_Stationary.optim_act\u001b[39m\u001b[34m(self, obs)\u001b[39m\n\u001b[32m    376\u001b[39m s_primes_executed = \u001b[38;5;28mself\u001b[39m.s_prime_lookup[obs, :, :]\n\u001b[32m    378\u001b[39m \u001b[38;5;66;03m# Calculate the expected future values for all possible next states.\u001b[39;00m\n\u001b[32m--> \u001b[39m\u001b[32m379\u001b[39m future_V_executed = \u001b[38;5;28;43mself\u001b[39;49m\u001b[43m.\u001b[49m\u001b[43m_calculate_expected_future_values\u001b[49m\u001b[43m(\u001b[49m\u001b[43ms_primes_executed\u001b[49m\u001b[43m)\u001b[49m\n\u001b[32m    381\u001b[39m \u001b[38;5;66;03m# Using the transition model, calculate the expected reward for each\u001b[39;00m\n\u001b[32m    382\u001b[39m \u001b[38;5;66;03m# *intended* action pair by marginalizing over the *executed* outcomes.\u001b[39;00m\n\u001b[32m    383\u001b[39m \u001b[38;5;66;03m# 'ijkl,kl->ij' sums over the last two axes (executed actions).\u001b[39;00m\n\u001b[32m    384\u001b[39m expected_self_rewards_intended = np.einsum(\u001b[33m'\u001b[39m\u001b[33mijkl,kl->ij\u001b[39m\u001b[33m'\u001b[39m, \u001b[38;5;28mself\u001b[39m.prob_exec_tensor, rewards_executed)\n",
      "\u001b[36mFile \u001b[39m\u001b[32m~/Github/ARAMARL_TMDP_DP/TMDP_DP/agents/level_k_dp.py:359\u001b[39m, in \u001b[36mLevelKDPAgent_Stationary._calculate_expected_future_values\u001b[39m\u001b[34m(self, s_prime_array)\u001b[39m\n\u001b[32m    354\u001b[39m unique_s_primes, inverse_indices = np.unique(s_prime_array, return_inverse=\u001b[38;5;28;01mTrue\u001b[39;00m)\n\u001b[32m    356\u001b[39m \u001b[38;5;66;03m# Calculate the expected value V(s') for each unique next state s'.\u001b[39;00m\n\u001b[32m    357\u001b[39m \u001b[38;5;66;03m# V(s') = sum over b' [ p(b'|s') * V(s', b') ]\u001b[39;00m\n\u001b[32m    358\u001b[39m expected_V_map = {\n\u001b[32m--> \u001b[39m\u001b[32m359\u001b[39m     s_prime: \u001b[43mnp\u001b[49m\u001b[43m.\u001b[49m\u001b[43mdot\u001b[49m\u001b[43m(\u001b[49m\u001b[38;5;28;43mself\u001b[39;49m\u001b[43m.\u001b[49m\u001b[43mV\u001b[49m\u001b[43m[\u001b[49m\u001b[43ms_prime\u001b[49m\u001b[43m,\u001b[49m\u001b[43m \u001b[49m\u001b[43m:\u001b[49m\u001b[43m]\u001b[49m\u001b[43m,\u001b[49m\u001b[43m \u001b[49m\u001b[38;5;28;43mself\u001b[39;49m\u001b[43m.\u001b[49m\u001b[43mget_opponent_policy\u001b[49m\u001b[43m(\u001b[49m\u001b[43ms_prime\u001b[49m\u001b[43m)\u001b[49m\u001b[43m)\u001b[49m\n\u001b[32m    360\u001b[39m     \u001b[38;5;28;01mfor\u001b[39;00m s_prime \u001b[38;5;129;01min\u001b[39;00m unique_s_primes\n\u001b[32m    361\u001b[39m }\n\u001b[32m    363\u001b[39m \u001b[38;5;66;03m# Map the computed values back to the original array shape\u001b[39;00m\n\u001b[32m    364\u001b[39m expected_V_flat = np.array([expected_V_map.get(s, \u001b[32m0\u001b[39m) \u001b[38;5;28;01mfor\u001b[39;00m s \u001b[38;5;129;01min\u001b[39;00m unique_s_primes])\n",
      "\u001b[36mFile \u001b[39m\u001b[32m/opt/homebrew/Caskroom/miniforge/base/envs/TMDP_DP/lib/python3.13/site-packages/numpy/_core/multiarray.py:769\u001b[39m, in \u001b[36mdot\u001b[39m\u001b[34m(a, b, out)\u001b[39m\n\u001b[32m    700\u001b[39m \u001b[38;5;250m    \u001b[39m\u001b[33;03m\"\"\"\u001b[39;00m\n\u001b[32m    701\u001b[39m \u001b[33;03m    result_type(*arrays_and_dtypes)\u001b[39;00m\n\u001b[32m    702\u001b[39m \n\u001b[32m   (...)\u001b[39m\u001b[32m    764\u001b[39m \n\u001b[32m    765\u001b[39m \u001b[33;03m    \"\"\"\u001b[39;00m\n\u001b[32m    766\u001b[39m     \u001b[38;5;28;01mreturn\u001b[39;00m arrays_and_dtypes\n\u001b[32m--> \u001b[39m\u001b[32m769\u001b[39m \u001b[38;5;129m@array_function_from_c_func_and_dispatcher\u001b[39m(_multiarray_umath.dot)\n\u001b[32m    770\u001b[39m \u001b[38;5;28;01mdef\u001b[39;00m\u001b[38;5;250m \u001b[39m\u001b[34mdot\u001b[39m(a, b, out=\u001b[38;5;28;01mNone\u001b[39;00m):\n\u001b[32m    771\u001b[39m \u001b[38;5;250m    \u001b[39m\u001b[33;03m\"\"\"\u001b[39;00m\n\u001b[32m    772\u001b[39m \u001b[33;03m    dot(a, b, out=None)\u001b[39;00m\n\u001b[32m    773\u001b[39m \n\u001b[32m   (...)\u001b[39m\u001b[32m    859\u001b[39m \n\u001b[32m    860\u001b[39m \u001b[33;03m    \"\"\"\u001b[39;00m\n\u001b[32m    861\u001b[39m     \u001b[38;5;28;01mreturn\u001b[39;00m (a, b, out)\n",
      "\u001b[31mKeyboardInterrupt\u001b[39m: "
     ]
    }
   ],
   "source": [
    "r0ss = []\n",
    "r1ss = []\n",
    "\n",
    "\n",
    "\n",
    "# Run the experiments\n",
    "for n in tqdm(range(N_EXP), desc=\"Experiments\"):\n",
    "    \n",
    "    np.random.seed(n)\n",
    "    \n",
    "    ## Initialize agents\n",
    "    # P2 = IndQLearningAgentSoftmax(np.array(range(8)), n_states, learning_rate=learning_rate,\n",
    "    #                        epsilon=linear_epsilon_decay_arr[0], gamma=gamma, beta = 1)\n",
    "\n",
    "    P2 = LevelKDPAgent_Stationary(\n",
    "        k=1, \n",
    "        action_space=np.array(range(len(env.combined_actions))),\n",
    "        opponent_action_space=np.array(range(len(env.combined_actions))),\n",
    "        n_states=n_states,\n",
    "        epsilon=linear_epsilon_decay_arr[0],\n",
    "        gamma=gamma,\n",
    "        player_id=1,\n",
    "        env=env\n",
    "    ) \n",
    "\n",
    "    # P2 = ExpSmoother(env.available_actions_Adv, env.available_actions_Adv, learning_rate=0.7)\n",
    "    # P2 = RandomAgent( env.available_actions, p=0.5)\n",
    "    \n",
    "    \n",
    "    # P2 = LevelKDPAgent_Stationary(\n",
    "    #     k=2, \n",
    "    #     action_space=np.array(range(len(env.combined_actions))),\n",
    "    #     opponent_action_space=np.array(range(len(env.combined_actions))),\n",
    "    #     n_states=n_states,\n",
    "    #     epsilon=linear_epsilon_decay_arr[0],\n",
    "    #     gamma=gamma,\n",
    "    #     player_id=1,\n",
    "    #     env=env\n",
    "    # ) \n",
    "    \n",
    "    # P2 = ManhattanAgent(action_space=np.array(range(8)), coin_location = np.array([env.coin_0_pos, env.player_1_pos]), grid_size = grid_size, player_id = 1)\n",
    "\n",
    "    # P2 = LevelKDPAgent_Dynamic(\n",
    "    #     k=1, \n",
    "    #     action_space=np.array(range(len(env.combined_actions))),\n",
    "    #     opponent_action_space=np.array(range(len(env.combined_actions))),\n",
    "    #     n_states=n_states,\n",
    "    #     epsilon=linear_epsilon_decay_arr[0],\n",
    "    #     gamma=gamma,\n",
    "    #     player_id=1,\n",
    "    #     env=env\n",
    "    # ) \n",
    "\n",
    "    \n",
    "    # P1 = IndQLearningAgentSoftmax(np.array(range(8)), n_states, learning_rate=learning_rate,\n",
    "    #                        epsilon=linear_epsilon_decay_arr[0], gamma=gamma, opponent_action_space=None, beta = 1)\n",
    "\n",
    "    \n",
    "    P1 = LevelKDPAgent_Stationary(\n",
    "        k=3, \n",
    "        action_space=np.array(range(len(env.combined_actions))),\n",
    "        opponent_action_space=np.array(range(len(env.combined_actions))),\n",
    "        n_states=n_states,\n",
    "        epsilon=linear_epsilon_decay_arr[0],\n",
    "        gamma=gamma,\n",
    "        player_id=0,\n",
    "        env=env\n",
    "    ) \n",
    "    \n",
    "    # P1 = LevelKDPAgent_NonStationary(\n",
    "    #     k=2,\n",
    "    #     action_space=np.array(range(len(env.combined_actions))),\n",
    "    #     opponent_action_space=np.array(range(len(env.combined_actions))),\n",
    "    #     n_states=n_states,\n",
    "    #     epsilon=linear_epsilon_decay_arr[0],\n",
    "    #     gamma=gamma,\n",
    "    #     player_id=0,\n",
    "    #     env=env\n",
    "    # ) \n",
    "    \n",
    "    # P1 = LevelKDPAgent_Dynamic(\n",
    "    #     k=2, \n",
    "    #     action_space=np.array(range(len(env.combined_actions))),\n",
    "    #     opponent_action_space=np.array(range(len(env.combined_actions))),\n",
    "    #     n_states=n_states,\n",
    "    #     epsilon=linear_epsilon_decay_arr[0],\n",
    "    #     gamma=gamma,\n",
    "    #     player_id=0,\n",
    "    #     env=env\n",
    "    # ) \n",
    "    \n",
    "    # P1 = DPAgent_PerfectModel(\n",
    "    #      action_space = np.array(range(len(env.combined_actions))),\n",
    "    #      opponent_action_space = np.array(range(len(env.combined_actions))),\n",
    "    #      n_states=n_states,\n",
    "    #      gamma=gamma,\n",
    "    #      player_id=0,\n",
    "    #      env=env,\n",
    "    #      enemy=P2\n",
    "    # ) \n",
    "    \n",
    "    # P1 = ManhattanAgent(action_space=np.array(range(8)), coin_location = np.array([env.coin_0_pos, env.player_1_pos]), grid_size = grid_size, player_id = 0)\n",
    "\n",
    "\n",
    "    \n",
    "    # Reset the reward vectors for the experiment\n",
    "    r0s = []\n",
    "    r1s = []\n",
    "    \n",
    "    # Trajectory logs for visualization\n",
    "    trajectory_logs_single_experiment = []\n",
    "    \n",
    "    # Run through episodes\n",
    "    for i in tqdm(range(n_iter), desc=f\"Epochs (Exp {n+1})\"):\n",
    "\n",
    "        # Initialize the end of episode flag\n",
    "        done = False\n",
    "        # Reset the environment after each episode\n",
    "        env.reset()\n",
    "        # Get the initial state\n",
    "        s = env.get_state()\n",
    "        # Trajectory log for this episode\n",
    "        trajectory_log_single_epoch = []\n",
    "        \n",
    "        # Log the initial state immediately after env.reset()\n",
    "        trajectory_log_single_epoch.append({\n",
    "            'DM_location_old': [\"None\", \"None\"],\n",
    "            'Adv_location_old': [\"None\", \"None\"],\n",
    "            'DM_location_new': env.player_0_pos.copy(),\n",
    "            'Adv_location_new': env.player_1_pos.copy(),\n",
    "            'coin1': env.coin_0_pos.copy() if env.coin0_available else None,\n",
    "            'coin2': env.coin_1_pos.copy() if env.coin1_available else None, \n",
    "            'action_DM': [\"None\", \"None\"],\n",
    "            'action_Adv': [\"None\", \"None\"],\n",
    "            'reward_DM': None,\n",
    "            'reward_Adv': None,\n",
    "            'state': s, \n",
    "            'experiment': n,\n",
    "            'epoch': i\n",
    "        })\n",
    "\n",
    "        # Initialize cummulative observed rewards for this episode\n",
    "        episode_rewards_DM = 0\n",
    "        episode_rewards_Adv = 0\n",
    "        s_new = env.get_state()\n",
    "        # While the agents have not reached the terminal state\n",
    "        while not done:\n",
    "            # Agents choose actions \n",
    "            # * Note: They choose the actions simultaneously\n",
    "            a1 = P1.act(obs=s, env=None)\n",
    "            a2 = P2.act(obs=s, env=None)\n",
    "            \n",
    "            # Save locations for logging before a step is made\n",
    "            DM_location_old = env.player_0_pos.copy()\n",
    "            Adv_location_old = env.player_1_pos.copy()\n",
    "            \n",
    "            # DP agent performs update before next state is evaluated\n",
    "\n",
    "        \n",
    "            # Transition to next time step\n",
    "            s_new, rewards, done =  env.step((a1,a2))\n",
    "\n",
    "\n",
    "            # Update the Q matrix of adversary\n",
    "            #P1.update(s, (a1, a2), rewards=(rewards[0], rewards[1]), new_obs=s_new)\n",
    "            P1.update(s, (a1, a2), new_obs=s_new, rewards = None)\n",
    "            P2.update(s, (a1, a2), new_obs=s_new, rewards = None)\n",
    "            #P2.update(s, (a1, a2), rewards=[rewards[0],rewards[1]], new_obs=s_new)\n",
    "            \n",
    "            # P2.update(s, (a2, a1), s_new, (rewards[1], rewards[0]))\n",
    "            # P2.update(s, (a1, a2))\n",
    "\n",
    "            \n",
    "            # Set the current state to the new state\n",
    "            s = s_new  \n",
    "            \n",
    "            # Add the observed reward to the episode reward of both agents \n",
    "            # * Note: The rewards are observed simultaneously\n",
    "            episode_rewards_DM += rewards[0]\n",
    "            episode_rewards_Adv += rewards[1]\n",
    "        \n",
    "            # Log state in single episode\n",
    "            trajectory_log_single_epoch.append({\n",
    "                'DM_location_old': DM_location_old,\n",
    "                'Adv_location_old': Adv_location_old,\n",
    "                'DM_location_new': env.player_0_pos.copy(),\n",
    "                'Adv_location_new': env.player_1_pos.copy(),\n",
    "                'coin1': env.coin_0_pos.copy() if env.coin0_available else None,\n",
    "                'coin2': env.coin_1_pos.copy() if env.coin1_available else None, \n",
    "                'action_DM': env.combined_actions[a1],\n",
    "                'action_Adv': env.combined_actions[a2],\n",
    "                'reward_DM': rewards[0],\n",
    "                'reward_Adv': rewards[1],\n",
    "                'experiment': n,\n",
    "                'epoch': i\n",
    "            })\n",
    "            \n",
    "        # Append the episode rewards to the list of rewards for this experiment\n",
    "        r0s.append(episode_rewards_DM)\n",
    "        # Append the episode rewards to the list of rewards for this experiment\n",
    "        r1s.append(episode_rewards_Adv)\n",
    "        \n",
    "        # Append the trajectory log for this epoch to experiment log \n",
    "        trajectory_logs_single_experiment.append(trajectory_log_single_epoch)\n",
    "        \n",
    "        # After an epoch apply decay to exploration parameter\n",
    "        P1.update_epsilon(linear_epsilon_decay_arr[i])\n",
    "        P2.update_epsilon(linear_epsilon_decay_arr[i])\n",
    "        \n",
    "    # Append the trajectory logs of this experiment to the total logs\n",
    "    trajectory_logs_all_experiments.append(trajectory_logs_single_experiment)\n",
    "    \n",
    "    env.reset() # Reset the environment at the very end\n",
    "\n",
    "    r0ss.append(r0s)\n",
    "    r1ss.append(r1s)"
   ]
  },
  {
   "cell_type": "code",
   "execution_count": null,
   "metadata": {},
   "outputs": [
    {
     "name": "stdout",
     "output_type": "stream",
     "text": [
      "Agent P1 successfully loaded from p1_agent.joblib\n",
      "Loaded agent is of type: <class 'agent_DP.DPAgent_PerfectModel'>\n",
      "Loaded agent's level k: 1\n"
     ]
    }
   ],
   "source": [
    "# # This is the filename we'll save the agent to\n",
    "# filename = 'p1_agent.joblib'\n",
    "\n",
    "# # joblib.dump saves the object to the file\n",
    "# joblib.dump(P1, filename)\n",
    "\n",
    "# print(f\"Agent P1 successfully saved to {filename}\")\n",
    "\n",
    "\n",
    "\n",
    "# filename = 'p1_agent.joblib'\n",
    "\n",
    "# # joblib.load reads the object from the file\n",
    "# P1 = joblib.load(filename)\n",
    "\n",
    "# print(f\"Agent P1 successfully loaded from {filename}\")\n",
    "# print(f\"Loaded agent is of type: {type(P1)}\")\n",
    "# print(f\"Loaded agent's level k: {P1.k}\")\n"
   ]
  },
  {
   "cell_type": "code",
   "execution_count": 4,
   "metadata": {},
   "outputs": [
    {
     "data": {
      "image/png": "[encoded data removed]",
      "text/plain": [
       "<Figure size 640x480 with 1 Axes>"
      ]
     },
     "metadata": {},
     "output_type": "display_data"
    }
   ],
   "source": [
    "plot(r0ss, r1ss, moving_average_window_size=1000, dir = None)"
   ]
  },
  {
   "cell_type": "code",
   "execution_count": 8,
   "metadata": {},
   "outputs": [],
   "source": [
    "experiment_num_to_display = 1\n",
    "epoch_idx_to_display = 9999\n",
    "\n",
    "animate_trajectory_from_log(trajectory_logs_all_experiments[experiment_num_to_display][epoch_idx_to_display][:len(trajectory_logs_all_experiments[experiment_num_to_display][epoch_idx_to_display])], grid_size=grid_size, fps=1, dpi=100)\n"
   ]
  },
  {
   "cell_type": "code",
   "execution_count": 1,
   "metadata": {},
   "outputs": [
    {
     "ename": "NameError",
     "evalue": "name 'Video' is not defined",
     "output_type": "error",
     "traceback": [
      "\u001b[31m---------------------------------------------------------------------------\u001b[39m",
      "\u001b[31mNameError\u001b[39m                                 Traceback (most recent call last)",
      "\u001b[36mCell\u001b[39m\u001b[36m \u001b[39m\u001b[32mIn[1]\u001b[39m\u001b[32m, line 1\u001b[39m\n\u001b[32m----> \u001b[39m\u001b[32m1\u001b[39m \u001b[43mVideo\u001b[49m(url=\u001b[33m\"\u001b[39m\u001b[33mtrajectory.mp4?cache=\u001b[39m\u001b[33m\"\u001b[39m + \u001b[38;5;28mstr\u001b[39m(time.time()), embed=\u001b[38;5;28;01mFalse\u001b[39;00m)\n",
      "\u001b[31mNameError\u001b[39m: name 'Video' is not defined"
     ]
    }
   ],
   "source": [
    "Video(url=\"trajectory.mp4?cache=\" + str(time.time()), embed=False)"
   ]
  }
 ],
 "metadata": {
  "@webio": {
   "lastCommId": null,
   "lastKernelId": null
  },
  "kernelspec": {
   "display_name": "TMDP_DP",
   "language": "python",
   "name": "python3"
  },
  "language_info": {
   "codemirror_mode": {
    "name": "ipython",
    "version": 3
   },
   "file_extension": ".py",
   "mimetype": "text/x-python",
   "name": "python",
   "nbconvert_exporter": "python",
   "pygments_lexer": "ipython3",
   "version": "3.13.1"
  }
 },
 "nbformat": 4,
 "nbformat_minor": 2
}
