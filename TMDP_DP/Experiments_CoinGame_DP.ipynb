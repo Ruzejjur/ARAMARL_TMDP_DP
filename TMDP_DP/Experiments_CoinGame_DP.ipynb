{
 "cells": [
  {
   "cell_type": "code",
   "execution_count": 14,
   "metadata": {
    "ExecuteTime": {
     "end_time": "2018-12-27T16:26:31.229451Z",
     "start_time": "2018-12-27T16:26:31.008474Z"
    },
    "collapsed": true
   },
   "outputs": [],
   "source": [
    "# Importing necessary libraries\n",
    "import numpy as np\n",
    "\n",
    "import time \n",
    "from IPython.display import Video\n",
    "from tqdm.notebook import tqdm\n",
    "\n",
    "import joblib\n",
    "\n",
    "# Importing custom modules\n",
    "from engine_DP import CoinGame\n",
    "from agents import (\n",
    "    ManhattanAgent, ManhattanAgent_Passive, ManhattanAgent_Aggressive, ManhattanAgent_Ultra_Aggressive,\n",
    "    IndQLearningAgentSoftmax, LevelKQAgent, LevelKQAgentSoftmax,\n",
    "    LevelKDPAgent_Stationary, LevelKDPAgent_NonStationary, LevelKDPAgent_Dynamic, DPAgent_PerfectModel)\n",
    "\n",
    "from utils.exploration_schedule_utils import linear_epsilon_decay\n",
    "from utils.plot_utils import plot, animate_trajectory_from_log"
   ]
  },
  {
   "cell_type": "markdown",
   "metadata": {},
   "source": [
    "## Experiment setup"
   ]
  },
  {
   "cell_type": "code",
   "execution_count": 6,
   "metadata": {},
   "outputs": [],
   "source": [
    "## Setup experiment 1\n",
    "\n",
    "# Number of experiments\n",
    "N_EXP = 3\n",
    "\n",
    "# Size of single dimension of the square grid\n",
    "grid_size = 7\n",
    "\n",
    "# Initialize environment \n",
    "env = CoinGame(max_steps=20000, grid_size=grid_size, push_distance=2)\n",
    "\n",
    "# Number of states \n",
    "n_states = env.n_states\n",
    "\n",
    "# Number of episodes \n",
    "n_iter = 10000\n",
    "\n",
    "# Constant gamma \n",
    "gamma = 0.95\n",
    "\n",
    "# Learning rate\n",
    "learning_rate = 0.5\n",
    "\n",
    "# Moving average window size for plotting \n",
    "moving_average_window_size = 100\n",
    "\n",
    "r0ss = []\n",
    "r1ss = []\n",
    "\n",
    "# Setup parameters for linear decay of exploration parameter\n",
    "epsilon_begin = 1\n",
    "epsilon_end = 0.1\n",
    "\n",
    "\n",
    "# Pre-calculate array of linearly decaying exploration parameter for both agents\n",
    "\n",
    "linear_epsilon_decay_arr = linear_epsilon_decay(epsilon_begin=epsilon_begin, epsilon_end=epsilon_end,n_iter=n_iter)\n",
    "\n"
   ]
  },
  {
   "cell_type": "code",
   "execution_count": null,
   "metadata": {},
   "outputs": [
    {
     "ename": "TypeError",
     "evalue": "cannot unpack non-iterable int object",
     "output_type": "error",
     "traceback": [
      "\u001b[31m---------------------------------------------------------------------------\u001b[39m",
      "\u001b[31mTypeError\u001b[39m                                 Traceback (most recent call last)",
      "\u001b[36mCell\u001b[39m\u001b[36m \u001b[39m\u001b[32mIn[7]\u001b[39m\u001b[32m, line 48\u001b[39m\n\u001b[32m     44\u001b[39m s_new, rewards, done =  env.step((a1,a2))\n\u001b[32m     46\u001b[39m \u001b[38;5;66;03m# Agents update their Q/Value functions\u001b[39;00m\n\u001b[32m     47\u001b[39m \u001b[38;5;66;03m# * Note: They update their Q/Value functions simultaneously\u001b[39;00m\n\u001b[32m---> \u001b[39m\u001b[32m48\u001b[39m \u001b[43mP1\u001b[49m\u001b[43m.\u001b[49m\u001b[43mupdate\u001b[49m\u001b[43m(\u001b[49m\u001b[43ms\u001b[49m\u001b[43m,\u001b[49m\u001b[43m \u001b[49m\u001b[43m(\u001b[49m\u001b[43ma1\u001b[49m\u001b[43m,\u001b[49m\u001b[43m \u001b[49m\u001b[43ma2\u001b[49m\u001b[43m)\u001b[49m\u001b[43m,\u001b[49m\u001b[43m \u001b[49m\u001b[43m(\u001b[49m\u001b[43mrewards\u001b[49m\u001b[43m[\u001b[49m\u001b[32;43m0\u001b[39;49m\u001b[43m]\u001b[49m\u001b[43m,\u001b[49m\u001b[43m \u001b[49m\u001b[43mrewards\u001b[49m\u001b[43m[\u001b[49m\u001b[32;43m1\u001b[39;49m\u001b[43m]\u001b[49m\u001b[43m)\u001b[49m\u001b[43m,\u001b[49m\u001b[43m \u001b[49m\u001b[43ms_new\u001b[49m\u001b[43m)\u001b[49m\n\u001b[32m     49\u001b[39m P2.update(s, (a2, a1), (rewards[\u001b[32m1\u001b[39m], rewards[\u001b[32m0\u001b[39m]), s_new)\n\u001b[32m     51\u001b[39m \u001b[38;5;66;03m# Set the current state to the new state\u001b[39;00m\n",
      "\u001b[36mFile \u001b[39m\u001b[32m~/Github/ARAMARL_TMDP_DP/TMDP_DP/agents/q_learning.py:82\u001b[39m, in \u001b[36mIndQLearningAgent.update\u001b[39m\u001b[34m(self, obs, actions, new_obs, rewards)\u001b[39m\n\u001b[32m     79\u001b[39m     \u001b[38;5;28;01mraise\u001b[39;00m \u001b[38;5;167;01mValueError\u001b[39;00m(\u001b[33m\"\u001b[39m\u001b[33mIndQLearningAgent requires a rewards tuple for its update method.\u001b[39m\u001b[33m\"\u001b[39m)\n\u001b[32m     81\u001b[39m self_action, _ = actions\n\u001b[32m---> \u001b[39m\u001b[32m82\u001b[39m self_reward, _ = rewards\n\u001b[32m     84\u001b[39m \u001b[38;5;28mself\u001b[39m.Q[obs, self_action] = (\u001b[32m1\u001b[39m - \u001b[38;5;28mself\u001b[39m.learning_rate)*\u001b[38;5;28mself\u001b[39m.Q[obs, self_action] + \u001b[38;5;28mself\u001b[39m.learning_rate*(self_reward + \u001b[38;5;28mself\u001b[39m.gamma*np.max(\u001b[38;5;28mself\u001b[39m.Q[new_obs, :]))\n",
      "\u001b[31mTypeError\u001b[39m: cannot unpack non-iterable int object"
     ]
    }
   ],
   "source": [
    "# Run the experiments\n",
    "for n in range(N_EXP):\n",
    "    \n",
    "    ## Initialize agents\n",
    "    #* Note: The agent's here are reinitialized, instead reset can be done by reseting the Q matrix inside the agent.\n",
    "    \n",
    "    P1 = IndQLearningAgentSoftmax(np.array(range(8)), n_states, learning_rate=learning_rate,\n",
    "                           epsilon=epsilon_begin, gamma=gamma, beta = 1)\n",
    "    \n",
    "    P2 = IndQLearningAgentSoftmax(np.array(range(8)), n_states, learning_rate=learning_rate,\n",
    "                           epsilon=epsilon_begin, gamma=gamma, beta = 1)\n",
    "\n",
    "\n",
    "    # P2 = ExpSmoother(env.available_actions_Adv, env.available_actions_Adv, learning_rate=0.7)\n",
    "    # P2 = RandomAgent( env.available_actions, p=0.5)\n",
    "\n",
    "    \n",
    "    # Reset the reward vectors for the experiment\n",
    "    r0s = []\n",
    "    r1s = []\n",
    "    \n",
    "    # Run through episodes\n",
    "    for i in range(n_iter):\n",
    "\n",
    "        # Initialize the end of episode flag\n",
    "        done = False\n",
    "        # Reset the environment after each episode\n",
    "        env.reset()\n",
    "        # Get the initial state\n",
    "        s = env.get_state()\n",
    "        \n",
    "        # Initialize cummulative observed rewards for this episode\n",
    "        episode_rewards_DM = 0\n",
    "        episode_rewards_Adv = 0\n",
    "        \n",
    "        # While the agents have not reached the terminal state\n",
    "        while not done:\n",
    "            # Agents choose actions \n",
    "            # * Note: They choose the actions simultaneously\n",
    "            a1 = P1.act(obs=s)\n",
    "            a2 = P2.act(obs=s)\n",
    "\n",
    "            # Transition to next time step\n",
    "            s_new, rewards, done =  env.step((a1,a2))\n",
    "\n",
    "            # Agents update their Q/Value functions\n",
    "            # * Note: They update their Q/Value functions simultaneously\n",
    "            P1.update(s, (a1, a2), s_new, (rewards[0], rewards[1]))\n",
    "            P2.update(s, (a2, a1), s_new, (rewards[1], rewards[0]))\n",
    "            \n",
    "            # Set the current state to the new state\n",
    "            s = s_new  \n",
    "            \n",
    "            # Add the observed reward to the episode reward of both agents \n",
    "            # * Note: The rewards are observed simultaneously\n",
    "            episode_rewards_DM += rewards[0]\n",
    "            episode_rewards_Adv += rewards[1]\n",
    "            \n",
    "        # After an epoch apply decay to exploration parameter\n",
    "        P1.epsilon = linear_epsilon_decay_arr[i]\n",
    "        # P1.enemy.epsilon = linear_epsilon_decay_arr[i]\n",
    "        # P1.enemy.enemy.epsilon = linear_epsilon_decay_arr[i]\n",
    "        P2.epsilon = linear_epsilon_decay_arr[i]\n",
    "            \n",
    "        # Append the episode rewards to the list of rewards for this experiment\n",
    "        r0s.append(episode_rewards_DM)\n",
    "        # Append the episode rewards to the list of rewards for this experiment\n",
    "        r1s.append(episode_rewards_Adv)\n",
    "        \n",
    "        env.reset()\n",
    "    \n",
    "          \n",
    "\n",
    "    print(n)\n",
    "    r0ss.append(r0s)\n",
    "    r1ss.append(r1s)\n",
    "    \n",
    "plot(r0ss, r1ss, moving_average_window_size=moving_average_window_size, dir=None)"
   ]
  },
  {
   "cell_type": "code",
   "execution_count": 9,
   "metadata": {},
   "outputs": [
    {
     "data": {
      "application/vnd.jupyter.widget-view+json": {
       "model_id": "5d4cb4782a21413ea898ae7e500aff16",
       "version_major": 2,
       "version_minor": 0
      },
      "text/plain": [
       "Experiments:   0%|          | 0/3 [00:00<?, ?it/s]"
      ]
     },
     "metadata": {},
     "output_type": "display_data"
    },
    {
     "data": {
      "application/vnd.jupyter.widget-view+json": {
       "model_id": "63b209d8e96048b7968404f2b4290791",
       "version_major": 2,
       "version_minor": 0
      },
      "text/plain": [
       "Initializing value function.:   0%|          | 0/38416 [00:00<?, ?it/s]"
      ]
     },
     "metadata": {},
     "output_type": "display_data"
    },
    {
     "data": {
      "application/vnd.jupyter.widget-view+json": {
       "model_id": "0e4250bd64b74eea806030d1838ecffe",
       "version_major": 2,
       "version_minor": 0
      },
      "text/plain": [
       "Initializing value function.:   0%|          | 0/38416 [00:00<?, ?it/s]"
      ]
     },
     "metadata": {},
     "output_type": "display_data"
    },
    {
     "data": {
      "application/vnd.jupyter.widget-view+json": {
       "model_id": "60895f71d954467b992f5c84db7842b5",
       "version_major": 2,
       "version_minor": 0
      },
      "text/plain": [
       "Initializing value function.:   0%|          | 0/38416 [00:00<?, ?it/s]"
      ]
     },
     "metadata": {},
     "output_type": "display_data"
    },
    {
     "data": {
      "application/vnd.jupyter.widget-view+json": {
       "model_id": "9b09f653af484f33bc9118046aac5568",
       "version_major": 2,
       "version_minor": 0
      },
      "text/plain": [
       "Initializing value function.:   0%|          | 0/38416 [00:00<?, ?it/s]"
      ]
     },
     "metadata": {},
     "output_type": "display_data"
    },
    {
     "data": {
      "application/vnd.jupyter.widget-view+json": {
       "model_id": "4dc26a70d1bd4488ba0ff3af41e48093",
       "version_major": 2,
       "version_minor": 0
      },
      "text/plain": [
       "Epochs (Exp 1):   0%|          | 0/10000 [00:00<?, ?it/s]"
      ]
     },
     "metadata": {},
     "output_type": "display_data"
    },
    {
     "data": {
      "application/vnd.jupyter.widget-view+json": {
       "model_id": "79640b0709294a8196170ae90c3ab353",
       "version_major": 2,
       "version_minor": 0
      },
      "text/plain": [
       "Initializing value function.:   0%|          | 0/38416 [00:00<?, ?it/s]"
      ]
     },
     "metadata": {},
     "output_type": "display_data"
    },
    {
     "data": {
      "application/vnd.jupyter.widget-view+json": {
       "model_id": "0c315b2353d94f6e9d9af6922838e644",
       "version_major": 2,
       "version_minor": 0
      },
      "text/plain": [
       "Initializing value function.:   0%|          | 0/38416 [00:00<?, ?it/s]"
      ]
     },
     "metadata": {},
     "output_type": "display_data"
    },
    {
     "data": {
      "application/vnd.jupyter.widget-view+json": {
       "model_id": "ec0d61b9193045598803a3409d4bbb16",
       "version_major": 2,
       "version_minor": 0
      },
      "text/plain": [
       "Initializing value function.:   0%|          | 0/38416 [00:00<?, ?it/s]"
      ]
     },
     "metadata": {},
     "output_type": "display_data"
    },
    {
     "data": {
      "application/vnd.jupyter.widget-view+json": {
       "model_id": "41695972aed44a839f66660f248a0cc8",
       "version_major": 2,
       "version_minor": 0
      },
      "text/plain": [
       "Initializing value function.:   0%|          | 0/38416 [00:00<?, ?it/s]"
      ]
     },
     "metadata": {},
     "output_type": "display_data"
    },
    {
     "data": {
      "application/vnd.jupyter.widget-view+json": {
       "model_id": "63e8a31f4ed3438781106f94f9724b6c",
       "version_major": 2,
       "version_minor": 0
      },
      "text/plain": [
       "Epochs (Exp 2):   0%|          | 0/10000 [00:00<?, ?it/s]"
      ]
     },
     "metadata": {},
     "output_type": "display_data"
    },
    {
     "data": {
      "application/vnd.jupyter.widget-view+json": {
       "model_id": "09711d8ad17b48c694832cba4c9b30bd",
       "version_major": 2,
       "version_minor": 0
      },
      "text/plain": [
       "Initializing value function.:   0%|          | 0/38416 [00:00<?, ?it/s]"
      ]
     },
     "metadata": {},
     "output_type": "display_data"
    },
    {
     "data": {
      "application/vnd.jupyter.widget-view+json": {
       "model_id": "4c9826ead1f14929816561cc53943bd5",
       "version_major": 2,
       "version_minor": 0
      },
      "text/plain": [
       "Initializing value function.:   0%|          | 0/38416 [00:00<?, ?it/s]"
      ]
     },
     "metadata": {},
     "output_type": "display_data"
    },
    {
     "data": {
      "application/vnd.jupyter.widget-view+json": {
       "model_id": "7f436b2cf2e9481a9470958681f0edec",
       "version_major": 2,
       "version_minor": 0
      },
      "text/plain": [
       "Initializing value function.:   0%|          | 0/38416 [00:00<?, ?it/s]"
      ]
     },
     "metadata": {},
     "output_type": "display_data"
    },
    {
     "data": {
      "application/vnd.jupyter.widget-view+json": {
       "model_id": "05d39a36bc7341868b65b41604019cae",
       "version_major": 2,
       "version_minor": 0
      },
      "text/plain": [
       "Initializing value function.:   0%|          | 0/38416 [00:00<?, ?it/s]"
      ]
     },
     "metadata": {},
     "output_type": "display_data"
    },
    {
     "data": {
      "application/vnd.jupyter.widget-view+json": {
       "model_id": "351ee950f2e24d1e9bcd06a98b155283",
       "version_major": 2,
       "version_minor": 0
      },
      "text/plain": [
       "Epochs (Exp 3):   0%|          | 0/10000 [00:00<?, ?it/s]"
      ]
     },
     "metadata": {},
     "output_type": "display_data"
    },
    {
     "data": {
      "image/png": "[encoded data removed]",
      "text/plain": [
       "<Figure size 640x480 with 1 Axes>"
      ]
     },
     "metadata": {},
     "output_type": "display_data"
    }
   ],
   "source": [
    "r0ss = []\n",
    "r1ss = []\n",
    "\n",
    "# Total trajectory logs for all experiments\n",
    "trajectory_logs_all_experiments = []\n",
    "\n",
    "# Run the experiments\n",
    "for n in tqdm(range(N_EXP), desc=\"Experiments\"):\n",
    "    \n",
    "    np.random.seed(n)\n",
    "    \n",
    "    ## Initialize agents\n",
    "    # TODO: Add reset method to individual agents and move them to initialization\n",
    "    #* Note: The agent's here are reinitialized, instead reset can be done by reseting the Q matrix inside the agent.\n",
    "    \n",
    "    P1 = LevelKQAgent(k=3, action_space=np.array(range(8)), opponent_action_space=np.array(range(8)),\n",
    "                      n_states=n_states, grid_size=grid_size, learning_rate=learning_rate, epsilon=epsilon_begin, gamma=gamma)\n",
    "    \n",
    "    # P1 = IndQLearningAgentSoftmax(np.array(range(8)), n_states, learning_rate=learning_rate,\n",
    "    #                        epsilon=linear_epsilon_decay_arr[0], gamma=gamma, opponent_action_space=None, beta = 1)\n",
    "\n",
    "    \n",
    "    # P2 = IndQLearningAgentSoftmax(np.array(range(8)), n_states, learning_rate=learning_rate,\n",
    "    #                        epsilon=epsilon_begin, gamma=gamma, opponent_action_space=None, beta = 1)\n",
    "    \n",
    "    # P2 = ManhattanAgent(action_space=np.array(range(8)), coin_location = np.array([env.coin_0_pos, env.player_1_pos]), grid_size = grid_size, player_id = 1)\n",
    "\n",
    "    P2 = LevelKQAgent(k=1, action_space=np.array(range(8)), opponent_action_space=np.array(range(8)),\n",
    "                      n_states=n_states, grid_size=grid_size, learning_rate=learning_rate, epsilon=epsilon_begin, gamma=gamma)\n",
    "    \n",
    "    # Reset the reward vectors for the experiment\n",
    "    r0s = []\n",
    "    r1s = []\n",
    "    \n",
    "    # Trajectory logs for visualization\n",
    "    trajectory_logs_single_experiment = []\n",
    "    \n",
    "    # Run through episodes\n",
    "    for i in tqdm(range(n_iter), desc=f\"Epochs (Exp {n+1})\"):\n",
    "\n",
    "        # Initialize the end of episode flag\n",
    "        done = False\n",
    "        # Reset the environment after each episode\n",
    "        env.reset()\n",
    "        # Get the initial state\n",
    "        s = env.get_state()\n",
    "        # Trajectory log for this episode\n",
    "        trajectory_log_single_epoch = []\n",
    "        \n",
    "        # Log the initial state immediately after env.reset()\n",
    "        trajectory_log_single_epoch.append({\n",
    "            'DM_location_old': [\"None\", \"None\"],\n",
    "            'Adv_location_old': [\"None\", \"None\"],\n",
    "            'DM_location_new': env.player_0_pos.copy(),\n",
    "            'Adv_location_new': env.player_1_pos.copy(),\n",
    "            'coin1': env.coin_0_pos.copy() if env.coin0_available else None,\n",
    "            'coin2': env.coin_1_pos.copy() if env.coin1_available else None, \n",
    "            'action_DM': [\"None\", \"None\"],\n",
    "            'action_Adv': [\"None\", \"None\"],\n",
    "            'reward_DM': None,\n",
    "            'reward_Adv': None,\n",
    "            'state': s, \n",
    "            'experiment': n,\n",
    "            'epoch': i\n",
    "        })\n",
    "\n",
    "        # Initialize cummulative observed rewards for this episode\n",
    "        episode_rewards_DM = 0\n",
    "        episode_rewards_Adv = 0\n",
    "        \n",
    "        # While the agents have not reached the terminal state\n",
    "        while not done:\n",
    "            # Agents choose actions \n",
    "            # * Note: They choose the actions simultaneously\n",
    "            a1 = P1.act(obs=s, env=None)\n",
    "            a2 = P2.act(obs=s, env=None)\n",
    "            \n",
    "            # Save locations for logging before a step is made\n",
    "            DM_location_old = env.player_0_pos.copy()\n",
    "            Adv_location_old = env.player_1_pos.copy()\n",
    "            \n",
    "            # Transition to next time step\n",
    "            s_new, rewards, done =  env.step((a1,a2))\n",
    "\n",
    "            # Agents update their Q/Value functions\n",
    "            # * Note: They update their Q/Value functions simultaneously\n",
    "            P1.update(s, (a1, a2), s_new, (rewards[0], rewards[1]))\n",
    "            P2.update(s, (a2, a1), s_new, (rewards[1], rewards[0]))\n",
    "            \n",
    "            # Set the current state to the new state\n",
    "            s = s_new  \n",
    "            \n",
    "            # Add the observed reward to the episode reward of both agents \n",
    "            # * Note: The rewards are observed simultaneously\n",
    "            episode_rewards_DM += rewards[0]\n",
    "            episode_rewards_Adv += rewards[1]\n",
    "        \n",
    "            # Log state in single episode\n",
    "            trajectory_log_single_epoch.append({\n",
    "                'DM_location_old': DM_location_old,\n",
    "                'Adv_location_old': Adv_location_old,\n",
    "                'DM_location_new': env.player_0_pos.copy(),\n",
    "                'Adv_location_new': env.player_1_pos.copy(),\n",
    "                'coin1': env.coin_0_pos.copy() if env.coin0_available else None,\n",
    "                'coin2': env.coin_1_pos.copy() if env.coin1_available else None, \n",
    "                'action_DM': env.combined_actions[a1],\n",
    "                'action_Adv': env.combined_actions[a2],\n",
    "                'reward_DM': rewards[0],\n",
    "                'reward_Adv': rewards[1],\n",
    "                'experiment': n,\n",
    "                'epoch': i\n",
    "            })\n",
    "            \n",
    "        # Append the episode rewards to the list of rewards for this experiment\n",
    "        r0s.append(episode_rewards_DM)\n",
    "        # Append the episode rewards to the list of rewards for this experiment\n",
    "        r1s.append(episode_rewards_Adv)\n",
    "        \n",
    "        # Append the trajectory log for this epoch to experiment log \n",
    "        trajectory_logs_single_experiment.append(trajectory_log_single_epoch)\n",
    "        \n",
    "        # After an epoch apply decay to exploration parameter\n",
    "\n",
    "        P1.update_epsilon(linear_epsilon_decay_arr[i])\n",
    "        P2.update_epsilon(linear_epsilon_decay_arr[i])\n",
    "        \n",
    "            \n",
    "    # Append the trajectory logs of this experiment to the total logs\n",
    "    trajectory_logs_all_experiments.append(trajectory_logs_single_experiment)\n",
    "    \n",
    "    env.reset() # Reset the environment at the very end\n",
    "    \n",
    "    r0ss.append(r0s)\n",
    "    r1ss.append(r1s)\n",
    "\n",
    "\n",
    "plot(r0ss, r1ss, moving_average_window_size=moving_average_window_size)"
   ]
  },
  {
   "cell_type": "code",
   "execution_count": 11,
   "metadata": {},
   "outputs": [
    {
     "data": {
      "application/vnd.jupyter.widget-view+json": {
       "model_id": "15eca0f56f3a45b9a5fb003fb00ce0bd",
       "version_major": 2,
       "version_minor": 0
      },
      "text/plain": [
       "Experiments:   0%|          | 0/3 [00:00<?, ?it/s]"
      ]
     },
     "metadata": {},
     "output_type": "display_data"
    },
    {
     "data": {
      "application/vnd.jupyter.widget-view+json": {
       "model_id": "b4abd05de7fc408190a5761c47739810",
       "version_major": 2,
       "version_minor": 0
      },
      "text/plain": [
       "Initializing value function.:   0%|          | 0/38416 [00:00<?, ?it/s]"
      ]
     },
     "metadata": {},
     "output_type": "display_data"
    },
    {
     "data": {
      "application/vnd.jupyter.widget-view+json": {
       "model_id": "0b0829ee7e3d4e11ac8a619c7e92e608",
       "version_major": 2,
       "version_minor": 0
      },
      "text/plain": [
       "Pre-computing lookups for Level-1 DP Agent (Player DM):   0%|          | 0/38416 [00:00<?, ?it/s]"
      ]
     },
     "metadata": {},
     "output_type": "display_data"
    },
    {
     "data": {
      "application/vnd.jupyter.widget-view+json": {
       "model_id": "0d54447a7ab74c2a9359b198086b7087",
       "version_major": 2,
       "version_minor": 0
      },
      "text/plain": [
       "Epochs (Exp 1):   0%|          | 0/10000 [00:00<?, ?it/s]"
      ]
     },
     "metadata": {},
     "output_type": "display_data"
    },
    {
     "data": {
      "application/vnd.jupyter.widget-view+json": {
       "model_id": "4334117d3a8647548da0faa54340c618",
       "version_major": 2,
       "version_minor": 0
      },
      "text/plain": [
       "Initializing value function.:   0%|          | 0/38416 [00:00<?, ?it/s]"
      ]
     },
     "metadata": {},
     "output_type": "display_data"
    },
    {
     "data": {
      "application/vnd.jupyter.widget-view+json": {
       "model_id": "3ee1b0213c00402ca05312199371b32a",
       "version_major": 2,
       "version_minor": 0
      },
      "text/plain": [
       "Pre-computing lookups for Level-1 DP Agent (Player DM):   0%|          | 0/38416 [00:00<?, ?it/s]"
      ]
     },
     "metadata": {},
     "output_type": "display_data"
    },
    {
     "data": {
      "application/vnd.jupyter.widget-view+json": {
       "model_id": "b2498eeef044450eb2230851bd389835",
       "version_major": 2,
       "version_minor": 0
      },
      "text/plain": [
       "Epochs (Exp 2):   0%|          | 0/10000 [00:00<?, ?it/s]"
      ]
     },
     "metadata": {},
     "output_type": "display_data"
    },
    {
     "data": {
      "application/vnd.jupyter.widget-view+json": {
       "model_id": "333aa9b956994a7b8ec4cb80e1e08342",
       "version_major": 2,
       "version_minor": 0
      },
      "text/plain": [
       "Initializing value function.:   0%|          | 0/38416 [00:00<?, ?it/s]"
      ]
     },
     "metadata": {},
     "output_type": "display_data"
    },
    {
     "data": {
      "application/vnd.jupyter.widget-view+json": {
       "model_id": "0b6d8eee537245c4abf2851e4805baba",
       "version_major": 2,
       "version_minor": 0
      },
      "text/plain": [
       "Pre-computing lookups for Level-1 DP Agent (Player DM):   0%|          | 0/38416 [00:00<?, ?it/s]"
      ]
     },
     "metadata": {},
     "output_type": "display_data"
    },
    {
     "data": {
      "application/vnd.jupyter.widget-view+json": {
       "model_id": "cad5cbe09d5b4f079eb531a43b82c83a",
       "version_major": 2,
       "version_minor": 0
      },
      "text/plain": [
       "Epochs (Exp 3):   0%|          | 0/10000 [00:00<?, ?it/s]"
      ]
     },
     "metadata": {},
     "output_type": "display_data"
    }
   ],
   "source": [
    "r0ss = []\n",
    "r1ss = []\n",
    "\n",
    "# Total trajectory logs for all experiments\n",
    "trajectory_logs_all_experiments = []\n",
    "\n",
    "# Run the experiments\n",
    "for n in tqdm(range(N_EXP), desc=\"Experiments\"):\n",
    "    \n",
    "    #np.random.seed(n)\n",
    "    \n",
    "    ## Initialize agents\n",
    "    P2 = IndQLearningAgentSoftmax(np.array(range(8)), n_states, learning_rate=learning_rate,\n",
    "                           epsilon=linear_epsilon_decay_arr[0], gamma=gamma, beta = 1)\n",
    "\n",
    "    # P2 = LevelKDPAgent_Stationary(\n",
    "    #     k=1, \n",
    "    #     action_space=np.array(range(len(env.combined_actions))),\n",
    "    #     opponent_action_space=np.array(range(len(env.combined_actions))),\n",
    "    #     n_states=n_states,\n",
    "    #     epsilon=linear_epsilon_decay_arr[0],\n",
    "    #     gamma=gamma,\n",
    "    #     player_id=1,\n",
    "    #     env=env\n",
    "    # ) \n",
    "\n",
    "    # P2 = ExpSmoother(env.available_actions_Adv, env.available_actions_Adv, learning_rate=0.7)\n",
    "    # P2 = RandomAgent( env.available_actions, p=0.5)\n",
    "    \n",
    "    \n",
    "    # P2 = LevelKDPAgent_Stationary(\n",
    "    #     k=2, \n",
    "    #     action_space=np.array(range(len(env.combined_actions))),\n",
    "    #     opponent_action_space=np.array(range(len(env.combined_actions))),\n",
    "    #     n_states=n_states,\n",
    "    #     epsilon=linear_epsilon_decay_arr[0],\n",
    "    #     gamma=gamma,\n",
    "    #     player_id=1,\n",
    "    #     env=env\n",
    "    # ) \n",
    "    \n",
    "    # P2 = ManhattanAgent(action_space=np.array(range(8)), coin_location = np.array([env.coin_0_pos, env.player_1_pos]), grid_size = grid_size, player_id = 1)\n",
    "\n",
    "    # P2 = LevelKDPAgent_Dynamic(\n",
    "    #     k=1, \n",
    "    #     action_space=np.array(range(len(env.combined_actions))),\n",
    "    #     opponent_action_space=np.array(range(len(env.combined_actions))),\n",
    "    #     n_states=n_states,\n",
    "    #     epsilon=linear_epsilon_decay_arr[0],\n",
    "    #     gamma=gamma,\n",
    "    #     player_id=1,\n",
    "    #     env=env\n",
    "    # ) \n",
    "\n",
    "    \n",
    "    # P1 = IndQLearningAgentSoftmax(np.array(range(8)), n_states, learning_rate=learning_rate,\n",
    "    #                        epsilon=linear_epsilon_decay_arr[0], gamma=gamma, opponent_action_space=None, beta = 1)\n",
    "\n",
    "    \n",
    "    P1 = LevelKDPAgent_Stationary(\n",
    "        k=1, \n",
    "        action_space=np.array(range(len(env.combined_actions))),\n",
    "        opponent_action_space=np.array(range(len(env.combined_actions))),\n",
    "        n_states=n_states,\n",
    "        epsilon=linear_epsilon_decay_arr[0],\n",
    "        gamma=gamma,\n",
    "        player_id=0,\n",
    "        env=env\n",
    "    ) \n",
    "    \n",
    "    # P1 = LevelKDPAgent_NonStationary(\n",
    "    #     k=2,\n",
    "    #     action_space=np.array(range(len(env.combined_actions))),\n",
    "    #     opponent_action_space=np.array(range(len(env.combined_actions))),\n",
    "    #     n_states=n_states,\n",
    "    #     epsilon=linear_epsilon_decay_arr[0],\n",
    "    #     gamma=gamma,\n",
    "    #     player_id=0,\n",
    "    #     env=env\n",
    "    # ) \n",
    "    \n",
    "    # P1 = LevelKDPAgent_Dynamic(\n",
    "    #     k=2, \n",
    "    #     action_space=np.array(range(len(env.combined_actions))),\n",
    "    #     opponent_action_space=np.array(range(len(env.combined_actions))),\n",
    "    #     n_states=n_states,\n",
    "    #     epsilon=linear_epsilon_decay_arr[0],\n",
    "    #     gamma=gamma,\n",
    "    #     player_id=0,\n",
    "    #     env=env\n",
    "    # ) \n",
    "    \n",
    "    # P1 = DPAgent_PerfectModel(\n",
    "    #      action_space = np.array(range(len(env.combined_actions))),\n",
    "    #      opponent_action_space = np.array(range(len(env.combined_actions))),\n",
    "    #      n_states=n_states,\n",
    "    #      gamma=gamma,\n",
    "    #      player_id=0,\n",
    "    #      env=env,\n",
    "    #      enemy=P2\n",
    "    # ) \n",
    "    \n",
    "    # P1 = ManhattanAgent(action_space=np.array(range(8)), coin_location = np.array([env.coin_0_pos, env.player_1_pos]), grid_size = grid_size, player_id = 0)\n",
    "\n",
    "\n",
    "    \n",
    "    # Reset the reward vectors for the experiment\n",
    "    r0s = []\n",
    "    r1s = []\n",
    "    \n",
    "    # Trajectory logs for visualization\n",
    "    trajectory_logs_single_experiment = []\n",
    "    \n",
    "    # Run through episodes\n",
    "    for i in tqdm(range(n_iter), desc=f\"Epochs (Exp {n+1})\"):\n",
    "\n",
    "        # Initialize the end of episode flag\n",
    "        done = False\n",
    "        # Reset the environment after each episode\n",
    "        env.reset()\n",
    "        # Get the initial state\n",
    "        s = env.get_state()\n",
    "        # Trajectory log for this episode\n",
    "        trajectory_log_single_epoch = []\n",
    "        \n",
    "        # Log the initial state immediately after env.reset()\n",
    "        trajectory_log_single_epoch.append({\n",
    "            'DM_location_old': [\"None\", \"None\"],\n",
    "            'Adv_location_old': [\"None\", \"None\"],\n",
    "            'DM_location_new': env.player_0_pos.copy(),\n",
    "            'Adv_location_new': env.player_1_pos.copy(),\n",
    "            'coin1': env.coin_0_pos.copy() if env.coin0_available else None,\n",
    "            'coin2': env.coin_1_pos.copy() if env.coin1_available else None, \n",
    "            'action_DM': [\"None\", \"None\"],\n",
    "            'action_Adv': [\"None\", \"None\"],\n",
    "            'reward_DM': None,\n",
    "            'reward_Adv': None,\n",
    "            'state': s, \n",
    "            'experiment': n,\n",
    "            'epoch': i\n",
    "        })\n",
    "\n",
    "        # Initialize cummulative observed rewards for this episode\n",
    "        episode_rewards_DM = 0\n",
    "        episode_rewards_Adv = 0\n",
    "        s_new = env.get_state()\n",
    "        # While the agents have not reached the terminal state\n",
    "        while not done:\n",
    "            # Agents choose actions \n",
    "            # * Note: They choose the actions simultaneously\n",
    "            a1 = P1.act(obs=s, env=None)\n",
    "            a2 = P2.act(obs=s, env=None)\n",
    "            \n",
    "            # Save locations for logging before a step is made\n",
    "            DM_location_old = env.player_0_pos.copy()\n",
    "            Adv_location_old = env.player_1_pos.copy()\n",
    "            \n",
    "            # DP agent performs update before next state is evaluated\n",
    "\n",
    "        \n",
    "            # Transition to next time step\n",
    "            s_new, rewards, done =  env.step((a1,a2))\n",
    "\n",
    "\n",
    "            # Update the Q matrix of adversary\n",
    "            #P1.update(s, (a1, a2), rewards=(rewards[0], rewards[1]), new_obs=s_new)\n",
    "            P1.update(s, (a1, a2), new_obs=s_new, rewards = None)\n",
    "            #P2.update(s, (a1, a2), rewards=[rewards[0],rewards[1]], new_obs=s_new)\n",
    "            \n",
    "            P2.update(s, (a2, a1), s_new, (rewards[1], rewards[0]))\n",
    "            # P2.update(s, (a1, a2))\n",
    "\n",
    "            \n",
    "            # Set the current state to the new state\n",
    "            s = s_new  \n",
    "            \n",
    "            # Add the observed reward to the episode reward of both agents \n",
    "            # * Note: The rewards are observed simultaneously\n",
    "            episode_rewards_DM += rewards[0]\n",
    "            episode_rewards_Adv += rewards[1]\n",
    "        \n",
    "            # Log state in single episode\n",
    "            trajectory_log_single_epoch.append({\n",
    "                'DM_location_old': DM_location_old,\n",
    "                'Adv_location_old': Adv_location_old,\n",
    "                'DM_location_new': env.player_0_pos.copy(),\n",
    "                'Adv_location_new': env.player_1_pos.copy(),\n",
    "                'coin1': env.coin_0_pos.copy() if env.coin0_available else None,\n",
    "                'coin2': env.coin_1_pos.copy() if env.coin1_available else None, \n",
    "                'action_DM': env.combined_actions[a1],\n",
    "                'action_Adv': env.combined_actions[a2],\n",
    "                'reward_DM': rewards[0],\n",
    "                'reward_Adv': rewards[1],\n",
    "                'experiment': n,\n",
    "                'epoch': i\n",
    "            })\n",
    "            \n",
    "        # Append the episode rewards to the list of rewards for this experiment\n",
    "        r0s.append(episode_rewards_DM)\n",
    "        # Append the episode rewards to the list of rewards for this experiment\n",
    "        r1s.append(episode_rewards_Adv)\n",
    "        \n",
    "        # Append the trajectory log for this epoch to experiment log \n",
    "        trajectory_logs_single_experiment.append(trajectory_log_single_epoch)\n",
    "        \n",
    "        # After an epoch apply decay to exploration parameter\n",
    "        P1.update_epsilon(linear_epsilon_decay_arr[i])\n",
    "        P2.update_epsilon(linear_epsilon_decay_arr[i])\n",
    "        \n",
    "    # Append the trajectory logs of this experiment to the total logs\n",
    "    trajectory_logs_all_experiments.append(trajectory_logs_single_experiment)\n",
    "    \n",
    "    env.reset() # Reset the environment at the very end\n",
    "\n",
    "    r0ss.append(r0s)\n",
    "    r1ss.append(r1s)"
   ]
  },
  {
   "cell_type": "code",
   "execution_count": null,
   "metadata": {},
   "outputs": [
    {
     "name": "stdout",
     "output_type": "stream",
     "text": [
      "Agent P1 successfully loaded from p1_agent.joblib\n",
      "Loaded agent is of type: <class 'agent_DP.DPAgent_PerfectModel'>\n",
      "Loaded agent's level k: 1\n"
     ]
    }
   ],
   "source": [
    "# # This is the filename we'll save the agent to\n",
    "# filename = 'p1_agent.joblib'\n",
    "\n",
    "# # joblib.dump saves the object to the file\n",
    "# joblib.dump(P1, filename)\n",
    "\n",
    "# print(f\"Agent P1 successfully saved to {filename}\")\n",
    "\n",
    "\n",
    "\n",
    "# filename = 'p1_agent.joblib'\n",
    "\n",
    "# # joblib.load reads the object from the file\n",
    "# P1 = joblib.load(filename)\n",
    "\n",
    "# print(f\"Agent P1 successfully loaded from {filename}\")\n",
    "# print(f\"Loaded agent is of type: {type(P1)}\")\n",
    "# print(f\"Loaded agent's level k: {P1.k}\")\n"
   ]
  },
  {
   "cell_type": "code",
   "execution_count": 12,
   "metadata": {},
   "outputs": [
    {
     "data": {
      "image/png": "[encoded data removed]",
      "text/plain": [
       "<Figure size 640x480 with 1 Axes>"
      ]
     },
     "metadata": {},
     "output_type": "display_data"
    }
   ],
   "source": [
    "plot(r0ss, r1ss, moving_average_window_size=1000, dir = None)"
   ]
  },
  {
   "cell_type": "code",
   "execution_count": 13,
   "metadata": {},
   "outputs": [],
   "source": [
    "experiment_num_to_display = 0\n",
    "epoch_idx_to_display = 9999\n",
    "\n",
    "animate_trajectory_from_log(trajectory_logs_all_experiments[experiment_num_to_display][epoch_idx_to_display][:len(trajectory_logs_all_experiments[experiment_num_to_display][epoch_idx_to_display])], grid_size=grid_size, fps=1, dpi=100)\n"
   ]
  },
  {
   "cell_type": "code",
   "execution_count": 15,
   "metadata": {},
   "outputs": [
    {
     "data": {
      "text/html": [
       "<video src=\"trajectory.mp4?cache=1752239839.800608\" controls  >\n",
       "      Your browser does not support the <code>video</code> element.\n",
       "    </video>"
      ],
      "text/plain": [
       "<IPython.core.display.Video object>"
      ]
     },
     "execution_count": 15,
     "metadata": {},
     "output_type": "execute_result"
    }
   ],
   "source": [
    "Video(url=\"trajectory.mp4?cache=\" + str(time.time()), embed=False)"
   ]
  }
 ],
 "metadata": {
  "@webio": {
   "lastCommId": null,
   "lastKernelId": null
  },
  "kernelspec": {
   "display_name": "TMDP_DP",
   "language": "python",
   "name": "python3"
  },
  "language_info": {
   "codemirror_mode": {
    "name": "ipython",
    "version": 3
   },
   "file_extension": ".py",
   "mimetype": "text/x-python",
   "name": "python",
   "nbconvert_exporter": "python",
   "pygments_lexer": "ipython3",
   "version": "3.13.1"
  }
 },
 "nbformat": 4,
 "nbformat_minor": 2
}
