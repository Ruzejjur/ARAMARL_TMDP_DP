{
 "cells": [
  {
   "cell_type": "code",
   "execution_count": 1,
   "metadata": {
    "ExecuteTime": {
     "end_time": "2018-12-27T16:26:31.229451Z",
     "start_time": "2018-12-27T16:26:31.008474Z"
    },
    "collapsed": true
   },
   "outputs": [
    {
     "name": "stdout",
     "output_type": "stream",
     "text": [
      "Agents package successfully initialized.\n"
     ]
    }
   ],
   "source": [
    "# Importing necessary libraries\n",
    "import numpy as np\n",
    "\n",
    "import time \n",
    "from IPython.display import Video\n",
    "from tqdm.notebook import tqdm\n",
    "\n",
    "import joblib\n",
    "\n",
    "# Importing custom modules\n",
    "from engine_DP import CoinGame\n",
    "from agents import (\n",
    "    ManhattanAgent, ManhattanAgent_Passive, ManhattanAgent_Aggressive, ManhattanAgent_Ultra_Aggressive,\n",
    "    IndQLearningAgent, IndQLearningAgentSoftmax, LevelKQAgent, LevelKQAgentSoftmax,\n",
    "    LevelKDPAgent_Stationary, LevelKDPAgent_NonStationary, LevelKDPAgent_Dynamic, DPAgent_PerfectModel)\n",
    "\n",
    "from utils.exploration_schedule_utils import linear_epsilon_decay\n",
    "from utils.plot_utils import plot, animate_trajectory_from_log"
   ]
  },
  {
   "cell_type": "markdown",
   "metadata": {},
   "source": [
    "## Experiment setup"
   ]
  },
  {
   "cell_type": "code",
   "execution_count": 2,
   "metadata": {},
   "outputs": [],
   "source": [
    "## Setup experiment 1\n",
    "\n",
    "# Number of experiments\n",
    "N_EXP = 1\n",
    "\n",
    "# Size of single dimension of the square grid\n",
    "grid_size = 7\n",
    "\n",
    "# Initialize environment \n",
    "env = CoinGame(max_steps=20000, grid_size=grid_size, push_distance=2)\n",
    "\n",
    "# Number of states \n",
    "n_states = env.n_states\n",
    "\n",
    "# Number of episodes \n",
    "n_iter = 100\n",
    "\n",
    "# Constant gamma \n",
    "gamma = 0.95\n",
    "\n",
    "# Learning rate\n",
    "learning_rate = 0.5\n",
    "\n",
    "# Moving average window size for plotting \n",
    "moving_average_window_size = 100\n",
    "\n",
    "r0ss = []\n",
    "r1ss = []\n",
    "\n",
    "# Setup parameters for linear decay of exploration parameter\n",
    "epsilon_begin = 1\n",
    "epsilon_end = 0.1\n",
    "\n",
    "\n",
    "# Pre-calculate array of linearly decaying exploration parameter for both agents\n",
    "\n",
    "linear_epsilon_decay_arr = linear_epsilon_decay(epsilon_begin=epsilon_begin, epsilon_end=epsilon_end,n_iter=n_iter)\n",
    "\n"
   ]
  },
  {
   "cell_type": "code",
   "execution_count": 3,
   "metadata": {},
   "outputs": [],
   "source": [
    "# # Run the experiments\n",
    "# for n in range(N_EXP):\n",
    "    \n",
    "#     ## Initialize agents\n",
    "#     #* Note: The agent's here are reinitialized, instead reset can be done by reseting the Q matrix inside the agent.\n",
    "    \n",
    "#     P1 = IndQLearningAgentSoftmax(np.array(range(8)), n_states, learning_rate=learning_rate,\n",
    "#                            epsilon=epsilon_begin, gamma=gamma, beta = 1, player_id=0)\n",
    "    \n",
    "#     P2 = IndQLearningAgentSoftmax(np.array(range(8)), n_states, learning_rate=learning_rate,\n",
    "#                            epsilon=epsilon_begin, gamma=gamma, beta = 1, player_id=1)\n",
    "\n",
    "\n",
    "#     # P2 = ExpSmoother(env.available_actions_Adv, env.available_actions_Adv, learning_rate=0.7)\n",
    "#     # P2 = RandomAgent( env.available_actions, p=0.5)\n",
    "\n",
    "    \n",
    "#     # Reset the reward vectors for the experiment\n",
    "#     r0s = []\n",
    "#     r1s = []\n",
    "    \n",
    "#     # Run through episodes\n",
    "#     for i in range(n_iter):\n",
    "\n",
    "#         # Initialize the end of episode flag\n",
    "#         done = False\n",
    "#         # Reset the environment after each episode\n",
    "#         env.reset()\n",
    "#         # Get the initial state\n",
    "#         s = env.get_state()\n",
    "        \n",
    "#         # Initialize cummulative observed rewards for this episode\n",
    "#         episode_rewards_DM = 0\n",
    "#         episode_rewards_Adv = 0\n",
    "        \n",
    "#         # While the agents have not reached the terminal state\n",
    "#         while not done:\n",
    "#             # Agents choose actions \n",
    "#             # * Note: They choose the actions simultaneously\n",
    "#             a1 = P1.act(obs=s)\n",
    "#             a2 = P2.act(obs=s)\n",
    "\n",
    "#             # Transition to next time step\n",
    "#             s_new, rewards, done =  env.step((a1,a2))\n",
    "\n",
    "#             # Agents update their Q/Value functions\n",
    "#             # * Note: They update their Q/Value functions simultaneously\n",
    "#             P1.update(s, (a1, a2), s_new, (rewards[0], rewards[1]))\n",
    "#             P2.update(s, (a2, a1), s_new, (rewards[1], rewards[0]))\n",
    "            \n",
    "#             # Set the current state to the new state\n",
    "#             s = s_new  \n",
    "            \n",
    "#             # Add the observed reward to the episode reward of both agents \n",
    "#             # * Note: The rewards are observed simultaneously\n",
    "#             episode_rewards_DM += rewards[0]\n",
    "#             episode_rewards_Adv += rewards[1]\n",
    "            \n",
    "#         # After an epoch apply decay to exploration parameter\n",
    "#         P1.epsilon = linear_epsilon_decay_arr[i]\n",
    "#         # P1.enemy.epsilon = linear_epsilon_decay_arr[i]\n",
    "#         # P1.enemy.enemy.epsilon = linear_epsilon_decay_arr[i]\n",
    "#         P2.epsilon = linear_epsilon_decay_arr[i]\n",
    "            \n",
    "#         # Append the episode rewards to the list of rewards for this experiment\n",
    "#         r0s.append(episode_rewards_DM)\n",
    "#         # Append the episode rewards to the list of rewards for this experiment\n",
    "#         r1s.append(episode_rewards_Adv)\n",
    "        \n",
    "#         env.reset()\n",
    "    \n",
    "          \n",
    "\n",
    "#     print(n)\n",
    "#     r0ss.append(r0s)\n",
    "#     r1ss.append(r1s)\n",
    "    \n",
    "# plot(r0ss, r1ss, moving_average_window_size=moving_average_window_size, dir=None)"
   ]
  },
  {
   "cell_type": "code",
   "execution_count": 4,
   "metadata": {},
   "outputs": [],
   "source": [
    "# r0ss = []\n",
    "# r1ss = []\n",
    "\n",
    "# # Total trajectory logs for all experiments\n",
    "# trajectory_logs_all_experiments = []\n",
    "\n",
    "# # Run the experiments\n",
    "# for n in tqdm(range(N_EXP), desc=\"Experiments\"):\n",
    "    \n",
    "#     np.random.seed(n)\n",
    "    \n",
    "#     ## Initialize agents\n",
    "#     # TODO: Add reset method to individual agents and move them to initialization\n",
    "#     #* Note: The agent's here are reinitialized, instead reset can be done by reseting the Q matrix inside the agent.\n",
    "    \n",
    "#     P1 = LevelKQAgent(k=2, action_space=np.array(range(8)), opponent_action_space=np.array(range(8)), lower_level_k_epsilon = 1,\n",
    "#                       n_states=n_states, grid_size=grid_size, learning_rate=learning_rate, epsilon=epsilon_begin, gamma=gamma, initial_Q_value = 0, player_id=0)\n",
    "    \n",
    "#     # P1 = IndQLearningAgentSoftmax(np.array(range(8)), n_states, learning_rate=learning_rate,\n",
    "#     #                        epsilon=linear_epsilon_decay_arr[0], gamma=gamma, opponent_action_space=None, beta = 1)\n",
    "\n",
    "    \n",
    "#     # P2 = IndQLearningAgentSoftmax(np.array(range(8)), n_states, grid_size=grid_size, learning_rate=learning_rate,\n",
    "#     #                        epsilon=epsilon_begin, gamma=gamma, initial_Q_value = 0, beta = 1, player_id=1)\n",
    "    \n",
    "#     # P2 = ManhattanAgent_Ultra_Aggressive(action_space=np.array(range(8)), coin_location = np.array([env.coin_0_pos, env.coin_1_pos]), grid_size = grid_size, player_id = 1)\n",
    "\n",
    "#     P2 = LevelKQAgent(k=1, action_space=np.array(range(8)), opponent_action_space=np.array(range(8)), lower_level_k_epsilon = 1,\n",
    "#                       n_states=n_states, grid_size=grid_size, learning_rate=learning_rate, epsilon=epsilon_begin, gamma=gamma, initial_Q_value = 0, player_id=1)\n",
    "    \n",
    "#     # Reset the reward vectors for the experiment\n",
    "#     r0s = []\n",
    "#     r1s = []\n",
    "    \n",
    "#     # Trajectory logs for visualization\n",
    "#     trajectory_logs_single_experiment = []\n",
    "    \n",
    "#     # Run through episodes\n",
    "#     for i in tqdm(range(n_iter), desc=f\"Epochs (Exp {n+1})\"):\n",
    "\n",
    "#         # Initialize the end of episode flag\n",
    "#         done = False\n",
    "#         # Reset the environment after each episode\n",
    "#         env.reset()\n",
    "#         # Get the initial state\n",
    "#         s = env.get_state()\n",
    "#         # Trajectory log for this episode\n",
    "#         trajectory_log_single_epoch = []\n",
    "        \n",
    "#         # Log the initial state immediately after env.reset()\n",
    "#         trajectory_log_single_epoch.append({\n",
    "#             'DM_location_old': [\"None\", \"None\"],\n",
    "#             'Adv_location_old': [\"None\", \"None\"],\n",
    "#             'DM_location_new': env.player_0_pos.copy(),\n",
    "#             'Adv_location_new': env.player_1_pos.copy(),\n",
    "#             'coin1': env.coin_0_pos.copy() if env.coin0_available else None,\n",
    "#             'coin2': env.coin_1_pos.copy() if env.coin1_available else None, \n",
    "#             'action_DM': [\"None\", \"None\"],\n",
    "#             'action_Adv': [\"None\", \"None\"],\n",
    "#             'reward_DM': None,\n",
    "#             'reward_Adv': None,\n",
    "#             'state': s, \n",
    "#             'experiment': n,\n",
    "#             'epoch': i\n",
    "#         })\n",
    "\n",
    "#         # Initialize cummulative observed rewards for this episode\n",
    "#         episode_rewards_DM = 0\n",
    "#         episode_rewards_Adv = 0\n",
    "        \n",
    "#         # While the agents have not reached the terminal state\n",
    "#         while not done:\n",
    "#             # Agents choose actions \n",
    "#             # * Note: They choose the actions simultaneously\n",
    "#             a1 = P1.act(obs=s, env=None)\n",
    "#             a2 = P2.act(obs=s, env=None)\n",
    "            \n",
    "#             # Save locations for logging before a step is made\n",
    "#             DM_location_old = env.player_0_pos.copy()\n",
    "#             Adv_location_old = env.player_1_pos.copy()\n",
    "            \n",
    "#             # Transition to next time step\n",
    "#             s_new, rewards, done =  env.step((a1,a2))\n",
    "\n",
    "#             # Agents update their Q/Value functions\n",
    "#             # * Note: They update their Q/Value functions simultaneously\n",
    "#             P1.update(s, (a1, a2), s_new, (rewards[0], rewards[1]))\n",
    "#             P2.update(s, (a1, a2), s_new, (rewards[0], rewards[1]))\n",
    "            \n",
    "#             # Set the current state to the new state\n",
    "#             s = s_new  \n",
    "            \n",
    "#             # Add the observed reward to the episode reward of both agents \n",
    "#             # * Note: The rewards are observed simultaneously\n",
    "#             episode_rewards_DM += rewards[0]\n",
    "#             episode_rewards_Adv += rewards[1]\n",
    "        \n",
    "#             # Log state in single episode\n",
    "#             trajectory_log_single_epoch.append({\n",
    "#                 'DM_location_old': DM_location_old,\n",
    "#                 'Adv_location_old': Adv_location_old,\n",
    "#                 'DM_location_new': env.player_0_pos.copy(),\n",
    "#                 'Adv_location_new': env.player_1_pos.copy(),\n",
    "#                 'coin1': env.coin_0_pos.copy() if env.coin0_available else None,\n",
    "#                 'coin2': env.coin_1_pos.copy() if env.coin1_available else None, \n",
    "#                 'action_DM': env.combined_actions[a1],\n",
    "#                 'action_Adv': env.combined_actions[a2],\n",
    "#                 'reward_DM': rewards[0],\n",
    "#                 'reward_Adv': rewards[1],\n",
    "#                 'experiment': n,\n",
    "#                 'epoch': i\n",
    "#             })\n",
    "            \n",
    "#         # Append the episode rewards to the list of rewards for this experiment\n",
    "#         r0s.append(episode_rewards_DM)\n",
    "#         # Append the episode rewards to the list of rewards for this experiment\n",
    "#         r1s.append(episode_rewards_Adv)\n",
    "        \n",
    "#         # Append the trajectory log for this epoch to experiment log \n",
    "#         trajectory_logs_single_experiment.append(trajectory_log_single_epoch)\n",
    "        \n",
    "#         # After an epoch apply decay to exploration parameter\n",
    "\n",
    "#         P1.update_epsilon(linear_epsilon_decay_arr[i], linear_epsilon_decay_arr[i])\n",
    "#         P2.update_epsilon(linear_epsilon_decay_arr[i], linear_epsilon_decay_arr[i])\n",
    "        \n",
    "            \n",
    "#     # Append the trajectory logs of this experiment to the total logs\n",
    "#     trajectory_logs_all_experiments.append(trajectory_logs_single_experiment)\n",
    "    \n",
    "#     env.reset() # Reset the environment at the very end\n",
    "    \n",
    "#     r0ss.append(r0s)\n",
    "#     r1ss.append(r1s)\n",
    "\n",
    "\n",
    "# plot(r0ss, r1ss, moving_average_window_size=moving_average_window_size)"
   ]
  },
  {
   "cell_type": "code",
   "execution_count": null,
   "metadata": {},
   "outputs": [
    {
     "data": {
      "application/vnd.jupyter.widget-view+json": {
       "model_id": "31a46e583c444c7a9f6b2b1890fb2210",
       "version_major": 2,
       "version_minor": 0
      },
      "text/plain": [
       "Experiments:   0%|          | 0/1 [00:00<?, ?it/s]"
      ]
     },
     "metadata": {},
     "output_type": "display_data"
    },
    {
     "data": {
      "application/vnd.jupyter.widget-view+json": {
       "model_id": "b1f79ccd60c44e49a2bbf8cb68234fce",
       "version_major": 2,
       "version_minor": 0
      },
      "text/plain": [
       "Initializing value function.:   0%|          | 0/38416 [00:00<?, ?it/s]"
      ]
     },
     "metadata": {},
     "output_type": "display_data"
    },
    {
     "data": {
      "application/vnd.jupyter.widget-view+json": {
       "model_id": "1d666f84ca654433ab3b4664963f3a9e",
       "version_major": 2,
       "version_minor": 0
      },
      "text/plain": [
       "Pre-computing lookups for Level-1 DP Agent (Player DM):   0%|          | 0/38416 [00:00<?, ?it/s]"
      ]
     },
     "metadata": {},
     "output_type": "display_data"
    },
    {
     "name": "stdout",
     "output_type": "stream",
     "text": [
      "Pre-computing the perfect opponent policy table...\n"
     ]
    },
    {
     "data": {
      "application/vnd.jupyter.widget-view+json": {
       "model_id": "bf2f78eb86e040b4a8fa670195bf56f9",
       "version_major": 2,
       "version_minor": 0
      },
      "text/plain": [
       "Pre-computing opponent policy table:   0%|          | 0/38416 [00:00<?, ?it/s]"
      ]
     },
     "metadata": {},
     "output_type": "display_data"
    },
    {
     "name": "stdout",
     "output_type": "stream",
     "text": [
      "Opponent policy table finished.\n",
      "Starting offline in-place value iteration on V(s, b)...\n"
     ]
    },
    {
     "data": {
      "application/vnd.jupyter.widget-view+json": {
       "model_id": "41ed6b4f09ea4c18aa88fdf8644afdb2",
       "version_major": 2,
       "version_minor": 0
      },
      "text/plain": [
       "Value Iteration:   0%|          | 0/20000 [00:00<?, ?it/s]"
      ]
     },
     "metadata": {},
     "output_type": "display_data"
    },
    {
     "name": "stdout",
     "output_type": "stream",
     "text": [
      "\n",
      "Value iteration converged after 19 iterations.\n",
      "Extracting optimal policy...\n",
      "Optimal policy extracted.\n"
     ]
    },
    {
     "data": {
      "application/vnd.jupyter.widget-view+json": {
       "model_id": "ea52110675144783a5d5f866202c060e",
       "version_major": 2,
       "version_minor": 0
      },
      "text/plain": [
       "Epochs (Exp 1):   0%|          | 0/100 [00:00<?, ?it/s]"
      ]
     },
     "metadata": {},
     "output_type": "display_data"
    }
   ],
   "source": [
    "r0ss = []\n",
    "r1ss = []\n",
    "\n",
    "# Total trajectory logs for all experiments\n",
    "trajectory_logs_all_experiments = []\n",
    "\n",
    "# Run the experiments\n",
    "for n in tqdm(range(N_EXP), desc=\"Experiments\"):\n",
    "    \n",
    "    np.random.seed(n)\n",
    "    \n",
    "    ## Initialize agents\n",
    "    # P2 = IndQLearningAgentSoftmax(np.array(range(8)), n_states, learning_rate=learning_rate,\n",
    "    #                        epsilon=linear_epsilon_decay_arr[0], gamma=gamma, beta = 1)\n",
    "\n",
    "    # P1 = LevelKDPAgent_Dynamic(\n",
    "    #     k=4, \n",
    "    #     action_space=np.array(range(len(env.combined_actions))),\n",
    "    #     opponent_action_space=np.array(range(len(env.combined_actions))),\n",
    "    #     lower_level_k_epsilon=linear_epsilon_decay_arr[0],\n",
    "    #     n_states=n_states,\n",
    "    #     epsilon=linear_epsilon_decay_arr[0],\n",
    "    #     gamma=gamma,\n",
    "    #     initial_V_value=0,\n",
    "    #     player_id=0,\n",
    "    #     env=env\n",
    "    # ) \n",
    "\n",
    "    # P2 = ExpSmoother(env.available_actions_Adv, env.available_actions_Adv, learning_rate=0.7)\n",
    "    # P2 = RandomAgent( env.available_actions, p=0.5)\n",
    "    \n",
    "    \n",
    "    # P2 = LevelKDPAgent_Stationary(\n",
    "    #     k=2, \n",
    "    #     action_space=np.array(range(len(env.combined_actions))),\n",
    "    #     opponent_action_space=np.array(range(len(env.combined_actions))),\n",
    "    #     n_states=n_states,\n",
    "    #     epsilon=linear_epsilon_decay_arr[0],\n",
    "    #     gamma=gamma,\n",
    "    #     player_id=1,\n",
    "    #     env=env\n",
    "    # ) \n",
    "    \n",
    "    # P2 = ManhattanAgent(action_space=np.array(range(8)), coin_location = np.array([env.coin_0_pos, env.player_1_pos]), grid_size = grid_size, player_id = 1)\n",
    "\n",
    "    # P2 = LevelKDPAgent_Dynamic(\n",
    "    #     k=1, \n",
    "    #     action_space=np.array(range(len(env.combined_actions))),\n",
    "    #     opponent_action_space=np.array(range(len(env.combined_actions))),\n",
    "    #     n_states=n_states,\n",
    "    #     epsilon=linear_epsilon_decay_arr[0],\n",
    "    #     gamma=gamma,\n",
    "    #     player_id=1,\n",
    "    #     env=env\n",
    "    # ) \n",
    "\n",
    "    \n",
    "    P2 = ManhattanAgent_Ultra_Aggressive(action_space=np.array(range(8)), coin_location = np.array([env.coin_0_pos, env.coin_1_pos]), grid_size = grid_size, player_id = 1)\n",
    "\n",
    "    \n",
    "    # P1 = LevelKDPAgent_Stationary(\n",
    "    #     k=2, \n",
    "    #     action_space=np.array(range(len(env.combined_actions))),\n",
    "    #     opponent_action_space=np.array(range(len(env.combined_actions))),\n",
    "    #     lower_level_k_epsilon=linear_epsilon_decay_arr[0],\n",
    "    #     n_states=n_states,\n",
    "    #     epsilon=linear_epsilon_decay_arr[0],\n",
    "    #     gamma=gamma,\n",
    "    #     initial_V_value=0,\n",
    "    #     player_id=0,\n",
    "    #     env=env\n",
    "    # ) \n",
    "    \n",
    "    # P1 = LevelKDPAgent_NonStationary(\n",
    "    #     k=2,\n",
    "    #     action_space=np.array(range(len(env.combined_actions))),\n",
    "    #     opponent_action_space=np.array(range(len(env.combined_actions))),\n",
    "    #     n_states=n_states,\n",
    "    #     epsilon=linear_epsilon_decay_arr[0],\n",
    "    #     gamma=gamma,\n",
    "    #     player_id=0,\n",
    "    #     env=env\n",
    "    # ) \n",
    "    \n",
    "    # P1 = LevelKDPAgent_Dynamic(\n",
    "    #     k=2, \n",
    "    #     action_space=np.array(range(len(env.combined_actions))),\n",
    "    #     opponent_action_space=np.array(range(len(env.combined_actions))),\n",
    "    #     n_states=n_states,\n",
    "    #     epsilon=linear_epsilon_decay_arr[0],\n",
    "    #     gamma=gamma,\n",
    "    #     player_id=0,\n",
    "    #     env=env\n",
    "    # ) \n",
    "    \n",
    "    P1 = DPAgent_PerfectModel(\n",
    "         action_space = np.array(range(len(env.combined_actions))),\n",
    "         opponent_action_space = np.array(range(len(env.combined_actions))),\n",
    "         n_states=n_states,\n",
    "         gamma=gamma,\n",
    "         initial_V_value=0,\n",
    "         player_id=0,\n",
    "         termination_criterion=0.1,\n",
    "         value_iteration_max_num_of_iter=20000,\n",
    "         env=env,\n",
    "         opponent=P2\n",
    "    ) \n",
    "    \n",
    "    # P1 = ManhattanAgent(action_space=np.array(range(8)), coin_location = np.array([env.coin_0_pos, env.player_1_pos]), grid_size = grid_size, player_id = 0)\n",
    "\n",
    "\n",
    "    \n",
    "    # Reset the reward vectors for the experiment\n",
    "    r0s = []\n",
    "    r1s = []\n",
    "    \n",
    "    # Trajectory logs for visualization\n",
    "    trajectory_logs_single_experiment = []\n",
    "    \n",
    "    # Run through episodes\n",
    "    for i in tqdm(range(n_iter), desc=f\"Epochs (Exp {n+1})\"):\n",
    "\n",
    "        # Initialize the end of episode flag\n",
    "        done = False\n",
    "        # Reset the environment after each episode\n",
    "        env.reset()\n",
    "        # Get the initial state\n",
    "        s = env.get_state()\n",
    "        # Trajectory log for this episode\n",
    "        trajectory_log_single_epoch = []\n",
    "        \n",
    "        # Log the initial state immediately after env.reset()\n",
    "        trajectory_log_single_epoch.append({\n",
    "            'DM_location_old': [\"None\", \"None\"],\n",
    "            'Adv_location_old': [\"None\", \"None\"],\n",
    "            'DM_location_new': env.player_0_pos.copy(),\n",
    "            'Adv_location_new': env.player_1_pos.copy(),\n",
    "            'coin1': env.coin_0_pos.copy() if env.coin0_available else None,\n",
    "            'coin2': env.coin_1_pos.copy() if env.coin1_available else None, \n",
    "            'action_DM': [\"None\", \"None\"],\n",
    "            'action_Adv': [\"None\", \"None\"],\n",
    "            'reward_DM': None,\n",
    "            'reward_Adv': None,\n",
    "            'state': s, \n",
    "            'experiment': n,\n",
    "            'epoch': i\n",
    "        })\n",
    "\n",
    "        # Initialize cummulative observed rewards for this episode\n",
    "        episode_rewards_DM = 0\n",
    "        episode_rewards_Adv = 0\n",
    "        s_new = env.get_state()\n",
    "        # While the agents have not reached the terminal state\n",
    "        while not done:\n",
    "            # Agents choose actions \n",
    "            # * Note: They choose the actions simultaneously\n",
    "            a1 = P1.act(obs=s, env=env)\n",
    "            a2 = P2.act(obs=s, env=None)\n",
    "            \n",
    "            # Save locations for logging before a step is made\n",
    "            DM_location_old = env.player_0_pos.copy()\n",
    "            Adv_location_old = env.player_1_pos.copy()\n",
    "            \n",
    "            # DP agent performs update before next state is evaluated\n",
    "\n",
    "        \n",
    "            # Transition to next time step\n",
    "            s_new, rewards, done =  env.step((a1,a2))\n",
    "\n",
    "\n",
    "            # Update the Q matrix of adversary\n",
    "            #P1.update(s, (a1, a2), rewards=(rewards[0], rewards[1]), new_obs=s_new)\n",
    "            P1.update(s, (a1, a2), new_obs=s_new, rewards = None)\n",
    "            # P2.update(s, (a1, a2), new_obs=s_new, rewards = None)\n",
    "            #P2.update(s, (a1, a2), rewards=(rewards[0],rewards[1]), new_obs=s_new)\n",
    "            \n",
    "            # P2.update(s, (a2, a1), s_new, (rewards[1], rewards[0]))\n",
    "            # P2.update(s, (a1, a2))\n",
    "\n",
    "            \n",
    "            # Set the current state to the new state\n",
    "            s = s_new  \n",
    "            \n",
    "            # Add the observed reward to the episode reward of both agents \n",
    "            # * Note: The rewards are observed simultaneously\n",
    "            episode_rewards_DM += rewards[0]\n",
    "            episode_rewards_Adv += rewards[1]\n",
    "        \n",
    "            # Log state in single episode\n",
    "            trajectory_log_single_epoch.append({\n",
    "                'DM_location_old': DM_location_old,\n",
    "                'Adv_location_old': Adv_location_old,\n",
    "                'DM_location_new': env.player_0_pos.copy(),\n",
    "                'Adv_location_new': env.player_1_pos.copy(),\n",
    "                'coin1': env.coin_0_pos.copy() if env.coin0_available else None,\n",
    "                'coin2': env.coin_1_pos.copy() if env.coin1_available else None, \n",
    "                'action_DM': env.combined_actions[a1],\n",
    "                'action_Adv': env.combined_actions[a2],\n",
    "                'reward_DM': rewards[0],\n",
    "                'reward_Adv': rewards[1],\n",
    "                'experiment': n,\n",
    "                'epoch': i\n",
    "            })\n",
    "            \n",
    "        # Append the episode rewards to the list of rewards for this experiment\n",
    "        r0s.append(episode_rewards_DM)\n",
    "        # Append the episode rewards to the list of rewards for this experiment\n",
    "        r1s.append(episode_rewards_Adv)\n",
    "        \n",
    "        # Append the trajectory log for this epoch to experiment log \n",
    "        trajectory_logs_single_experiment.append(trajectory_log_single_epoch)\n",
    "        \n",
    "        # After an epoch apply decay to exploration parameter\n",
    "        P1.update_epsilon(linear_epsilon_decay_arr[i], linear_epsilon_decay_arr[i])\n",
    "        #P2.update_epsilon(linear_epsilon_decay_arr[i], linear_epsilon_decay_arr[i])\n",
    "        \n",
    "    # Append the trajectory logs of this experiment to the total logs\n",
    "    trajectory_logs_all_experiments.append(trajectory_logs_single_experiment)\n",
    "    \n",
    "    env.reset() # Reset the environment at the very end\n",
    "\n",
    "    r0ss.append(r0s)\n",
    "    r1ss.append(r1s)"
   ]
  },
  {
   "cell_type": "code",
   "execution_count": null,
   "metadata": {},
   "outputs": [
    {
     "name": "stdout",
     "output_type": "stream",
     "text": [
      "Agent P1 successfully loaded from p1_agent.joblib\n",
      "Loaded agent is of type: <class 'agent_DP.DPAgent_PerfectModel'>\n",
      "Loaded agent's level k: 1\n"
     ]
    }
   ],
   "source": [
    "# # This is the filename we'll save the agent to\n",
    "# filename = 'p1_agent.joblib'\n",
    "\n",
    "# # joblib.dump saves the object to the file\n",
    "# joblib.dump(P1, filename)\n",
    "\n",
    "# print(f\"Agent P1 successfully saved to {filename}\")\n",
    "\n",
    "\n",
    "\n",
    "# filename = 'p1_agent.joblib'\n",
    "\n",
    "# # joblib.load reads the object from the file\n",
    "# P1 = joblib.load(filename)\n",
    "\n",
    "# print(f\"Agent P1 successfully loaded from {filename}\")\n",
    "# print(f\"Loaded agent is of type: {type(P1)}\")\n",
    "# print(f\"Loaded agent's level k: {P1.k}\")\n"
   ]
  },
  {
   "cell_type": "code",
   "execution_count": 6,
   "metadata": {},
   "outputs": [
    {
     "data": {
      "image/png": "[encoded data removed]",
      "text/plain": [
       "<Figure size 640x480 with 1 Axes>"
      ]
     },
     "metadata": {},
     "output_type": "display_data"
    }
   ],
   "source": [
    "plot(r0ss, r1ss, moving_average_window_size=10, dir = None)"
   ]
  },
  {
   "cell_type": "code",
   "execution_count": 11,
   "metadata": {},
   "outputs": [
    {
     "ename": "KeyError",
     "evalue": "'p0_loc_new'",
     "output_type": "error",
     "traceback": [
      "\u001b[31m---------------------------------------------------------------------------\u001b[39m",
      "\u001b[31mKeyError\u001b[39m                                  Traceback (most recent call last)",
      "\u001b[36mCell\u001b[39m\u001b[36m \u001b[39m\u001b[32mIn[11]\u001b[39m\u001b[32m, line 4\u001b[39m\n\u001b[32m      1\u001b[39m experiment_num_to_display = \u001b[32m1\u001b[39m\n\u001b[32m      2\u001b[39m epoch_idx_to_display = \u001b[32m999\u001b[39m\n\u001b[32m----> \u001b[39m\u001b[32m4\u001b[39m \u001b[43manimate_trajectory_from_log\u001b[49m\u001b[43m(\u001b[49m\u001b[43mtrajectory_logs_all_experiments\u001b[49m\u001b[43m[\u001b[49m\u001b[43mexperiment_num_to_display\u001b[49m\u001b[43m]\u001b[49m\u001b[43m[\u001b[49m\u001b[43mepoch_idx_to_display\u001b[49m\u001b[43m]\u001b[49m\u001b[43m[\u001b[49m\u001b[43m:\u001b[49m\u001b[38;5;28;43mlen\u001b[39;49m\u001b[43m(\u001b[49m\u001b[43mtrajectory_logs_all_experiments\u001b[49m\u001b[43m[\u001b[49m\u001b[43mexperiment_num_to_display\u001b[49m\u001b[43m]\u001b[49m\u001b[43m[\u001b[49m\u001b[43mepoch_idx_to_display\u001b[49m\u001b[43m]\u001b[49m\u001b[43m)\u001b[49m\u001b[43m]\u001b[49m\u001b[43m,\u001b[49m\u001b[43m \u001b[49m\u001b[43mgrid_size\u001b[49m\u001b[43m=\u001b[49m\u001b[43mgrid_size\u001b[49m\u001b[43m,\u001b[49m\u001b[43m \u001b[49m\u001b[43mfps\u001b[49m\u001b[43m=\u001b[49m\u001b[32;43m1\u001b[39;49m\u001b[43m,\u001b[49m\u001b[43m \u001b[49m\u001b[43mdpi\u001b[49m\u001b[43m=\u001b[49m\u001b[32;43m100\u001b[39;49m\u001b[43m)\u001b[49m\n",
      "\u001b[36mFile \u001b[39m\u001b[32m~/Github/ARAMARL_TMDP_DP/TMDP_DP/utils/plot_utils.py:168\u001b[39m, in \u001b[36manimate_trajectory_from_log\u001b[39m\u001b[34m(trajectory_log, grid_size, fps, dpi)\u001b[39m\n\u001b[32m    159\u001b[39m     \u001b[38;5;28;01mreturn\u001b[39;00m dm_dot, adv_dot, coin1_dot, coin2_dot, title\n\u001b[32m    161\u001b[39m ani = animation.FuncAnimation(\n\u001b[32m    162\u001b[39m     fig, update,\n\u001b[32m    163\u001b[39m     frames=\u001b[38;5;28mlen\u001b[39m(trajectory_log),\n\u001b[32m   (...)\u001b[39m\u001b[32m    166\u001b[39m     repeat=\u001b[38;5;28;01mFalse\u001b[39;00m\n\u001b[32m    167\u001b[39m )\n\u001b[32m--> \u001b[39m\u001b[32m168\u001b[39m \u001b[43mani\u001b[49m\u001b[43m.\u001b[49m\u001b[43msave\u001b[49m\u001b[43m(\u001b[49m\u001b[33;43m\"\u001b[39;49m\u001b[33;43mtrajectory.mp4\u001b[39;49m\u001b[33;43m\"\u001b[39;49m\u001b[43m,\u001b[49m\u001b[43m \u001b[49m\u001b[43mwriter\u001b[49m\u001b[43m=\u001b[49m\u001b[33;43m\"\u001b[39;49m\u001b[33;43mffmpeg\u001b[39;49m\u001b[33;43m\"\u001b[39;49m\u001b[43m,\u001b[49m\u001b[43m \u001b[49m\u001b[43mfps\u001b[49m\u001b[43m=\u001b[49m\u001b[43mfps\u001b[49m\u001b[43m,\u001b[49m\u001b[43m \u001b[49m\u001b[43mdpi\u001b[49m\u001b[43m=\u001b[49m\u001b[43mdpi\u001b[49m\u001b[43m)\u001b[49m\n\u001b[32m    170\u001b[39m \u001b[38;5;66;03m# Render and save the last frame as PNG with transparent background\u001b[39;00m\n\u001b[32m    171\u001b[39m \u001b[38;5;66;03m# update(len(trajectory_log)) \u001b[39;00m\n\u001b[32m    172\u001b[39m \u001b[38;5;66;03m# fig.patch.set_alpha(0.0)  # Make background transparent\u001b[39;00m\n\u001b[32m    173\u001b[39m \u001b[38;5;66;03m# fig.savefig(\"Coin_game_example.png\", dpi=1000, transparent=False, bbox_inches='tight')\u001b[39;00m\n\u001b[32m    175\u001b[39m plt.close(fig)\n",
      "\u001b[36mFile \u001b[39m\u001b[32m/opt/homebrew/Caskroom/miniforge/base/envs/TMDP_DP/lib/python3.13/site-packages/matplotlib/animation.py:1122\u001b[39m, in \u001b[36mAnimation.save\u001b[39m\u001b[34m(self, filename, writer, fps, dpi, codec, bitrate, extra_args, metadata, extra_anim, savefig_kwargs, progress_callback)\u001b[39m\n\u001b[32m   1119\u001b[39m \u001b[38;5;28;01mfor\u001b[39;00m data \u001b[38;5;129;01min\u001b[39;00m \u001b[38;5;28mzip\u001b[39m(*[a.new_saved_frame_seq() \u001b[38;5;28;01mfor\u001b[39;00m a \u001b[38;5;129;01min\u001b[39;00m all_anim]):\n\u001b[32m   1120\u001b[39m     \u001b[38;5;28;01mfor\u001b[39;00m anim, d \u001b[38;5;129;01min\u001b[39;00m \u001b[38;5;28mzip\u001b[39m(all_anim, data):\n\u001b[32m   1121\u001b[39m         \u001b[38;5;66;03m# TODO: See if turning off blit is really necessary\u001b[39;00m\n\u001b[32m-> \u001b[39m\u001b[32m1122\u001b[39m         \u001b[43manim\u001b[49m\u001b[43m.\u001b[49m\u001b[43m_draw_next_frame\u001b[49m\u001b[43m(\u001b[49m\u001b[43md\u001b[49m\u001b[43m,\u001b[49m\u001b[43m \u001b[49m\u001b[43mblit\u001b[49m\u001b[43m=\u001b[49m\u001b[38;5;28;43;01mFalse\u001b[39;49;00m\u001b[43m)\u001b[49m\n\u001b[32m   1123\u001b[39m         \u001b[38;5;28;01mif\u001b[39;00m progress_callback \u001b[38;5;129;01mis\u001b[39;00m \u001b[38;5;129;01mnot\u001b[39;00m \u001b[38;5;28;01mNone\u001b[39;00m:\n\u001b[32m   1124\u001b[39m             progress_callback(frame_number, total_frames)\n",
      "\u001b[36mFile \u001b[39m\u001b[32m/opt/homebrew/Caskroom/miniforge/base/envs/TMDP_DP/lib/python3.13/site-packages/matplotlib/animation.py:1157\u001b[39m, in \u001b[36mAnimation._draw_next_frame\u001b[39m\u001b[34m(self, framedata, blit)\u001b[39m\n\u001b[32m   1153\u001b[39m \u001b[38;5;28;01mdef\u001b[39;00m\u001b[38;5;250m \u001b[39m\u001b[34m_draw_next_frame\u001b[39m(\u001b[38;5;28mself\u001b[39m, framedata, blit):\n\u001b[32m   1154\u001b[39m     \u001b[38;5;66;03m# Breaks down the drawing of the next frame into steps of pre- and\u001b[39;00m\n\u001b[32m   1155\u001b[39m     \u001b[38;5;66;03m# post- draw, as well as the drawing of the frame itself.\u001b[39;00m\n\u001b[32m   1156\u001b[39m     \u001b[38;5;28mself\u001b[39m._pre_draw(framedata, blit)\n\u001b[32m-> \u001b[39m\u001b[32m1157\u001b[39m     \u001b[38;5;28;43mself\u001b[39;49m\u001b[43m.\u001b[49m\u001b[43m_draw_frame\u001b[49m\u001b[43m(\u001b[49m\u001b[43mframedata\u001b[49m\u001b[43m)\u001b[49m\n\u001b[32m   1158\u001b[39m     \u001b[38;5;28mself\u001b[39m._post_draw(framedata, blit)\n",
      "\u001b[36mFile \u001b[39m\u001b[32m/opt/homebrew/Caskroom/miniforge/base/envs/TMDP_DP/lib/python3.13/site-packages/matplotlib/animation.py:1789\u001b[39m, in \u001b[36mFuncAnimation._draw_frame\u001b[39m\u001b[34m(self, framedata)\u001b[39m\n\u001b[32m   1785\u001b[39m     \u001b[38;5;28mself\u001b[39m._save_seq = \u001b[38;5;28mself\u001b[39m._save_seq[-\u001b[38;5;28mself\u001b[39m._save_count:]\n\u001b[32m   1787\u001b[39m \u001b[38;5;66;03m# Call the func with framedata and args. If blitting is desired,\u001b[39;00m\n\u001b[32m   1788\u001b[39m \u001b[38;5;66;03m# func needs to return a sequence of any artists that were modified.\u001b[39;00m\n\u001b[32m-> \u001b[39m\u001b[32m1789\u001b[39m \u001b[38;5;28mself\u001b[39m._drawn_artists = \u001b[38;5;28;43mself\u001b[39;49m\u001b[43m.\u001b[49m\u001b[43m_func\u001b[49m\u001b[43m(\u001b[49m\u001b[43mframedata\u001b[49m\u001b[43m,\u001b[49m\u001b[43m \u001b[49m\u001b[43m*\u001b[49m\u001b[38;5;28;43mself\u001b[39;49m\u001b[43m.\u001b[49m\u001b[43m_args\u001b[49m\u001b[43m)\u001b[49m\n\u001b[32m   1791\u001b[39m \u001b[38;5;28;01mif\u001b[39;00m \u001b[38;5;28mself\u001b[39m._blit:\n\u001b[32m   1793\u001b[39m     err = \u001b[38;5;167;01mRuntimeError\u001b[39;00m(\u001b[33m'\u001b[39m\u001b[33mThe animation function must return a sequence \u001b[39m\u001b[33m'\u001b[39m\n\u001b[32m   1794\u001b[39m                        \u001b[33m'\u001b[39m\u001b[33mof Artist objects.\u001b[39m\u001b[33m'\u001b[39m)\n",
      "\u001b[36mFile \u001b[39m\u001b[32m~/Github/ARAMARL_TMDP_DP/TMDP_DP/utils/plot_utils.py:109\u001b[39m, in \u001b[36manimate_trajectory_from_log.<locals>.update\u001b[39m\u001b[34m(frame)\u001b[39m\n\u001b[32m    105\u001b[39m \u001b[38;5;28;01mdef\u001b[39;00m\u001b[38;5;250m \u001b[39m\u001b[34mupdate\u001b[39m(frame):\n\u001b[32m    106\u001b[39m     state = trajectory_log[frame]\n\u001b[32m--> \u001b[39m\u001b[32m109\u001b[39m     \u001b[38;5;28;01mif\u001b[39;00m \u001b[38;5;28misinstance\u001b[39m(\u001b[43mstate\u001b[49m\u001b[43m[\u001b[49m\u001b[33;43m'\u001b[39;49m\u001b[33;43mp0_loc_new\u001b[39;49m\u001b[33;43m'\u001b[39;49m\u001b[43m]\u001b[49m, (\u001b[38;5;28mlist\u001b[39m, np.ndarray)) \u001b[38;5;129;01mand\u001b[39;00m \u001b[38;5;28mlen\u001b[39m(state[\u001b[33m'\u001b[39m\u001b[33mp0_loc_new\u001b[39m\u001b[33m'\u001b[39m]) == \u001b[32m2\u001b[39m:\n\u001b[32m    110\u001b[39m         dm_dot.set_data([state[\u001b[33m'\u001b[39m\u001b[33mp0_loc_new\u001b[39m\u001b[33m'\u001b[39m][\u001b[32m1\u001b[39m]], [state[\u001b[33m'\u001b[39m\u001b[33mp0_loc_new\u001b[39m\u001b[33m'\u001b[39m][\u001b[32m0\u001b[39m]])\n\u001b[32m    111\u001b[39m     \u001b[38;5;28;01melse\u001b[39;00m:\n",
      "\u001b[31mKeyError\u001b[39m: 'p0_loc_new'"
     ]
    },
    {
     "data": {
      "image/png": "[encoded data removed]",
      "text/plain": [
       "<Figure size 1000x600 with 1 Axes>"
      ]
     },
     "metadata": {},
     "output_type": "display_data"
    }
   ],
   "source": [
    "experiment_num_to_display = 1\n",
    "epoch_idx_to_display = 999\n",
    "\n",
    "animate_trajectory_from_log(trajectory_logs_all_experiments[experiment_num_to_display][epoch_idx_to_display][:len(trajectory_logs_all_experiments[experiment_num_to_display][epoch_idx_to_display])], grid_size=grid_size, fps=1, dpi=100)\n"
   ]
  },
  {
   "cell_type": "code",
   "execution_count": null,
   "metadata": {},
   "outputs": [],
   "source": []
  },
  {
   "cell_type": "code",
   "execution_count": 10,
   "metadata": {},
   "outputs": [
    {
     "data": {
      "text/html": [
       "<video src=\"trajectory.mp4?cache=1752591318.085928\" controls  >\n",
       "      Your browser does not support the <code>video</code> element.\n",
       "    </video>"
      ],
      "text/plain": [
       "<IPython.core.display.Video object>"
      ]
     },
     "execution_count": 10,
     "metadata": {},
     "output_type": "execute_result"
    }
   ],
   "source": [
    "Video(url=\"trajectory.mp4?cache=\" + str(time.time()), embed=False)"
   ]
  }
 ],
 "metadata": {
  "@webio": {
   "lastCommId": null,
   "lastKernelId": null
  },
  "kernelspec": {
   "display_name": "TMDP_DP",
   "language": "python",
   "name": "python3"
  },
  "language_info": {
   "codemirror_mode": {
    "name": "ipython",
    "version": 3
   },
   "file_extension": ".py",
   "mimetype": "text/x-python",
   "name": "python",
   "nbconvert_exporter": "python",
   "pygments_lexer": "ipython3",
   "version": "3.13.1"
  }
 },
 "nbformat": 4,
 "nbformat_minor": 2
}
