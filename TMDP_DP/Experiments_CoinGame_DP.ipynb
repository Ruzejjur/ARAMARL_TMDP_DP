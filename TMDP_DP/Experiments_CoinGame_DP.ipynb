{
 "cells": [
  {
   "cell_type": "code",
   "execution_count": 1,
   "metadata": {
    "ExecuteTime": {
     "end_time": "2018-12-27T16:26:31.229451Z",
     "start_time": "2018-12-27T16:26:31.008474Z"
    },
    "collapsed": true
   },
   "outputs": [
    {
     "name": "stdout",
     "output_type": "stream",
     "text": [
      "Agents package successfully initialized.\n"
     ]
    }
   ],
   "source": [
    "# Importing necessary libraries\n",
    "import numpy as np\n",
    "\n",
    "import time \n",
    "\n",
    "from tqdm.notebook import tqdm\n",
    "\n",
    "from IPython.display import HTML\n",
    "from IPython.display import Video\n",
    "# Also ffmpeg is required for video saving\n",
    "import matplotlib.pyplot as plt\n",
    "from matplotlib.lines import Line2D\n",
    "import matplotlib.animation as animation\n",
    "import joblib\n",
    "\n",
    "# Importing custom modules\n",
    "from engine_DP import CoinGame\n",
    "from agents import (\n",
    "    ManhattanAgent, ManhattanAgent_Passive, ManhattanAgent_Aggressive, ManhattanAgent_Ultra_Aggressive,\n",
    "    IndQLearningAgentSoftmax, LevelKQAgent, LevelKQAgentSoftmax,\n",
    "    LevelKDPAgent_Stationary, LevelKDPAgent_NonStationary, LevelKDPAgent_Dynamic, DPAgent_PerfectModel)\n",
    "\n",
    "from auxilliary import linear_epsilon_decay"
   ]
  },
  {
   "cell_type": "code",
   "execution_count": 2,
   "metadata": {
    "ExecuteTime": {
     "end_time": "2018-12-27T16:26:31.342933Z",
     "start_time": "2018-12-27T16:26:31.329438Z"
    },
    "collapsed": true
   },
   "outputs": [],
   "source": [
    "def moving_average(a, n=3):\n",
    "    \"\"\"\n",
    "    Compute the simple moving average of a 1D array.\n",
    "\n",
    "    Parameters:\n",
    "        a (array-like): Input array containing numerical data.\n",
    "        n (int, optional): Window size for the moving average. Defaults to 3.\n",
    "\n",
    "    Returns:\n",
    "        ndarray: Array of moving averages with length len(a) - n + 1.\n",
    "    \"\"\"\n",
    "    # Compute cumulative sum of the input array as float\n",
    "    ret = np.cumsum(a, dtype=float)\n",
    "    \n",
    "    # Subtract the cumulative sum shifted by 'n' to get the sum over each window\n",
    "    ret[n:] = ret[n:] - ret[:-n]\n",
    "    \n",
    "    # Divide by window size to obtain the moving average\n",
    "    return ret[n - 1:] / n\n",
    "\n",
    "def plot(r0ss, r1ss, moving_average_window_size=1000, dir=None):\n",
    "    \"\"\"\n",
    "    Plot smoothed reward trajectories for two agents over multiple experiments.\n",
    "\n",
    "    Parameters:\n",
    "        r0ss (list of arrays): Rewards for Agent A across experiments.\n",
    "        r1ss (list of arrays): Rewards for Agent B across experiments.\n",
    "        dir (str, optional): If provided, saves the plot to 'dir.png'.\n",
    "\n",
    "    Returns:\n",
    "        None\n",
    "    \"\"\"\n",
    "    # Apply 'ggplot' style\n",
    "    plt.style.use('ggplot')\n",
    "\n",
    "    # Create figure and axis explicitly d\n",
    "    fig, ax = plt.subplots()\n",
    "\n",
    "    N_EXP = len(r0ss)\n",
    "\n",
    "    for i in range(N_EXP):\n",
    "        ax.plot(moving_average(r0ss[i], moving_average_window_size), 'b', alpha=0.05)\n",
    "        ax.plot(moving_average(r1ss[i], moving_average_window_size), 'r', alpha=0.05)\n",
    "\n",
    "    ax.plot(moving_average(np.mean(r0ss, axis=0), moving_average_window_size), 'b', alpha=0.5)\n",
    "    ax.plot(moving_average(np.mean(r1ss, axis=0), moving_average_window_size), 'r', alpha=0.5)\n",
    "\n",
    "    ax.set_xlabel('t')\n",
    "    ax.set_ylabel('R')\n",
    "\n",
    "    custom_lines = [Line2D([0], [0], color='b', label='DM'),\n",
    "                    Line2D([0], [0], color='r', label='Adversary')]\n",
    "    ax.legend(handles=custom_lines)\n",
    "\n",
    "    if dir is not None:\n",
    "        # Set figure background to transparent\n",
    "        fig.patch.set_alpha(0.0)\n",
    "        fig.savefig(f\"{dir}.png\", transparent=False, bbox_inches='tight')"
   ]
  },
  {
   "cell_type": "code",
   "execution_count": 3,
   "metadata": {},
   "outputs": [],
   "source": [
    "def animate_trajectory_from_log(trajectory_log, grid_size=4, fps=4, dpi=100):\n",
    "    \"\"\"\n",
    "    Animate a trajectory from an enriched trajectory log that includes actions and rewards.\n",
    "    \"\"\"\n",
    "    fig, ax = plt.subplots(figsize=(10, 6))\n",
    "    ax.set_xlim(-0.5, grid_size - 0.5)\n",
    "    ax.set_ylim(-0.5, grid_size - 0.5)\n",
    "    ax.set_xticks(range(grid_size))\n",
    "    ax.set_yticks(range(grid_size))\n",
    "    ax.set_aspect('equal')\n",
    "    ax.grid(True)\n",
    "\n",
    "    title = ax.set_title(\"\")\n",
    "    \n",
    "    info_text = fig.text(0.02, 0.5, \"\", ha='left', va='center', fontsize=10)\n",
    "    \n",
    "    move_action_codes = [\"Down\", \"Right\", \"Up\", \"Left\"]\n",
    "    action_push_codes = [\"No push\", \"Push\"]\n",
    "\n",
    "    # Agent and coin markers\n",
    "    dm_dot, = ax.plot([], [], 'bo', label='DM (Blue)')\n",
    "    adv_dot, = ax.plot([], [], 'ro', label='Adv (Red)')\n",
    "    coin1_dot, = ax.plot([], [], 'y*', label='Coin 1', markersize=15)\n",
    "    coin2_dot, = ax.plot([], [], 'g*', label='Coin 2', markersize=15)\n",
    "\n",
    "    ax.legend(loc='upper left', bbox_to_anchor=(1.05, 1), borderaxespad=0.)\n",
    "\n",
    "    def init():\n",
    "        dm_dot.set_data([], [])\n",
    "        adv_dot.set_data([], [])\n",
    "        coin1_dot.set_data([], [])\n",
    "        coin2_dot.set_data([], [])\n",
    "        title.set_text(\"\")\n",
    "        return dm_dot, adv_dot, coin1_dot, coin2_dot, title\n",
    "\n",
    "    def update(frame):\n",
    "        state = trajectory_log[frame]\n",
    "\n",
    "        \n",
    "        if isinstance(state['DM_location_new'], (list, np.ndarray)) and len(state['DM_location_new']) == 2:\n",
    "            dm_dot.set_data([state['DM_location_new'][1]], [state['DM_location_new'][0]])\n",
    "        else:\n",
    "            dm_dot.set_data([], [])\n",
    "\n",
    "        if isinstance(state['Adv_location_new'], (list, np.ndarray)) and len(state['Adv_location_new']) == 2:\n",
    "            adv_dot.set_data([state['Adv_location_new'][1]], [state['Adv_location_new'][0]])\n",
    "        else:\n",
    "            adv_dot.set_data([], [])\n",
    "\n",
    "        if isinstance(state['coin1'], (list, np.ndarray)) and len(state['coin1']) == 2:\n",
    "            coin1_dot.set_data([state['coin1'][1]], [state['coin1'][0]])\n",
    "        else:\n",
    "            coin1_dot.set_data([-10], [-10])  # hide\n",
    "\n",
    "        if isinstance(state['coin2'], (list, np.ndarray)) and len(state['coin2']) == 2:\n",
    "            coin2_dot.set_data([state['coin2'][1]], [state['coin2'][0]])\n",
    "        else:\n",
    "            coin2_dot.set_data([-10], [-10])  # hide\n",
    "\n",
    "        title.set_text(\n",
    "            f\"Exp {state['experiment'] + 1} | Ep {state['epoch'] + 1} | Step {frame}\"\n",
    "        )\n",
    "        \n",
    "       \n",
    "        if(np.array_equal(state['action_DM'], [\"None\", \"None\"])): \n",
    "            DM_action_string = [\"None\", \"None\"]\n",
    "        else: \n",
    "            DM_action_string = f\"DM Action: [{move_action_codes[state['action_DM'][0]]}, {action_push_codes[state['action_DM'][1]]}]\"\n",
    "            \n",
    "        if(np.array_equal(state['action_DM'], [\"None\", \"None\"])): \n",
    "            Adv_action_string = [\"None\", \"None\"]\n",
    "        else: \n",
    "            Adv_action_string = f\"Adv Action: [{move_action_codes[state['action_Adv'][0]]}, {action_push_codes[state['action_Adv'][1]]}]\"\n",
    "            \n",
    "        # Update a text box the grid for step and reward info\n",
    "        info_text.set_text(\n",
    "            (\n",
    "                f\"Prev. location DM: [{state['DM_location_old'][0]}, {state['DM_location_old'][1]}]\\n\"\n",
    "                f\"Curr. location DM: [{state['DM_location_new'][0]}, {state['DM_location_new'][1]}]\\n\"\n",
    "                f\"{DM_action_string}\\n\"\n",
    "                f\"DM reward: {state['reward_DM']}\\n\"\n",
    "                f\"\\n\"  # This adds a visual separation\n",
    "                f\"Prev. location Adv: [{state['Adv_location_old'][0]}, {state['Adv_location_old'][1]}]\\n\"\n",
    "                f\"Curr. location Adv: [{state['Adv_location_new'][0]}, {state['Adv_location_new'][1]}]\\n\"\n",
    "                f\"{Adv_action_string}\\n\"\n",
    "                f\"Adv reward: {state['reward_Adv']}\"\n",
    "            )\n",
    "        )\n",
    "\n",
    "        return dm_dot, adv_dot, coin1_dot, coin2_dot, title\n",
    "\n",
    "    ani = animation.FuncAnimation(\n",
    "        fig, update,\n",
    "        frames=len(trajectory_log),\n",
    "        init_func=init,\n",
    "        blit=False,\n",
    "        repeat=False\n",
    "    )\n",
    "    ani.save(\"trajectory.mp4\", writer=\"ffmpeg\", fps=fps, dpi=dpi)\n",
    "    \n",
    "    # Render and save the last frame as PNG with transparent background\n",
    "    # update(len(trajectory_log)) \n",
    "    # fig.patch.set_alpha(0.0)  # Make background transparent\n",
    "    # fig.savefig(\"Coin_game_example.png\", dpi=1000, transparent=False, bbox_inches='tight')\n",
    "    \n",
    "    plt.close(fig)"
   ]
  },
  {
   "cell_type": "markdown",
   "metadata": {},
   "source": [
    "## Experiment setup"
   ]
  },
  {
   "cell_type": "code",
   "execution_count": 8,
   "metadata": {},
   "outputs": [],
   "source": [
    "## Setup experiment 1\n",
    "\n",
    "# Number of experiments\n",
    "N_EXP = 1\n",
    "\n",
    "# Size of single dimension of the square grid\n",
    "grid_size = 7\n",
    "\n",
    "# Initialize environment \n",
    "env = CoinGame(max_steps=20000, size_square_grid=grid_size, push_distance=2)\n",
    "\n",
    "# Number of states \n",
    "n_states = env.n_states\n",
    "\n",
    "# Number of episodes \n",
    "n_iter = 10000\n",
    "\n",
    "# Constant gamma \n",
    "gamma = 0.95\n",
    "\n",
    "# Learning rate\n",
    "learning_rate = 0.5\n",
    "\n",
    "# Moving average window size for plotting \n",
    "moving_average_window_size = 100\n",
    "\n",
    "r0ss = []\n",
    "r1ss = []\n",
    "\n",
    "# Setup parameters for linear decay of exploration parameter\n",
    "epsilon_begin = 1\n",
    "epsilon_end = 0.1\n",
    "\n",
    "\n",
    "# Pre-calculate array of linearly decaying exploration parameter for both agents\n",
    "\n",
    "linear_epsilon_decay_arr = linear_epsilon_decay(epsilon_begin=epsilon_begin, epsilon_end=epsilon_end,n_iter=n_iter)\n",
    "\n"
   ]
  },
  {
   "cell_type": "code",
   "execution_count": null,
   "metadata": {},
   "outputs": [
    {
     "ename": "TypeError",
     "evalue": "IndQLearningAgent.update() got an unexpected keyword argument 'env'",
     "output_type": "error",
     "traceback": [
      "\u001b[31m---------------------------------------------------------------------------\u001b[39m",
      "\u001b[31mTypeError\u001b[39m                                 Traceback (most recent call last)",
      "\u001b[36mCell\u001b[39m\u001b[36m \u001b[39m\u001b[32mIn[14]\u001b[39m\u001b[32m, line 48\u001b[39m\n\u001b[32m     44\u001b[39m s_new, rewards, done =  env.step([a1,a2])\n\u001b[32m     46\u001b[39m \u001b[38;5;66;03m# Agents update their Q/Value functions\u001b[39;00m\n\u001b[32m     47\u001b[39m \u001b[38;5;66;03m# * Note: They update their Q/Value functions simultaneously\u001b[39;00m\n\u001b[32m---> \u001b[39m\u001b[32m48\u001b[39m \u001b[43mP1\u001b[49m\u001b[43m.\u001b[49m\u001b[43mupdate\u001b[49m\u001b[43m(\u001b[49m\u001b[43ms\u001b[49m\u001b[43m,\u001b[49m\u001b[43m \u001b[49m\u001b[43m[\u001b[49m\u001b[43ma1\u001b[49m\u001b[43m,\u001b[49m\u001b[43m \u001b[49m\u001b[43ma2\u001b[49m\u001b[43m]\u001b[49m\u001b[43m,\u001b[49m\u001b[43m \u001b[49m\u001b[43m[\u001b[49m\u001b[43mrewards\u001b[49m\u001b[43m[\u001b[49m\u001b[32;43m0\u001b[39;49m\u001b[43m]\u001b[49m\u001b[43m,\u001b[49m\u001b[43m \u001b[49m\u001b[43mrewards\u001b[49m\u001b[43m[\u001b[49m\u001b[32;43m1\u001b[39;49m\u001b[43m]\u001b[49m\u001b[43m]\u001b[49m\u001b[43m,\u001b[49m\u001b[43m \u001b[49m\u001b[43ms_new\u001b[49m\u001b[43m,\u001b[49m\u001b[43m \u001b[49m\u001b[43menv\u001b[49m\u001b[43m=\u001b[49m\u001b[38;5;28;43;01mNone\u001b[39;49;00m\u001b[43m)\u001b[49m\n\u001b[32m     49\u001b[39m P2.update(s, [a2, a1], [rewards[\u001b[32m1\u001b[39m], rewards[\u001b[32m0\u001b[39m]], s_new, env=\u001b[38;5;28;01mNone\u001b[39;00m)\n\u001b[32m     51\u001b[39m \u001b[38;5;66;03m# Set the current state to the new state\u001b[39;00m\n",
      "\u001b[31mTypeError\u001b[39m: IndQLearningAgent.update() got an unexpected keyword argument 'env'"
     ]
    }
   ],
   "source": [
    "# Run the experiments\n",
    "for n in range(N_EXP):\n",
    "    \n",
    "    ## Initialize agents\n",
    "    #* Note: The agent's here are reinitialized, instead reset can be done by reseting the Q matrix inside the agent.\n",
    "    \n",
    "    P1 = IndQLearningAgentSoftmax(np.array(range(8)), n_states, learning_rate=learning_rate,\n",
    "                           epsilon=epsilon_begin, gamma=gamma, opponent_action_space=None, beta = 1)\n",
    "    \n",
    "    P2 = IndQLearningAgentSoftmax(np.array(range(8)), n_states, learning_rate=learning_rate,\n",
    "                           epsilon=epsilon_begin, gamma=gamma, opponent_action_space=None, beta = 1)\n",
    "\n",
    "\n",
    "    # P2 = ExpSmoother(env.available_actions_Adv, env.available_actions_Adv, learning_rate=0.7)\n",
    "    # P2 = RandomAgent( env.available_actions, p=0.5)\n",
    "\n",
    "    \n",
    "    # Reset the reward vectors for the experiment\n",
    "    r0s = []\n",
    "    r1s = []\n",
    "    \n",
    "    # Run through episodes\n",
    "    for i in range(n_iter):\n",
    "\n",
    "        # Initialize the end of episode flag\n",
    "        done = False\n",
    "        # Reset the environment after each episode\n",
    "        env.reset()\n",
    "        # Get the initial state\n",
    "        s = env.get_state()\n",
    "        \n",
    "        # Initialize cummulative observed rewards for this episode\n",
    "        episode_rewards_DM = 0\n",
    "        episode_rewards_Adv = 0\n",
    "        \n",
    "        # While the agents have not reached the terminal state\n",
    "        while not done:\n",
    "            # Agents choose actions \n",
    "            # * Note: They choose the actions simultaneously\n",
    "            a1 = P1.act(obs=s, env=None)\n",
    "            a2 = P2.act(obs=s, env=None)\n",
    "\n",
    "            # Transition to next time step\n",
    "            s_new, rewards, done =  env.step([a1,a2])\n",
    "\n",
    "            # Agents update their Q/Value functions\n",
    "            # * Note: They update their Q/Value functions simultaneously\n",
    "            P1.update(s, [a1, a2], [rewards[0], rewards[1]], s_new, env=None)\n",
    "            P2.update(s, [a2, a1], [rewards[1], rewards[0]], s_new, env=None)\n",
    "            \n",
    "            # Set the current state to the new state\n",
    "            s = s_new  \n",
    "            \n",
    "            # Add the observed reward to the episode reward of both agents \n",
    "            # * Note: The rewards are observed simultaneously\n",
    "            episode_rewards_DM += rewards[0]\n",
    "            episode_rewards_Adv += rewards[1]\n",
    "            \n",
    "        # After an epoch apply decay to exploration parameter\n",
    "        P1.epsilon = linear_epsilon_decay_arr[i]\n",
    "        # P1.enemy.epsilon = linear_epsilon_decay_arr[i]\n",
    "        # P1.enemy.enemy.epsilon = linear_epsilon_decay_arr[i]\n",
    "        P2.epsilon = linear_epsilon_decay_arr[i]\n",
    "            \n",
    "        # Append the episode rewards to the list of rewards for this experiment\n",
    "        r0s.append(episode_rewards_DM)\n",
    "        # Append the episode rewards to the list of rewards for this experiment\n",
    "        r1s.append(episode_rewards_Adv)\n",
    "        \n",
    "        env.reset()\n",
    "    \n",
    "          \n",
    "\n",
    "    print(n)\n",
    "    r0ss.append(r0s)\n",
    "    r1ss.append(r1s)\n",
    "    \n",
    "plot(r0ss, r1ss, moving_average_window_size=moving_average_window_size, dir=None)"
   ]
  },
  {
   "cell_type": "code",
   "execution_count": 9,
   "metadata": {},
   "outputs": [
    {
     "data": {
      "application/vnd.jupyter.widget-view+json": {
       "model_id": "df2e588ec0114c91913ba8bac5ff6f2d",
       "version_major": 2,
       "version_minor": 0
      },
      "text/plain": [
       "Experiments:   0%|          | 0/1 [00:00<?, ?it/s]"
      ]
     },
     "metadata": {},
     "output_type": "display_data"
    },
    {
     "data": {
      "application/vnd.jupyter.widget-view+json": {
       "model_id": "0f9ab3ad12f346628e321485f5058cf4",
       "version_major": 2,
       "version_minor": 0
      },
      "text/plain": [
       "Initializing value function.:   0%|          | 0/38416 [00:00<?, ?it/s]"
      ]
     },
     "metadata": {},
     "output_type": "display_data"
    },
    {
     "data": {
      "application/vnd.jupyter.widget-view+json": {
       "model_id": "650ea539a1ac45358a17806857f9795d",
       "version_major": 2,
       "version_minor": 0
      },
      "text/plain": [
       "Initializing value function.:   0%|          | 0/38416 [00:00<?, ?it/s]"
      ]
     },
     "metadata": {},
     "output_type": "display_data"
    },
    {
     "data": {
      "application/vnd.jupyter.widget-view+json": {
       "model_id": "d883544c15524f37846e214433542f17",
       "version_major": 2,
       "version_minor": 0
      },
      "text/plain": [
       "Initializing value function.:   0%|          | 0/38416 [00:00<?, ?it/s]"
      ]
     },
     "metadata": {},
     "output_type": "display_data"
    },
    {
     "data": {
      "application/vnd.jupyter.widget-view+json": {
       "model_id": "ccc8313ea60b451f91d0f39f924154b1",
       "version_major": 2,
       "version_minor": 0
      },
      "text/plain": [
       "Epochs (Exp 1):   0%|          | 0/10000 [00:00<?, ?it/s]"
      ]
     },
     "metadata": {},
     "output_type": "display_data"
    },
    {
     "data": {
      "image/png": "[encoded data removed]",
      "text/plain": [
       "<Figure size 640x480 with 1 Axes>"
      ]
     },
     "metadata": {},
     "output_type": "display_data"
    }
   ],
   "source": [
    "r0ss = []\n",
    "r1ss = []\n",
    "\n",
    "# Total trajectory logs for all experiments\n",
    "trajectory_logs_all_experiments = []\n",
    "\n",
    "# Run the experiments\n",
    "for n in tqdm(range(N_EXP), desc=\"Experiments\"):\n",
    "    \n",
    "    #np.random.seed(n)\n",
    "    \n",
    "    ## Initialize agents\n",
    "    # TODO: Add reset method to individual agents and move them to initialization\n",
    "    #* Note: The agent's here are reinitialized, instead reset can be done by reseting the Q matrix inside the agent.\n",
    "    \n",
    "    P1 = LevelKQAgent(k=1, action_space=np.array(range(8)), opponent_action_space=np.array(range(8)),\n",
    "                      n_states=n_states, learning_rate=learning_rate, epsilon=epsilon_begin, gamma=gamma, grid_size=grid_size)\n",
    "    \n",
    "    # P1 = IndQLearningAgentSoftmax(np.array(range(8)), n_states, learning_rate=learning_rate,\n",
    "    #                        epsilon=linear_epsilon_decay_arr[0], gamma=gamma, opponent_action_space=None, beta = 1)\n",
    "\n",
    "    \n",
    "    # P2 = IndQLearningAgentSoftmax(np.array(range(8)), n_states, learning_rate=learning_rate,\n",
    "    #                        epsilon=epsilon_begin, gamma=gamma, opponent_action_space=None, beta = 1)\n",
    "    \n",
    "    # P2 = ManhattanAgent(action_space=np.array(range(8)), coin_location = np.array([env.coin_1, env.coin_2]), grid_size = grid_size, player_id = 1)\n",
    "\n",
    "    P2 = LevelKQAgent(k=2, action_space=np.array(range(8)), opponent_action_space=np.array(range(8)),\n",
    "                      n_states=n_states, learning_rate=learning_rate, epsilon=epsilon_begin, gamma=gamma, grid_size=grid_size)\n",
    "    \n",
    "    # Reset the reward vectors for the experiment\n",
    "    r0s = []\n",
    "    r1s = []\n",
    "    \n",
    "    # Trajectory logs for visualization\n",
    "    trajectory_logs_single_experiment = []\n",
    "    \n",
    "    # Run through episodes\n",
    "    for i in tqdm(range(n_iter), desc=f\"Epochs (Exp {n+1})\"):\n",
    "\n",
    "        # Initialize the end of episode flag\n",
    "        done = False\n",
    "        # Reset the environment after each episode\n",
    "        env.reset()\n",
    "        # Get the initial state\n",
    "        s = env.get_state()\n",
    "        # Trajectory log for this episode\n",
    "        trajectory_log_single_epoch = []\n",
    "        \n",
    "        # Log the initial state immediately after env.reset()\n",
    "        trajectory_log_single_epoch.append({\n",
    "            'DM_location_old': [\"None\", \"None\"],\n",
    "            'Adv_location_old': [\"None\", \"None\"],\n",
    "            'DM_location_new': env.blue_player.copy(),\n",
    "            'Adv_location_new': env.red_player.copy(),\n",
    "            'coin1': env.coin_1.copy() if env.coin1_available else None,\n",
    "            'coin2': env.coin_2.copy() if env.coin2_available else None, \n",
    "            'action_DM': [\"None\", \"None\"],\n",
    "            'action_Adv': [\"None\", \"None\"],\n",
    "            'reward_DM': None,\n",
    "            'reward_Adv': None,\n",
    "            'state': s, \n",
    "            'experiment': n,\n",
    "            'epoch': i\n",
    "        })\n",
    "\n",
    "        # Initialize cummulative observed rewards for this episode\n",
    "        episode_rewards_DM = 0\n",
    "        episode_rewards_Adv = 0\n",
    "        \n",
    "        # While the agents have not reached the terminal state\n",
    "        while not done:\n",
    "            # Agents choose actions \n",
    "            # * Note: They choose the actions simultaneously\n",
    "            a1 = P1.act(obs=s, env=None)\n",
    "            a2 = P2.act(obs=s, env=None)\n",
    "            \n",
    "            # Save locations for logging before a step is made\n",
    "            DM_location_old = env.blue_player.copy()\n",
    "            Adv_location_old = env.red_player.copy()\n",
    "            \n",
    "            # Transition to next time step\n",
    "            s_new, rewards, done =  env.step([a1,a2])\n",
    "\n",
    "            # Agents update their Q/Value functions\n",
    "            # * Note: They update their Q/Value functions simultaneously\n",
    "            P1.update(s, [a1, a2], [rewards[0], rewards[1]], s_new)\n",
    "            P2.update(s, [a2, a1], [rewards[1], rewards[0]], s_new)\n",
    "            \n",
    "            # Set the current state to the new state\n",
    "            s = s_new  \n",
    "            \n",
    "            # Add the observed reward to the episode reward of both agents \n",
    "            # * Note: The rewards are observed simultaneously\n",
    "            episode_rewards_DM += rewards[0]\n",
    "            episode_rewards_Adv += rewards[1]\n",
    "        \n",
    "            # Log state in single episode\n",
    "            trajectory_log_single_epoch.append({\n",
    "                'DM_location_old': DM_location_old,\n",
    "                'Adv_location_old': Adv_location_old,\n",
    "                'DM_location_new': env.blue_player.copy(),\n",
    "                'Adv_location_new': env.red_player.copy(),\n",
    "                'coin1': env.coin_1.copy() if env.coin1_available else None,\n",
    "                'coin2': env.coin_2.copy() if env.coin2_available else None, \n",
    "                'action_DM': env.combined_actions_blue[a1],\n",
    "                'action_Adv': env.combined_actions_red[a2],\n",
    "                'reward_DM': rewards[0],\n",
    "                'reward_Adv': rewards[1],\n",
    "                'experiment': n,\n",
    "                'epoch': i\n",
    "            })\n",
    "            \n",
    "        # Append the episode rewards to the list of rewards for this experiment\n",
    "        r0s.append(episode_rewards_DM)\n",
    "        # Append the episode rewards to the list of rewards for this experiment\n",
    "        r1s.append(episode_rewards_Adv)\n",
    "        \n",
    "        # Append the trajectory log for this epoch to experiment log \n",
    "        trajectory_logs_single_experiment.append(trajectory_log_single_epoch)\n",
    "        \n",
    "        # After an epoch apply decay to exploration parameter\n",
    "        # After an epoch apply decay to exploration parameter\n",
    "        P1.update_epsilon(linear_epsilon_decay_arr[i])\n",
    "        #P2.update_epsilon(linear_epsilon_decay_arr[i])\n",
    "        \n",
    "            \n",
    "    # Append the trajectory logs of this experiment to the total logs\n",
    "    trajectory_logs_all_experiments.append(trajectory_logs_single_experiment)\n",
    "    \n",
    "    env.reset() # Reset the environment at the very end\n",
    "    \n",
    "    r0ss.append(r0s)\n",
    "    r1ss.append(r1s)\n",
    "\n",
    "\n",
    "plot(r0ss, r1ss, moving_average_window_size=moving_average_window_size)"
   ]
  },
  {
   "cell_type": "code",
   "execution_count": 17,
   "metadata": {},
   "outputs": [
    {
     "data": {
      "application/vnd.jupyter.widget-view+json": {
       "model_id": "93652b71c95a442fa579d2e3768a69af",
       "version_major": 2,
       "version_minor": 0
      },
      "text/plain": [
       "Experiments:   0%|          | 0/1 [00:00<?, ?it/s]"
      ]
     },
     "metadata": {},
     "output_type": "display_data"
    },
    {
     "data": {
      "application/vnd.jupyter.widget-view+json": {
       "model_id": "1dadd39a5c684c0a99059d316eb5401c",
       "version_major": 2,
       "version_minor": 0
      },
      "text/plain": [
       "Initializing value function.:   0%|          | 0/38416 [00:00<?, ?it/s]"
      ]
     },
     "metadata": {},
     "output_type": "display_data"
    },
    {
     "data": {
      "application/vnd.jupyter.widget-view+json": {
       "model_id": "ee28500a1f1d4179a8c0baeefe767abd",
       "version_major": 2,
       "version_minor": 0
      },
      "text/plain": [
       "Pre-computing lookups for Level-2 DP Agent (Player DM):   0%|          | 0/38416 [00:00<?, ?it/s]"
      ]
     },
     "metadata": {},
     "output_type": "display_data"
    },
    {
     "data": {
      "application/vnd.jupyter.widget-view+json": {
       "model_id": "e87044789bcb44ada50ecbb30c0af87c",
       "version_major": 2,
       "version_minor": 0
      },
      "text/plain": [
       "Initializing value function.:   0%|          | 0/38416 [00:00<?, ?it/s]"
      ]
     },
     "metadata": {},
     "output_type": "display_data"
    },
    {
     "data": {
      "application/vnd.jupyter.widget-view+json": {
       "model_id": "9e8157495f804f41a0d03092085f76ca",
       "version_major": 2,
       "version_minor": 0
      },
      "text/plain": [
       "Pre-computing lookups for Level-1 DP Agent (Player Adv):   0%|          | 0/38416 [00:00<?, ?it/s]"
      ]
     },
     "metadata": {},
     "output_type": "display_data"
    },
    {
     "data": {
      "application/vnd.jupyter.widget-view+json": {
       "model_id": "eab6012ceff143eab66d7ed99ee83142",
       "version_major": 2,
       "version_minor": 0
      },
      "text/plain": [
       "Epochs (Exp 1):   0%|          | 0/1000 [00:00<?, ?it/s]"
      ]
     },
     "metadata": {},
     "output_type": "display_data"
    }
   ],
   "source": [
    "r0ss = []\n",
    "r1ss = []\n",
    "\n",
    "# Total trajectory logs for all experiments\n",
    "trajectory_logs_all_experiments = []\n",
    "\n",
    "# Run the experiments\n",
    "for n in tqdm(range(N_EXP), desc=\"Experiments\"):\n",
    "    \n",
    "    #np.random.seed(n)\n",
    "    \n",
    "    ## Initialize agents\n",
    "    P2 = IndQLearningAgentSoftmax(np.array(range(8)), n_states, learning_rate=learning_rate,\n",
    "                           epsilon=linear_epsilon_decay_arr[0], gamma=gamma, opponent_action_space=None, beta = 1)\n",
    "\n",
    "    # P2 = ExpSmoother(env.available_actions_Adv, env.available_actions_Adv, learning_rate=0.7)\n",
    "    # P2 = RandomAgent( env.available_actions, p=0.5)\n",
    "    \n",
    "    \n",
    "    # P2 = LevelKDPAgent_Stationary(\n",
    "    #     k=2, \n",
    "    #     action_space=np.array(range(len(env.combined_actions_blue))),\n",
    "    #     opponent_action_space=np.array(range(len(env.combined_actions_red))),\n",
    "    #     n_states=n_states,\n",
    "    #     epsilon=linear_epsilon_decay_arr[0],\n",
    "    #     gamma=gamma,\n",
    "    #     player_id=1,\n",
    "    #     env=env\n",
    "    # ) \n",
    "    \n",
    "    # P2 = ManhattanAgent(action_space=np.array(range(8)), coin_location = np.array([env.coin_1, env.coin_2]), grid_size = grid_size, player_id = 1)\n",
    "\n",
    "    # P2 = LevelKDPAgent_Dynamic(\n",
    "    #     k=1, \n",
    "    #     action_space=np.array(range(len(env.combined_actions_red))),\n",
    "    #     opponent_action_space=np.array(range(len(env.combined_actions_blue))),\n",
    "    #     n_states=n_states,\n",
    "    #     epsilon=linear_epsilon_decay_arr[0],\n",
    "    #     gamma=gamma,\n",
    "    #     player_id=1,\n",
    "    #     env=env\n",
    "    # ) \n",
    "\n",
    "    \n",
    "    # P1 = IndQLearningAgentSoftmax(np.array(range(8)), n_states, learning_rate=learning_rate,\n",
    "    #                        epsilon=linear_epsilon_decay_arr[0], gamma=gamma, opponent_action_space=None, beta = 1)\n",
    "\n",
    "    \n",
    "    P1 = LevelKDPAgent_Stationary(\n",
    "        k=2, \n",
    "        action_space=np.array(range(len(env.combined_actions_blue))),\n",
    "        opponent_action_space=np.array(range(len(env.combined_actions_red))),\n",
    "        n_states=n_states,\n",
    "        epsilon=linear_epsilon_decay_arr[0],\n",
    "        gamma=gamma,\n",
    "        player_id=0,\n",
    "        env=env\n",
    "    ) \n",
    "    \n",
    "    # P1 = LevelKDPAgent_NonStationary(\n",
    "    #     k=2,\n",
    "    #     action_space=np.array(range(len(env.combined_actions_blue))),\n",
    "    #     opponent_action_space=np.array(range(len(env.combined_actions_red))),\n",
    "    #     n_states=n_states,\n",
    "    #     epsilon=linear_epsilon_decay_arr[0],\n",
    "    #     gamma=gamma,\n",
    "    #     player_id=0,\n",
    "    #     env=env\n",
    "    # ) \n",
    "    \n",
    "    # P1 = LevelKDPAgent_Dynamic(\n",
    "    #     k=2, \n",
    "    #     action_space=np.array(range(len(env.combined_actions_blue))),\n",
    "    #     opponent_action_space=np.array(range(len(env.combined_actions_red))),\n",
    "    #     n_states=n_states,\n",
    "    #     epsilon=linear_epsilon_decay_arr[0],\n",
    "    #     gamma=gamma,\n",
    "    #     player_id=0,\n",
    "    #     env=env\n",
    "    # ) \n",
    "    \n",
    "    # P1 = DPAgent_PerfectModel(\n",
    "    #      action_space = np.array(range(len(env.combined_actions_blue))),\n",
    "    #      opponent_action_space = np.array(range(len(env.combined_actions_red))),\n",
    "    #      n_states=n_states,\n",
    "    #      gamma=gamma,\n",
    "    #      player_id=0,\n",
    "    #      env=env,\n",
    "    #      enemy=P2\n",
    "    # ) \n",
    "    \n",
    "    # P1 = ManhattanAgent(action_space=np.array(range(8)), coin_location = np.array([env.coin_1, env.coin_2]), grid_size = grid_size, player_id = 0)\n",
    "\n",
    "\n",
    "    \n",
    "    # Reset the reward vectors for the experiment\n",
    "    r0s = []\n",
    "    r1s = []\n",
    "    \n",
    "    # Trajectory logs for visualization\n",
    "    trajectory_logs_single_experiment = []\n",
    "    \n",
    "    # Run through episodes\n",
    "    for i in tqdm(range(n_iter), desc=f\"Epochs (Exp {n+1})\"):\n",
    "\n",
    "        # Initialize the end of episode flag\n",
    "        done = False\n",
    "        # Reset the environment after each episode\n",
    "        env.reset()\n",
    "        # Get the initial state\n",
    "        s = env.get_state()\n",
    "        # Trajectory log for this episode\n",
    "        trajectory_log_single_epoch = []\n",
    "        \n",
    "        # Log the initial state immediately after env.reset()\n",
    "        trajectory_log_single_epoch.append({\n",
    "            'DM_location_old': [\"None\", \"None\"],\n",
    "            'Adv_location_old': [\"None\", \"None\"],\n",
    "            'DM_location_new': env.blue_player.copy(),\n",
    "            'Adv_location_new': env.red_player.copy(),\n",
    "            'coin1': env.coin_1.copy() if env.coin1_available else None,\n",
    "            'coin2': env.coin_2.copy() if env.coin2_available else None, \n",
    "            'action_DM': [\"None\", \"None\"],\n",
    "            'action_Adv': [\"None\", \"None\"],\n",
    "            'reward_DM': None,\n",
    "            'reward_Adv': None,\n",
    "            'state': s, \n",
    "            'experiment': n,\n",
    "            'epoch': i\n",
    "        })\n",
    "\n",
    "        # Initialize cummulative observed rewards for this episode\n",
    "        episode_rewards_DM = 0\n",
    "        episode_rewards_Adv = 0\n",
    "        s_new = env.get_state()\n",
    "        # While the agents have not reached the terminal state\n",
    "        while not done:\n",
    "            # Agents choose actions \n",
    "            # * Note: They choose the actions simultaneously\n",
    "            a1 = P1.act(obs=s, env=env)\n",
    "            a2 = P2.act(obs=s, env=env)\n",
    "            \n",
    "            # Save locations for logging before a step is made\n",
    "            DM_location_old = env.blue_player.copy()\n",
    "            Adv_location_old = env.red_player.copy()\n",
    "            \n",
    "            # DP agent performs update before next state is evaluated\n",
    "\n",
    "        \n",
    "            # Transition to next time step\n",
    "            s_new, rewards, done =  env.step([a1,a2])\n",
    "\n",
    "\n",
    "            # Update the Q matrix of adversary\n",
    "            #P1.update(s, [a1, a2], rewards=[rewards[0], rewards[1]], new_obs=s_new)\n",
    "            P1.update(s, [a1, a2], rewards=None, new_obs=s_new)\n",
    "            #P2.update(s, [a1, a2], rewards=[rewards[0],rewards[1]], new_obs=s_new)\n",
    "            \n",
    "            P2.update(s, [a2, a1], [rewards[1], rewards[0]], s_new)\n",
    "            #P2.update(s, [a2, a1], None, s_new)\n",
    "\n",
    "            \n",
    "            # Set the current state to the new state\n",
    "            s = s_new  \n",
    "            \n",
    "            # Add the observed reward to the episode reward of both agents \n",
    "            # * Note: The rewards are observed simultaneously\n",
    "            episode_rewards_DM += rewards[0]\n",
    "            episode_rewards_Adv += rewards[1]\n",
    "        \n",
    "            # Log state in single episode\n",
    "            trajectory_log_single_epoch.append({\n",
    "                'DM_location_old': DM_location_old,\n",
    "                'Adv_location_old': Adv_location_old,\n",
    "                'DM_location_new': env.blue_player.copy(),\n",
    "                'Adv_location_new': env.red_player.copy(),\n",
    "                'coin1': env.coin_1.copy() if env.coin1_available else None,\n",
    "                'coin2': env.coin_2.copy() if env.coin2_available else None, \n",
    "                'action_DM': env.combined_actions_blue[a1],\n",
    "                'action_Adv': env.combined_actions_red[a2],\n",
    "                'reward_DM': rewards[0],\n",
    "                'reward_Adv': rewards[1],\n",
    "                'experiment': n,\n",
    "                'epoch': i\n",
    "            })\n",
    "            \n",
    "        # Append the episode rewards to the list of rewards for this experiment\n",
    "        r0s.append(episode_rewards_DM)\n",
    "        # Append the episode rewards to the list of rewards for this experiment\n",
    "        r1s.append(episode_rewards_Adv)\n",
    "        \n",
    "        # Append the trajectory log for this epoch to experiment log \n",
    "        trajectory_logs_single_experiment.append(trajectory_log_single_epoch)\n",
    "        \n",
    "        # After an epoch apply decay to exploration parameter\n",
    "        P1.update_epsilon(linear_epsilon_decay_arr[i])\n",
    "        P2.update_epsilon(linear_epsilon_decay_arr[i])\n",
    "        \n",
    "    # Append the trajectory logs of this experiment to the total logs\n",
    "    trajectory_logs_all_experiments.append(trajectory_logs_single_experiment)\n",
    "    \n",
    "    env.reset() # Reset the environment at the very end\n",
    "\n",
    "    r0ss.append(r0s)\n",
    "    r1ss.append(r1s)"
   ]
  },
  {
   "cell_type": "code",
   "execution_count": null,
   "metadata": {},
   "outputs": [
    {
     "name": "stdout",
     "output_type": "stream",
     "text": [
      "Agent P1 successfully loaded from p1_agent.joblib\n",
      "Loaded agent is of type: <class 'agent_DP.DPAgent_PerfectModel'>\n",
      "Loaded agent's level k: 1\n"
     ]
    }
   ],
   "source": [
    "# # This is the filename we'll save the agent to\n",
    "# filename = 'p1_agent.joblib'\n",
    "\n",
    "# # joblib.dump saves the object to the file\n",
    "# joblib.dump(P1, filename)\n",
    "\n",
    "# print(f\"Agent P1 successfully saved to {filename}\")\n",
    "\n",
    "\n",
    "\n",
    "# filename = 'p1_agent.joblib'\n",
    "\n",
    "# # joblib.load reads the object from the file\n",
    "# P1 = joblib.load(filename)\n",
    "\n",
    "# print(f\"Agent P1 successfully loaded from {filename}\")\n",
    "# print(f\"Loaded agent is of type: {type(P1)}\")\n",
    "# print(f\"Loaded agent's level k: {P1.k}\")\n"
   ]
  },
  {
   "cell_type": "code",
   "execution_count": 18,
   "metadata": {},
   "outputs": [
    {
     "data": {
      "image/png": "[encoded data removed]",
      "text/plain": [
       "<Figure size 640x480 with 1 Axes>"
      ]
     },
     "metadata": {},
     "output_type": "display_data"
    }
   ],
   "source": [
    "plot(r0ss, r1ss, moving_average_window_size=100, dir = None)"
   ]
  },
  {
   "cell_type": "code",
   "execution_count": 14,
   "metadata": {},
   "outputs": [],
   "source": [
    "experiment_num_to_display = 0\n",
    "epoch_idx_to_display = 9999\n",
    "\n",
    "animate_trajectory_from_log(trajectory_logs_all_experiments[experiment_num_to_display][epoch_idx_to_display][:len(trajectory_logs_all_experiments[experiment_num_to_display][epoch_idx_to_display])], grid_size=grid_size, fps=1, dpi=100)\n"
   ]
  },
  {
   "cell_type": "code",
   "execution_count": 15,
   "metadata": {},
   "outputs": [
    {
     "data": {
      "text/html": [
       "<video src=\"trajectory.mp4?cache=1752050562.4906182\" controls  >\n",
       "      Your browser does not support the <code>video</code> element.\n",
       "    </video>"
      ],
      "text/plain": [
       "<IPython.core.display.Video object>"
      ]
     },
     "execution_count": 15,
     "metadata": {},
     "output_type": "execute_result"
    }
   ],
   "source": [
    "Video(url=\"trajectory.mp4?cache=\" + str(time.time()), embed=False)"
   ]
  }
 ],
 "metadata": {
  "@webio": {
   "lastCommId": null,
   "lastKernelId": null
  },
  "kernelspec": {
   "display_name": "TMDP_DP",
   "language": "python",
   "name": "python3"
  },
  "language_info": {
   "codemirror_mode": {
    "name": "ipython",
    "version": 3
   },
   "file_extension": ".py",
   "mimetype": "text/x-python",
   "name": "python",
   "nbconvert_exporter": "python",
   "pygments_lexer": "ipython3",
   "version": "3.13.1"
  }
 },
 "nbformat": 4,
 "nbformat_minor": 2
}
