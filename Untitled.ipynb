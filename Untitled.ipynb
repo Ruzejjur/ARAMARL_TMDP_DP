{
 "cells": [
  {
   "cell_type": "code",
   "execution_count": 3,
   "metadata": {
    "collapsed": true
   },
   "outputs": [],
   "source": [
    "import numpy as np\n",
    "from engine import AdvRw2\n",
    "from agent import Level2QAgent, ExpSmoother, pLevel2QAgent, Level3QAgent\n",
    "%matplotlib inline\n",
    "import matplotlib.pyplot as plt"
   ]
  },
  {
   "cell_type": "code",
   "execution_count": 4,
   "metadata": {},
   "outputs": [],
   "source": [
    "np.random.seed(0)\n",
    "env = AdvRw2(max_steps=1, payout=50, batch_size=1)\n",
    "P1 = Level2QAgent(env.available_actions, env.available_actions, n_states=1, \n",
    "                      learning_rate=0.1, epsilon=0.1, gamma=0.96)\n",
    "P2 =  ExpSmoother(env.available_actions, env.available_actions, learning_rate=0.8)"
   ]
  },
  {
   "cell_type": "code",
   "execution_count": 5,
   "metadata": {},
   "outputs": [
    {
     "name": "stdout",
     "output_type": "stream",
     "text": [
      "0 0\n",
      "[[[0. 0.]\n",
      "  [0. 0.]]]\n",
      "0 1\n",
      "[[[5. 0.]\n",
      "  [0. 0.]]]\n",
      "0 1\n",
      "[[[ 5. -5.]\n",
      "  [ 0.  0.]]]\n",
      "0 1\n",
      "[[[ 5.  -9.5]\n",
      "  [ 0.   0. ]]]\n",
      "0 1\n",
      "[[[  5.   -13.55]\n",
      "  [  0.     0.  ]]]\n",
      "0 1\n",
      "[[[  5.    -17.195]\n",
      "  [  0.      0.   ]]]\n",
      "0 1\n",
      "[[[  5.     -20.4755]\n",
      "  [  0.       0.    ]]]\n",
      "0 1\n",
      "[[[  5.      -23.42795]\n",
      "  [  0.        0.     ]]]\n",
      "0 1\n",
      "[[[  5.       -26.085155]\n",
      "  [  0.         0.      ]]]\n",
      "0 1\n",
      "[[[  5.        -28.4766395]\n",
      "  [  0.          0.       ]]]\n"
     ]
    }
   ],
   "source": [
    "for i in range(10):\n",
    "    \n",
    "    a1 = P1.act()\n",
    "    a2 = P2.act()\n",
    "    \n",
    "    print(a1,a2)\n",
    "    print(P1.QA)\n",
    "\n",
    "\n",
    "    # World changes\n",
    "    _, rewards, done =  env.step([a1,a2])\n",
    "\n",
    "\n",
    "    # Agents learn\n",
    "\n",
    "    P1.update(0, [a1, a2], [rewards[0], rewards[1]], 0)\n",
    "    P2.update(0, [a2, a1], [rewards[1], rewards[0]], 0)\n"
   ]
  },
  {
   "cell_type": "code",
   "execution_count": 6,
   "metadata": {
    "collapsed": true
   },
   "outputs": [],
   "source": [
    "np.random.seed(0)\n",
    "env = AdvRw2(max_steps=1, payout=50, batch_size=1)\n",
    "P1 = pLevel2QAgent(env.available_actions, env.available_actions, n_states=1, \n",
    "                      learning_rate=0.1, epsilon=0.1, gamma=0.96)\n",
    "P2 =  ExpSmoother(env.available_actions, env.available_actions, learning_rate=0.8)"
   ]
  },
  {
   "cell_type": "code",
   "execution_count": 7,
   "metadata": {},
   "outputs": [
    {
     "name": "stdout",
     "output_type": "stream",
     "text": [
      "0 0\n",
      "[[[0. 0.]\n",
      "  [0. 0.]]]\n",
      "0 1\n",
      "[[[5. 0.]\n",
      "  [0. 0.]]]\n",
      "0 1\n",
      "[[[ 5. -5.]\n",
      "  [ 0.  0.]]]\n",
      "0 1\n",
      "[[[ 5.  -9.5]\n",
      "  [ 0.   0. ]]]\n",
      "0 1\n",
      "[[[  5.   -13.55]\n",
      "  [  0.     0.  ]]]\n",
      "0 1\n",
      "[[[  5.    -17.195]\n",
      "  [  0.      0.   ]]]\n",
      "0 1\n",
      "[[[  5.     -20.4755]\n",
      "  [  0.       0.    ]]]\n",
      "0 1\n",
      "[[[  5.      -23.42795]\n",
      "  [  0.        0.     ]]]\n",
      "0 1\n",
      "[[[  5.       -26.085155]\n",
      "  [  0.         0.      ]]]\n",
      "0 1\n",
      "[[[  5.        -28.4766395]\n",
      "  [  0.          0.       ]]]\n"
     ]
    }
   ],
   "source": [
    "for i in range(10):\n",
    "    \n",
    "    a1 = P1.act()\n",
    "    a2 = P2.act()\n",
    "    \n",
    "    print(a1,a2)\n",
    "    print(P1.QA)\n",
    "\n",
    "\n",
    "    # World changes\n",
    "    _, rewards, done =  env.step([a1,a2])\n",
    "\n",
    "\n",
    "    # Agents learn\n",
    "\n",
    "    P1.update(0, [a1, a2], [rewards[0], rewards[1]], 0)\n",
    "    P2.update(0, [a2, a1], [rewards[1], rewards[0]], 0)"
   ]
  },
  {
   "cell_type": "code",
   "execution_count": null,
   "metadata": {
    "collapsed": true
   },
   "outputs": [],
   "source": []
  },
  {
   "cell_type": "code",
   "execution_count": null,
   "metadata": {
    "collapsed": true
   },
   "outputs": [],
   "source": []
  }
 ],
 "metadata": {
  "kernelspec": {
   "display_name": "Python 3",
   "language": "python",
   "name": "python3"
  },
  "language_info": {
   "codemirror_mode": {
    "name": "ipython",
    "version": 3
   },
   "file_extension": ".py",
   "mimetype": "text/x-python",
   "name": "python",
   "nbconvert_exporter": "python",
   "pygments_lexer": "ipython3",
   "version": "3.6.3"
  }
 },
 "nbformat": 4,
 "nbformat_minor": 2
}
