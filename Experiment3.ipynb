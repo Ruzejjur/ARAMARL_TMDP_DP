{
 "cells": [
  {
   "cell_type": "markdown",
   "metadata": {},
   "source": [
    "# Q learner with fictitious play"
   ]
  },
  {
   "cell_type": "code",
   "execution_count": 23,
   "metadata": {
    "collapsed": true
   },
   "outputs": [],
   "source": [
    "import numpy as np\n",
    "\n",
    "from engine import RMG\n",
    "from agent import RandomAgent, IndQLearningAgent, FPLearningAgent, Mem1FPLearningAgent,TFT"
   ]
  },
  {
   "cell_type": "code",
   "execution_count": 26,
   "metadata": {},
   "outputs": [],
   "source": [
    "batch_size = 1\n",
    "max_steps = 20\n",
    "gamma = 0.96\n",
    "\n",
    "# Reward matrix for the Iterated Prisoner's Dilemma\n",
    "ipd_rewards = np.array([[-1., 0.], [-3., -2.]])\n",
    "\n",
    "env = RMG(max_steps=max_steps, payouts=ipd_rewards, batch_size=batch_size)\n",
    "env.reset()\n",
    "\n",
    "possible_actions = [0, 1]  # Cooperate or Defect\n",
    "\n",
    "#p0, p1 = TFT(possible_actions),TFT(possible_actions)\n",
    "\n",
    "#p0, p1 = Mem1FPLearningAgent(possible_actions, possible_actions,\n",
    "#                            n_states=1, learning_rate=0.1, epsilon=0.1, gamma=gamma), TFT(possible_actions)\n",
    "\n",
    "p0, p1 = FPLearningAgent(possible_actions, possible_actions, n_states=1, learning_rate=0.05, epsilon=0.1, gamma=gamma),\\\n",
    "    TFT(possible_actions)\n",
    "\n",
    "#adversary, dm = IndQLearningAgent(possible_actions, n_states=1, learning_rate=0.05, epsilon=0.1, gamma=gamma), \\\n",
    "#    FPLearningAgent(possible_actions, possible_actions, n_states=1, learning_rate=0.05, epsilon=0.1, gamma=gamma)\n",
    "\n",
    "\n",
    "#p0, p1 = FPLearningAgent(possible_actions, possible_actions, n_states=1, learning_rate=0.05, epsilon=0.1, gamma=ga#mma), \\\n",
    "#    FPLearningAgent(possible_actions, possible_actions, n_states=1, learning_rate=0.05, epsilon=0.1, gamma=gamma)\n",
    "\n",
    "\n",
    "\n",
    "\n",
    "n_iter = 1000\n",
    "\n",
    "r0s = []\n",
    "r1s = []\n",
    "\n",
    "a0s = []\n",
    "a1s = []\n",
    "\n",
    "a0_prev = None\n",
    "a1_prev = None\n",
    "\n",
    "# State = Memory\n",
    "s = 0\n",
    "\n",
    "for i in range(n_iter):\n",
    "\n",
    "    # A full episode:\n",
    "    done = False\n",
    "\n",
    "    while not done:\n",
    "\n",
    "        # Agents decide\n",
    "        \n",
    "        a0 = p0.act()\n",
    "        #a1 = p1.act()\n",
    "\n",
    "        #a0 = p0.act( (a0_prev,a1_prev) )\n",
    "        a1 = p1.act( (a1_prev,a0_prev) )\n",
    "\n",
    "        # World changes\n",
    "        _, (r0, r1), done, _ = env.step(([a0], [a1]))\n",
    "\n",
    "        # Agents learn\n",
    "\n",
    "        #p0.update((a0_prev, a1_prev), (a0, a1), (r0, r1), (a0,a1) )\n",
    "        p0.update(s, (a0, a1), (r0, r1), s )\n",
    "        p1.update((a1_prev, a0_prev), (a1, a0), (r1, r0), (a1,a0) )\n",
    "\n",
    "        #s = new_s  #stateless!\n",
    "\n",
    "        #print(r0, r1)\n",
    "        r0s.append(r0[0])\n",
    "        r1s.append(r1[0])\n",
    "\n",
    "        a0s.append(a0)\n",
    "        a1s.append(a1)\n",
    "\n",
    "\n",
    "\n",
    "        a0_prev = a0\n",
    "        a1_prev = a1\n",
    "        \n",
    "\n",
    "    env.reset()"
   ]
  },
  {
   "cell_type": "code",
   "execution_count": 27,
   "metadata": {},
   "outputs": [
    {
     "data": {
      "text/html": [
       "<div>\n",
       "<style>\n",
       "    .dataframe thead tr:only-child th {\n",
       "        text-align: right;\n",
       "    }\n",
       "\n",
       "    .dataframe thead th {\n",
       "        text-align: left;\n",
       "    }\n",
       "\n",
       "    .dataframe tbody tr th {\n",
       "        vertical-align: top;\n",
       "    }\n",
       "</style>\n",
       "<table border=\"1\" class=\"dataframe\">\n",
       "  <thead>\n",
       "    <tr style=\"text-align: right;\">\n",
       "      <th></th>\n",
       "      <th>AD</th>\n",
       "      <th>DM</th>\n",
       "    </tr>\n",
       "  </thead>\n",
       "  <tbody>\n",
       "    <tr>\n",
       "      <th>19990</th>\n",
       "      <td>1</td>\n",
       "      <td>1</td>\n",
       "    </tr>\n",
       "    <tr>\n",
       "      <th>19991</th>\n",
       "      <td>1</td>\n",
       "      <td>1</td>\n",
       "    </tr>\n",
       "    <tr>\n",
       "      <th>19992</th>\n",
       "      <td>1</td>\n",
       "      <td>1</td>\n",
       "    </tr>\n",
       "    <tr>\n",
       "      <th>19993</th>\n",
       "      <td>1</td>\n",
       "      <td>1</td>\n",
       "    </tr>\n",
       "    <tr>\n",
       "      <th>19994</th>\n",
       "      <td>1</td>\n",
       "      <td>1</td>\n",
       "    </tr>\n",
       "    <tr>\n",
       "      <th>19995</th>\n",
       "      <td>1</td>\n",
       "      <td>0</td>\n",
       "    </tr>\n",
       "    <tr>\n",
       "      <th>19996</th>\n",
       "      <td>0</td>\n",
       "      <td>1</td>\n",
       "    </tr>\n",
       "    <tr>\n",
       "      <th>19997</th>\n",
       "      <td>1</td>\n",
       "      <td>0</td>\n",
       "    </tr>\n",
       "    <tr>\n",
       "      <th>19998</th>\n",
       "      <td>0</td>\n",
       "      <td>1</td>\n",
       "    </tr>\n",
       "    <tr>\n",
       "      <th>19999</th>\n",
       "      <td>1</td>\n",
       "      <td>0</td>\n",
       "    </tr>\n",
       "  </tbody>\n",
       "</table>\n",
       "</div>"
      ],
      "text/plain": [
       "       AD  DM\n",
       "19990   1   1\n",
       "19991   1   1\n",
       "19992   1   1\n",
       "19993   1   1\n",
       "19994   1   1\n",
       "19995   1   0\n",
       "19996   0   1\n",
       "19997   1   0\n",
       "19998   0   1\n",
       "19999   1   0"
      ]
     },
     "execution_count": 27,
     "metadata": {},
     "output_type": "execute_result"
    }
   ],
   "source": [
    "import pandas as pd\n",
    "actions = pd.DataFrame({\"DM\" : a0s, \"AD\" : a1s})\n",
    "actions.tail(10)"
   ]
  },
  {
   "cell_type": "code",
   "execution_count": 28,
   "metadata": {
    "collapsed": true
   },
   "outputs": [],
   "source": [
    "def moving_average(a, n=3) :\n",
    "    ret = np.cumsum(a, dtype=float)\n",
    "    ret[n:] = ret[n:] - ret[:-n]\n",
    "    return ret[n - 1:] / n"
   ]
  },
  {
   "cell_type": "markdown",
   "metadata": {},
   "source": [
    "We report moving avearage of rewards, since it's common in RL taks"
   ]
  },
  {
   "cell_type": "code",
   "execution_count": 32,
   "metadata": {},
   "outputs": [
    {
     "data": {
      "image/png": "[encoded data removed]",
      "text/plain": [
       "<matplotlib.figure.Figure at 0x7faf84d2a550>"
      ]
     },
     "metadata": {},
     "output_type": "display_data"
    }
   ],
   "source": [
    "%matplotlib inline\n",
    "import matplotlib.pyplot as plt\n",
    "\n",
    "# We set a fancy theme\n",
    "plt.style.use('ggplot')\n",
    "\n",
    "plt.axis([0, max_steps*n_iter, -3.5, 0.5])\n",
    "plt.plot(moving_average(r0s, 100),'b')\n",
    "plt.plot(moving_average(r1s, 100))\n",
    "\n",
    "plt.xlabel('t');\n",
    "plt.ylabel('R');\n",
    "\n",
    "plt.savefig('img/FPQvsQ.png')"
   ]
  },
  {
   "cell_type": "code",
   "execution_count": 6,
   "metadata": {},
   "outputs": [
    {
     "data": {
      "image/png": "[encoded data removed]",
      "text/plain": [
       "<matplotlib.figure.Figure at 0x7f7a63829128>"
      ]
     },
     "metadata": {},
     "output_type": "display_data"
    }
   ],
   "source": [
    "%matplotlib inline\n",
    "import matplotlib.pyplot as plt\n",
    "\n",
    "# We set a fancy theme\n",
    "plt.style.use('ggplot')\n",
    "\n",
    "plt.axis([0, max_steps*n_iter, -3.5, 0.5])\n",
    "for i in range(N_EXP):\n",
    "    plt.plot(moving_average(r0ss[i], 100), 'b', alpha=0.05)\n",
    "    plt.plot(moving_average(r1ss[i], 100), 'r', alpha=0.05)\n",
    "    \n",
    "plt.plot(moving_average(np.asarray(r0ss).mean(axis=0), 100), 'b', alpha=0.5)\n",
    "plt.plot(moving_average(np.asarray(r1ss).mean(axis=0), 100), 'r', alpha=0.5)\n",
    "\n",
    "plt.xlabel('t');\n",
    "plt.ylabel('R');\n",
    "\n",
    "plt.legend(['Agent A', 'Agent B']);\n",
    "\n",
    "plt.savefig('img/FPQvsQ.png')"
   ]
  },
  {
   "cell_type": "code",
   "execution_count": null,
   "metadata": {
    "collapsed": true
   },
   "outputs": [],
   "source": []
  }
 ],
 "metadata": {
  "anaconda-cloud": {},
  "kernelspec": {
   "display_name": "Python 3",
   "language": "python",
   "name": "python3"
  },
  "language_info": {
   "codemirror_mode": {
    "name": "ipython",
    "version": 3
   },
   "file_extension": ".py",
   "mimetype": "text/x-python",
   "name": "python",
   "nbconvert_exporter": "python",
   "pygments_lexer": "ipython3",
   "version": "3.6.3"
  }
 },
 "nbformat": 4,
 "nbformat_minor": 2
}
