{
 "cells": [
  {
   "cell_type": "markdown",
   "metadata": {},
   "source": [
    "# Q learner with fictitious play"
   ]
  },
  {
   "cell_type": "code",
   "execution_count": 37,
   "metadata": {},
   "outputs": [],
   "source": [
    "import numpy as np\n",
    "\n",
    "from engine import RMG\n",
    "from agent import RandomAgent, IndQLearningAgent, FPLearningAgent"
   ]
  },
  {
   "cell_type": "code",
   "execution_count": 38,
   "metadata": {},
   "outputs": [],
   "source": [
    "batch_size = 1\n",
    "max_steps = 20\n",
    "gamma = 0.96\n",
    "\n",
    "# Reward matrix for the Iterated Prisoner's Dilemma\n",
    "ipd_rewards = np.array([[-1., 0.], [-3., -2.]])\n",
    "\n",
    "env = RMG(max_steps=max_steps, payouts=ipd_rewards, batch_size=batch_size)\n",
    "env.reset()\n",
    "\n",
    "possible_actions = [0, 1]  # Cooperate or Defect\n",
    "\n",
    "\n",
    "adversary, dm = RandomAgent(possible_actions, p=0.1), \\\n",
    "    FPLearningAgent(possible_actions, possible_actions, n_states=1, learning_rate=0.05, epsilon=0.1, gamma=gamma)\n",
    "\n",
    "\n",
    "# Stateless interactions (agents do not have memory)\n",
    "s = 0"
   ]
  },
  {
   "cell_type": "code",
   "execution_count": 40,
   "metadata": {},
   "outputs": [],
   "source": [
    "n_iter = 1000\n",
    "\n",
    "r0s = []\n",
    "r1s = []\n",
    "\n",
    "for i in range(n_iter):\n",
    "\n",
    "    # A full episode:\n",
    "    done = False\n",
    "\n",
    "    while not done:\n",
    "\n",
    "        # Agents decide\n",
    "        a0 = dm.act()\n",
    "        a1 = adversary.act()\n",
    "\n",
    "        # World changes\n",
    "        _, (r0, r1), done, _ = env.step(([a0], [a1]))\n",
    "\n",
    "        # Agents learn\n",
    "        \n",
    "        dm.update(s, (a0, a1), (r0, r1), s )\n",
    "        adversary.update(s, (a1, a0), (r1, r0), s )\n",
    "\n",
    "        #s = new_s  #stateless!\n",
    "        \n",
    "        #print(r0, r1)\n",
    "        r0s.append(r0[0])\n",
    "        r1s.append(r1[0])\n",
    "\n",
    "    env.reset()"
   ]
  },
  {
   "cell_type": "code",
   "execution_count": 41,
   "metadata": {
    "collapsed": true
   },
   "outputs": [],
   "source": [
    "def moving_average(a, n=3) :\n",
    "    ret = np.cumsum(a, dtype=float)\n",
    "    ret[n:] = ret[n:] - ret[:-n]\n",
    "    return ret[n - 1:] / n"
   ]
  },
  {
   "cell_type": "markdown",
   "metadata": {},
   "source": [
    "We report moving avearage of rewards, since it's common in RL taks"
   ]
  },
  {
   "cell_type": "code",
   "execution_count": 42,
   "metadata": {},
   "outputs": [
    {
     "data": {
      "image/png": "[encoded data removed]",
      "text/plain": [
       "<matplotlib.figure.Figure at 0x7f14842c87b8>"
      ]
     },
     "metadata": {},
     "output_type": "display_data"
    }
   ],
   "source": [
    "%matplotlib inline\n",
    "import matplotlib.pyplot as plt\n",
    "\n",
    "# We set a fancy theme\n",
    "plt.style.use('ggplot')\n",
    "\n",
    "plt.axis([0, max_steps*n_iter, -3.5, 0.5])\n",
    "plt.plot(moving_average(r0s, 100))\n",
    "plt.plot(moving_average(r1s, 100))\n",
    "plt.xlabel('t');\n",
    "plt.ylabel('R');"
   ]
  }
 ],
 "metadata": {
  "kernelspec": {
   "display_name": "Python 3",
   "language": "python",
   "name": "python3"
  },
  "language_info": {
   "codemirror_mode": {
    "name": "ipython",
    "version": 3
   },
   "file_extension": ".py",
   "mimetype": "text/x-python",
   "name": "python",
   "nbconvert_exporter": "python",
   "pygments_lexer": "ipython3",
   "version": "3.6.3"
  }
 },
 "nbformat": 4,
 "nbformat_minor": 2
}
